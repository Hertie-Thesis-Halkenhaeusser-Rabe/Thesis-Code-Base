{
 "cells": [
  {
   "cell_type": "code",
   "execution_count": 1,
   "metadata": {
    "scrolled": true
   },
   "outputs": [
    {
     "name": "stdout",
     "output_type": "stream",
     "text": [
      "Reading package lists... Done\n",
      "Building dependency tree       \n",
      "Reading state information... Done\n",
      "python3.8-venv is already the newest version (3.8.10-0ubuntu1~20.04.6).\n",
      "0 upgraded, 0 newly installed, 0 to remove and 58 not upgraded.\n",
      "yes: standard output: Broken pipe\n"
     ]
    }
   ],
   "source": [
    "!yes | sudo apt install python3.8-venv"
   ]
  },
  {
   "cell_type": "code",
   "execution_count": 2,
   "metadata": {},
   "outputs": [
    {
     "name": "stdout",
     "output_type": "stream",
     "text": [
      "Reading package lists... Done\n",
      "Building dependency tree       \n",
      "Reading state information... Done\n",
      "g++ is already the newest version (4:9.3.0-1ubuntu2).\n",
      "gcc is already the newest version (4:9.3.0-1ubuntu2).\n",
      "0 upgraded, 0 newly installed, 0 to remove and 58 not upgraded.\n"
     ]
    }
   ],
   "source": [
    "!sudo apt-get install gcc g\\+\\+"
   ]
  },
  {
   "cell_type": "code",
   "execution_count": 3,
   "metadata": {},
   "outputs": [
    {
     "name": "stdout",
     "output_type": "stream",
     "text": [
      "Found existing installation: detectron2 0.6+cu111\n",
      "Uninstalling detectron2-0.6+cu111:\n",
      "  Would remove:\n",
      "    /usr/local/lib/python3.8/dist-packages/detectron2-0.6+cu111.dist-info/*\n",
      "    /usr/local/lib/python3.8/dist-packages/detectron2/*\n",
      "    /usr/local/lib/python3.8/dist-packages/tools/*\n",
      "Proceed (Y/n)?   Successfully uninstalled detectron2-0.6+cu111\n",
      "\u001b[33mWARNING: Running pip as the 'root' user can result in broken permissions and conflicting behaviour with the system package manager. It is recommended to use a virtual environment instead: https://pip.pypa.io/warnings/venv\u001b[0m\u001b[33m\n",
      "\u001b[0myes: standard output: Broken pipe\n"
     ]
    }
   ],
   "source": [
    "!yes | pip uninstall detectron2"
   ]
  },
  {
   "cell_type": "code",
   "execution_count": 5,
   "metadata": {},
   "outputs": [],
   "source": [
    "#johannes try\n",
    "#!pip install torch==1.10.1 torchvision==0.11.2 torchaudio==0.10.1"
   ]
  },
  {
   "cell_type": "code",
   "execution_count": 4,
   "metadata": {},
   "outputs": [
    {
     "name": "stdout",
     "output_type": "stream",
     "text": [
      "Looking in links: https://download.pytorch.org/whl/torch_stable.html\n",
      "Requirement already satisfied: torch==1.9.0+cu111 in /usr/local/lib/python3.8/dist-packages (1.9.0+cu111)\n",
      "Requirement already satisfied: torchvision==0.10.0+cu111 in /usr/local/lib/python3.8/dist-packages (0.10.0+cu111)\n",
      "Requirement already satisfied: torchaudio==0.9.0 in /usr/local/lib/python3.8/dist-packages (0.9.0)\n",
      "Requirement already satisfied: typing-extensions in /usr/local/lib/python3.8/dist-packages (from torch==1.9.0+cu111) (4.4.0)\n",
      "Requirement already satisfied: numpy in /usr/local/lib/python3.8/dist-packages (from torchvision==0.10.0+cu111) (1.23.4)\n",
      "Requirement already satisfied: pillow>=5.3.0 in /usr/local/lib/python3.8/dist-packages (from torchvision==0.10.0+cu111) (9.3.0)\n",
      "\u001b[33mWARNING: Running pip as the 'root' user can result in broken permissions and conflicting behaviour with the system package manager. It is recommended to use a virtual environment instead: https://pip.pypa.io/warnings/venv\u001b[0m\u001b[33m\n",
      "\u001b[0m"
     ]
    }
   ],
   "source": [
    "# dinah try\n",
    "!pip3 install torch==1.9.0+cu111 torchvision==0.10.0+cu111 torchaudio==0.9.0 -f https://download.pytorch.org/whl/torch_stable.html"
   ]
  },
  {
   "cell_type": "code",
   "execution_count": 5,
   "metadata": {},
   "outputs": [],
   "source": [
    "# use to remove old detectron installations\n",
    "!rm -r detectron2"
   ]
  },
  {
   "cell_type": "code",
   "execution_count": 7,
   "metadata": {},
   "outputs": [
    {
     "name": "stdout",
     "output_type": "stream",
     "text": [
      "Requirement already satisfied: ninja in /usr/local/lib/python3.8/dist-packages (1.11.1)\n",
      "\u001b[33mWARNING: Running pip as the 'root' user can result in broken permissions and conflicting behaviour with the system package manager. It is recommended to use a virtual environment instead: https://pip.pypa.io/warnings/venv\u001b[0m\u001b[33m\n",
      "\u001b[0m"
     ]
    }
   ],
   "source": [
    "!pip3 install ninja"
   ]
  },
  {
   "cell_type": "code",
   "execution_count": 8,
   "metadata": {},
   "outputs": [
    {
     "name": "stdout",
     "output_type": "stream",
     "text": [
      "Requirement already satisfied: setuptools==58.2.0 in /usr/local/lib/python3.8/dist-packages (58.2.0)\n",
      "\u001b[33mWARNING: Running pip as the 'root' user can result in broken permissions and conflicting behaviour with the system package manager. It is recommended to use a virtual environment instead: https://pip.pypa.io/warnings/venv\u001b[0m\u001b[33m\n",
      "\u001b[0m"
     ]
    }
   ],
   "source": [
    "!python3 -m pip install setuptools==58.2.0"
   ]
  },
  {
   "cell_type": "code",
   "execution_count": 9,
   "metadata": {
    "scrolled": true
   },
   "outputs": [],
   "source": [
    "#!python -m pip install 'git+https://github.com/facebookresearch/detectron2.git'"
   ]
  },
  {
   "cell_type": "code",
   "execution_count": 10,
   "metadata": {},
   "outputs": [],
   "source": [
    "#make sure detectron installation files knows where to find torch\n",
    "!LD_LIBRARY_PATH=.../python3.9/site-packages/torch/lib/nvidia/cublas/lib/:$LD_LIBRARY_PATH"
   ]
  },
  {
   "cell_type": "code",
   "execution_count": 11,
   "metadata": {
    "colab": {
     "base_uri": "https://localhost:8080/"
    },
    "executionInfo": {
     "elapsed": 22911,
     "status": "ok",
     "timestamp": 1675596988114,
     "user": {
      "displayName": "Johannes Halkenhäußer",
      "userId": "10212423884318197669"
     },
     "user_tz": -60
    },
    "id": "BnpY8yjyK4Mw",
    "outputId": "1b95e374-5a76-45af-a0d5-8abdfcabf71d",
    "scrolled": true
   },
   "outputs": [
    {
     "name": "stdout",
     "output_type": "stream",
     "text": [
      "Collecting pyyaml==5.3.1\n",
      "  Using cached PyYAML-5.3.1-cp38-cp38-linux_x86_64.whl\n",
      "Installing collected packages: pyyaml\n",
      "  Attempting uninstall: pyyaml\n",
      "    Found existing installation: PyYAML 5.1\n",
      "    Uninstalling PyYAML-5.1:\n",
      "      Successfully uninstalled PyYAML-5.1\n",
      "Successfully installed pyyaml-5.3.1\n",
      "\u001b[33mWARNING: Running pip as the 'root' user can result in broken permissions and conflicting behaviour with the system package manager. It is recommended to use a virtual environment instead: https://pip.pypa.io/warnings/venv\u001b[0m\u001b[33m\n",
      "\u001b[0mCloning into 'detectron2'...\n",
      "remote: Enumerating objects: 14935, done.\u001b[K\n",
      "remote: Counting objects: 100% (20/20), done.\u001b[K\n",
      "remote: Compressing objects: 100% (17/17), done.\u001b[K\n",
      "remote: Total 14935 (delta 7), reused 13 (delta 3), pack-reused 14915\u001b[K\n",
      "Receiving objects: 100% (14935/14935), 6.06 MiB | 20.74 MiB/s, done.\n",
      "Resolving deltas: 100% (10823/10823), done.\n",
      "Requirement already satisfied: Pillow>=7.1 in /usr/local/lib/python3.8/dist-packages (9.3.0)\n",
      "Requirement already satisfied: matplotlib in /usr/local/lib/python3.8/dist-packages (3.6.2)\n",
      "Requirement already satisfied: pycocotools>=2.0.2 in /usr/local/lib/python3.8/dist-packages (2.0.6)\n",
      "Requirement already satisfied: termcolor>=1.1 in /usr/local/lib/python3.8/dist-packages (2.1.0)\n",
      "Requirement already satisfied: yacs>=0.1.8 in /usr/local/lib/python3.8/dist-packages (0.1.8)\n",
      "Requirement already satisfied: tabulate in /usr/local/lib/python3.8/dist-packages (0.9.0)\n",
      "Requirement already satisfied: cloudpickle in /usr/local/lib/python3.8/dist-packages (2.2.1)\n",
      "Requirement already satisfied: tqdm>4.29.0 in /usr/local/lib/python3.8/dist-packages (4.65.0)\n",
      "Requirement already satisfied: tensorboard in /usr/local/lib/python3.8/dist-packages (2.11.0)\n",
      "Requirement already satisfied: fvcore<0.1.6,>=0.1.5 in /usr/local/lib/python3.8/dist-packages (0.1.5.post20221221)\n",
      "Requirement already satisfied: iopath<0.1.10,>=0.1.7 in /usr/local/lib/python3.8/dist-packages (0.1.9)\n",
      "Requirement already satisfied: omegaconf>=2.1 in /usr/local/lib/python3.8/dist-packages (2.3.0)\n",
      "Requirement already satisfied: hydra-core>=1.1 in /usr/local/lib/python3.8/dist-packages (1.3.2)\n",
      "Requirement already satisfied: black in /usr/local/lib/python3.8/dist-packages (21.4b2)\n",
      "Requirement already satisfied: packaging in /usr/local/lib/python3.8/dist-packages (23.0)\n",
      "Requirement already satisfied: kiwisolver>=1.0.1 in /usr/local/lib/python3.8/dist-packages (from matplotlib) (1.4.4)\n",
      "Requirement already satisfied: numpy>=1.19 in /usr/local/lib/python3.8/dist-packages (from matplotlib) (1.23.4)\n",
      "Requirement already satisfied: contourpy>=1.0.1 in /usr/local/lib/python3.8/dist-packages (from matplotlib) (1.0.6)\n",
      "Requirement already satisfied: cycler>=0.10 in /usr/local/lib/python3.8/dist-packages (from matplotlib) (0.11.0)\n",
      "Requirement already satisfied: python-dateutil>=2.7 in /usr/local/lib/python3.8/dist-packages (from matplotlib) (2.8.2)\n",
      "Requirement already satisfied: pyparsing>=2.2.1 in /usr/local/lib/python3.8/dist-packages (from matplotlib) (3.0.9)\n",
      "Requirement already satisfied: fonttools>=4.22.0 in /usr/local/lib/python3.8/dist-packages (from matplotlib) (4.38.0)\n",
      "Requirement already satisfied: PyYAML in /usr/local/lib/python3.8/dist-packages (from yacs>=0.1.8) (5.3.1)\n",
      "Requirement already satisfied: requests<3,>=2.21.0 in /usr/local/lib/python3.8/dist-packages (from tensorboard) (2.28.2)\n",
      "Requirement already satisfied: google-auth<3,>=1.6.3 in /usr/local/lib/python3.8/dist-packages (from tensorboard) (2.14.1)\n",
      "Requirement already satisfied: tensorboard-plugin-wit>=1.6.0 in /usr/local/lib/python3.8/dist-packages (from tensorboard) (1.8.1)\n",
      "Requirement already satisfied: absl-py>=0.4 in /usr/local/lib/python3.8/dist-packages (from tensorboard) (1.3.0)\n",
      "Requirement already satisfied: google-auth-oauthlib<0.5,>=0.4.1 in /usr/local/lib/python3.8/dist-packages (from tensorboard) (0.4.6)\n",
      "Requirement already satisfied: setuptools>=41.0.0 in /usr/local/lib/python3.8/dist-packages (from tensorboard) (58.2.0)\n",
      "Requirement already satisfied: protobuf<4,>=3.9.2 in /usr/local/lib/python3.8/dist-packages (from tensorboard) (3.19.6)\n",
      "Requirement already satisfied: markdown>=2.6.8 in /usr/local/lib/python3.8/dist-packages (from tensorboard) (3.4.1)\n",
      "Requirement already satisfied: werkzeug>=1.0.1 in /usr/local/lib/python3.8/dist-packages (from tensorboard) (2.2.2)\n",
      "Requirement already satisfied: wheel>=0.26 in /usr/local/lib/python3.8/dist-packages (from tensorboard) (0.38.4)\n",
      "Requirement already satisfied: grpcio>=1.24.3 in /usr/local/lib/python3.8/dist-packages (from tensorboard) (1.50.0)\n",
      "Requirement already satisfied: tensorboard-data-server<0.7.0,>=0.6.0 in /usr/local/lib/python3.8/dist-packages (from tensorboard) (0.6.1)\n",
      "Requirement already satisfied: portalocker in /usr/local/lib/python3.8/dist-packages (from iopath<0.1.10,>=0.1.7) (2.7.0)\n",
      "Requirement already satisfied: antlr4-python3-runtime==4.9.* in /usr/local/lib/python3.8/dist-packages (from omegaconf>=2.1) (4.9.3)\n",
      "Requirement already satisfied: importlib-resources in /usr/local/lib/python3.8/dist-packages (from hydra-core>=1.1) (5.10.0)\n",
      "Requirement already satisfied: toml>=0.10.1 in /usr/local/lib/python3.8/dist-packages (from black) (0.10.2)\n",
      "Requirement already satisfied: appdirs in /usr/local/lib/python3.8/dist-packages (from black) (1.4.4)\n",
      "Requirement already satisfied: regex>=2020.1.8 in /usr/local/lib/python3.8/dist-packages (from black) (2023.3.22)\n",
      "Requirement already satisfied: mypy-extensions>=0.4.3 in /usr/local/lib/python3.8/dist-packages (from black) (1.0.0)\n",
      "Requirement already satisfied: pathspec<1,>=0.8.1 in /usr/local/lib/python3.8/dist-packages (from black) (0.11.0)\n",
      "Requirement already satisfied: click>=7.1.2 in /usr/local/lib/python3.8/dist-packages (from black) (8.1.3)\n",
      "Requirement already satisfied: six>=1.9.0 in /usr/lib/python3/dist-packages (from google-auth<3,>=1.6.3->tensorboard) (1.14.0)\n",
      "Requirement already satisfied: pyasn1-modules>=0.2.1 in /usr/local/lib/python3.8/dist-packages (from google-auth<3,>=1.6.3->tensorboard) (0.2.8)\n",
      "Requirement already satisfied: rsa<5,>=3.1.4 in /usr/local/lib/python3.8/dist-packages (from google-auth<3,>=1.6.3->tensorboard) (4.9)\n",
      "Requirement already satisfied: cachetools<6.0,>=2.0.0 in /usr/local/lib/python3.8/dist-packages (from google-auth<3,>=1.6.3->tensorboard) (5.2.0)\n",
      "Requirement already satisfied: requests-oauthlib>=0.7.0 in /usr/local/lib/python3.8/dist-packages (from google-auth-oauthlib<0.5,>=0.4.1->tensorboard) (1.3.1)\n",
      "Requirement already satisfied: importlib-metadata>=4.4 in /usr/local/lib/python3.8/dist-packages (from markdown>=2.6.8->tensorboard) (5.0.0)\n",
      "Requirement already satisfied: idna<4,>=2.5 in /usr/lib/python3/dist-packages (from requests<3,>=2.21.0->tensorboard) (2.8)\n",
      "Requirement already satisfied: charset-normalizer<4,>=2 in /usr/local/lib/python3.8/dist-packages (from requests<3,>=2.21.0->tensorboard) (3.0.1)\n",
      "Requirement already satisfied: urllib3<1.27,>=1.21.1 in /usr/lib/python3/dist-packages (from requests<3,>=2.21.0->tensorboard) (1.25.8)\n",
      "Requirement already satisfied: certifi>=2017.4.17 in /usr/lib/python3/dist-packages (from requests<3,>=2.21.0->tensorboard) (2019.11.28)\n",
      "Requirement already satisfied: MarkupSafe>=2.1.1 in /usr/local/lib/python3.8/dist-packages (from werkzeug>=1.0.1->tensorboard) (2.1.1)\n",
      "Requirement already satisfied: zipp>=3.1.0 in /usr/local/lib/python3.8/dist-packages (from importlib-resources->hydra-core>=1.1) (3.10.0)\n",
      "Requirement already satisfied: pyasn1<0.5.0,>=0.4.6 in /usr/local/lib/python3.8/dist-packages (from pyasn1-modules>=0.2.1->google-auth<3,>=1.6.3->tensorboard) (0.4.8)\n",
      "Requirement already satisfied: oauthlib>=3.0.0 in /usr/local/lib/python3.8/dist-packages (from requests-oauthlib>=0.7.0->google-auth-oauthlib<0.5,>=0.4.1->tensorboard) (3.2.2)\n",
      "\u001b[33mWARNING: Running pip as the 'root' user can result in broken permissions and conflicting behaviour with the system package manager. It is recommended to use a virtual environment instead: https://pip.pypa.io/warnings/venv\u001b[0m\u001b[33m\n",
      "\u001b[0m"
     ]
    }
   ],
   "source": [
    "!python -m pip install pyyaml==5.3.1\n",
    "import sys, os, distutils.core\n",
    "# Note: This is a faster way to install detectron2 in Colab, but it does not include all functionalities.\n",
    "# See https://detectron2.readthedocs.io/tutorials/install.html for full installation instructions\n",
    "!git clone 'https://github.com/facebookresearch/detectron2'\n",
    "dist = distutils.core.run_setup(\"./detectron2/setup.py\")\n",
    "!python -m pip install {' '.join([f\"'{x}'\" for x in dist.install_requires])}\n",
    "sys.path.insert(0, os.path.abspath('./detectron2'))"
   ]
  },
  {
   "cell_type": "code",
   "execution_count": null,
   "metadata": {},
   "outputs": [],
   "source": []
  },
  {
   "cell_type": "code",
   "execution_count": 12,
   "metadata": {
    "colab": {
     "base_uri": "https://localhost:8080/"
    },
    "executionInfo": {
     "elapsed": 436,
     "status": "ok",
     "timestamp": 1675596988546,
     "user": {
      "displayName": "Johannes Halkenhäußer",
      "userId": "10212423884318197669"
     },
     "user_tz": -60
    },
    "id": "8lbUPGorLIfW",
    "outputId": "b0b28677-7ab1-44cc-930c-51a88084f46b"
   },
   "outputs": [
    {
     "name": "stdout",
     "output_type": "stream",
     "text": [
      "nvcc: NVIDIA (R) Cuda compiler driver\n",
      "Copyright (c) 2005-2021 NVIDIA Corporation\n",
      "Built on Sun_Feb_14_21:12:58_PST_2021\n",
      "Cuda compilation tools, release 11.2, V11.2.152\n",
      "Build cuda_11.2.r11.2/compiler.29618528_0\n",
      "torch:  1.9 ; cuda:  cu111\n",
      "detectron2: 0.6\n"
     ]
    }
   ],
   "source": [
    "import sys, os, distutils.core\n",
    "import torch, detectron2\n",
    "!nvcc --version\n",
    "TORCH_VERSION = \".\".join(torch.__version__.split(\".\")[:2])\n",
    "CUDA_VERSION = torch.__version__.split(\"+\")[-1]\n",
    "print(\"torch: \", TORCH_VERSION, \"; cuda: \", CUDA_VERSION)\n",
    "print(\"detectron2:\", detectron2.__version__)"
   ]
  },
  {
   "cell_type": "code",
   "execution_count": 13,
   "metadata": {},
   "outputs": [
    {
     "name": "stdout",
     "output_type": "stream",
     "text": [
      "Requirement already satisfied: opencv-python in /usr/local/lib/python3.8/dist-packages (4.7.0.72)\n",
      "Requirement already satisfied: numpy>=1.17.3 in /usr/local/lib/python3.8/dist-packages (from opencv-python) (1.23.4)\n",
      "\u001b[33mWARNING: Running pip as the 'root' user can result in broken permissions and conflicting behaviour with the system package manager. It is recommended to use a virtual environment instead: https://pip.pypa.io/warnings/venv\u001b[0m\u001b[33m\n",
      "\u001b[0m"
     ]
    }
   ],
   "source": [
    "!pip3 install opencv-python"
   ]
  },
  {
   "cell_type": "code",
   "execution_count": 14,
   "metadata": {},
   "outputs": [
    {
     "name": "stdout",
     "output_type": "stream",
     "text": [
      "Reading package lists... Done\n",
      "Building dependency tree       \n",
      "Reading state information... Done\n",
      "libgl1-mesa-glx is already the newest version (21.2.6-0ubuntu0.1~20.04.2).\n",
      "0 upgraded, 0 newly installed, 0 to remove and 58 not upgraded.\n",
      "yes: standard output: Broken pipe\n"
     ]
    }
   ],
   "source": [
    "!yes | sudo apt-get install libgl1-mesa-glx"
   ]
  },
  {
   "cell_type": "code",
   "execution_count": 15,
   "metadata": {
    "executionInfo": {
     "elapsed": 728,
     "status": "ok",
     "timestamp": 1675596989273,
     "user": {
      "displayName": "Johannes Halkenhäußer",
      "userId": "10212423884318197669"
     },
     "user_tz": -60
    },
    "id": "r3tW5K73LMHw"
   },
   "outputs": [],
   "source": [
    "# Some basic setup:\n",
    "# Setup detectron2 logger\n",
    "import detectron2\n",
    "from detectron2.utils.logger import setup_logger\n",
    "setup_logger()\n",
    "\n",
    "# import some common libraries\n",
    "import numpy as np\n",
    "import os\n",
    "import json\n",
    "import cv2\n",
    "import random\n",
    "\n",
    "from datetime import datetime\n",
    "#from google.colab.patches import cv2_imshow\n",
    "\n",
    "# import some common detectron2 utilities\n",
    "from detectron2 import model_zoo\n",
    "from detectron2.engine import DefaultPredictor\n",
    "from detectron2.config import get_cfg\n",
    "from detectron2.utils.visualizer import Visualizer\n",
    "from detectron2.data import MetadataCatalog, DatasetCatalog\n",
    "from detectron2.data.datasets import register_coco_instances\n"
   ]
  },
  {
   "cell_type": "code",
   "execution_count": 16,
   "metadata": {},
   "outputs": [],
   "source": [
    "!LD_LIBRARY_PATH=.../python3.9/site-packages/cv2/:$LD_LIBRARY_PATH"
   ]
  },
  {
   "cell_type": "code",
   "execution_count": 17,
   "metadata": {},
   "outputs": [
    {
     "data": {
      "text/plain": [
       "'/workspace/scripts'"
      ]
     },
     "execution_count": 17,
     "metadata": {},
     "output_type": "execute_result"
    }
   ],
   "source": [
    "os.getcwd()"
   ]
  },
  {
   "cell_type": "code",
   "execution_count": 19,
   "metadata": {
    "colab": {
     "base_uri": "https://localhost:8080/",
     "height": 294
    },
    "executionInfo": {
     "elapsed": 7,
     "status": "error",
     "timestamp": 1675524173583,
     "user": {
      "displayName": "Johannes Halkenhäußer",
      "userId": "10212423884318197669"
     },
     "user_tz": -60
    },
    "id": "BSV7C6p6Lv5O",
    "outputId": "416da254-8c50-4a02-c018-dae71b11402b"
   },
   "outputs": [],
   "source": [
    "## CRASHT DAS KERNEL !!\n",
    "#cv2.imshow(\"testimage\", im)"
   ]
  },
  {
   "cell_type": "markdown",
   "metadata": {
    "id": "bN3QOxMvYtPb"
   },
   "source": [
    "## Train on our dataset"
   ]
  },
  {
   "cell_type": "code",
   "execution_count": 20,
   "metadata": {},
   "outputs": [
    {
     "name": "stdout",
     "output_type": "stream",
     "text": [
      "env: CUDA_DEVICE_ORDER=PCI_BUS_ID\n",
      "env: CUDA_VISIBLE_DEVICES=3\n"
     ]
    }
   ],
   "source": [
    "%env CUDA_DEVICE_ORDER=PCI_BUS_ID\n",
    "%env CUDA_VISIBLE_DEVICES=3\n",
    "\n",
    "torch.cuda.empty_cache()\n"
   ]
  },
  {
   "cell_type": "code",
   "execution_count": 23,
   "metadata": {
    "scrolled": true
   },
   "outputs": [
    {
     "name": "stdout",
     "output_type": "stream",
     "text": [
      "|===========================================================================|\n",
      "|                  PyTorch CUDA memory summary, device ID 3                 |\n",
      "|---------------------------------------------------------------------------|\n",
      "|            CUDA OOMs: 0            |        cudaMalloc retries: 0         |\n",
      "|===========================================================================|\n",
      "|        Metric         | Cur Usage  | Peak Usage | Tot Alloc  | Tot Freed  |\n",
      "|---------------------------------------------------------------------------|\n",
      "| Allocated memory      |       0 B  |       0 B  |       0 B  |       0 B  |\n",
      "|       from large pool |       0 B  |       0 B  |       0 B  |       0 B  |\n",
      "|       from small pool |       0 B  |       0 B  |       0 B  |       0 B  |\n",
      "|---------------------------------------------------------------------------|\n",
      "| Active memory         |       0 B  |       0 B  |       0 B  |       0 B  |\n",
      "|       from large pool |       0 B  |       0 B  |       0 B  |       0 B  |\n",
      "|       from small pool |       0 B  |       0 B  |       0 B  |       0 B  |\n",
      "|---------------------------------------------------------------------------|\n",
      "| GPU reserved memory   |       0 B  |       0 B  |       0 B  |       0 B  |\n",
      "|       from large pool |       0 B  |       0 B  |       0 B  |       0 B  |\n",
      "|       from small pool |       0 B  |       0 B  |       0 B  |       0 B  |\n",
      "|---------------------------------------------------------------------------|\n",
      "| Non-releasable memory |       0 B  |       0 B  |       0 B  |       0 B  |\n",
      "|       from large pool |       0 B  |       0 B  |       0 B  |       0 B  |\n",
      "|       from small pool |       0 B  |       0 B  |       0 B  |       0 B  |\n",
      "|---------------------------------------------------------------------------|\n",
      "| Allocations           |       0    |       0    |       0    |       0    |\n",
      "|       from large pool |       0    |       0    |       0    |       0    |\n",
      "|       from small pool |       0    |       0    |       0    |       0    |\n",
      "|---------------------------------------------------------------------------|\n",
      "| Active allocs         |       0    |       0    |       0    |       0    |\n",
      "|       from large pool |       0    |       0    |       0    |       0    |\n",
      "|       from small pool |       0    |       0    |       0    |       0    |\n",
      "|---------------------------------------------------------------------------|\n",
      "| GPU reserved segments |       0    |       0    |       0    |       0    |\n",
      "|       from large pool |       0    |       0    |       0    |       0    |\n",
      "|       from small pool |       0    |       0    |       0    |       0    |\n",
      "|---------------------------------------------------------------------------|\n",
      "| Non-releasable allocs |       0    |       0    |       0    |       0    |\n",
      "|       from large pool |       0    |       0    |       0    |       0    |\n",
      "|       from small pool |       0    |       0    |       0    |       0    |\n",
      "|===========================================================================|\n",
      "\n"
     ]
    }
   ],
   "source": [
    "print(torch.cuda.memory_summary(device=3, abbreviated=False))"
   ]
  },
  {
   "cell_type": "code",
   "execution_count": 18,
   "metadata": {},
   "outputs": [],
   "source": [
    "# we set a counter to register the same dataset again under a different name when we are debugging\n",
    "global regis_num \n",
    "regis_num = 0"
   ]
  },
  {
   "cell_type": "code",
   "execution_count": 19,
   "metadata": {},
   "outputs": [],
   "source": [
    "# Taken from https://eidos-ai.medium.com/training-on-detectron2-with-a-validation-set-and-plot-loss-on-it-to-avoid-overfitting-6449418fbf4e\n",
    "# https://gist.github.com/ortegatron/c0dad15e49c2b74de8bb09a5615d9f6b\n",
    "\n",
    "from EvalLossHook import LossEvalHook\n",
    "from detectron2.engine import DefaultTrainer\n",
    "from detectron2.evaluation import COCOEvaluator, inference_on_dataset\n",
    "from detectron2.data import build_detection_test_loader\n",
    "from detectron2.data import DatasetMapper\n",
    "\n",
    "\n",
    "class MyTrainer(DefaultTrainer):\n",
    "    @classmethod\n",
    "    def build_evaluator(cls, cfg, dataset_name, output_folder=None):\n",
    "        if output_folder is None:\n",
    "            output_folder = os.path.join(cfg.OUTPUT_DIR, \"inference\")\n",
    "        return COCOEvaluator(dataset_name, cfg, True, output_folder)\n",
    "                     \n",
    "    def build_hooks(self):\n",
    "        hooks = super().build_hooks()\n",
    "        hooks.insert(-1,LossEvalHook(\n",
    "            self.cfg.TEST.EVAL_PERIOD,\n",
    "            self.model,\n",
    "            build_detection_test_loader(\n",
    "                self.cfg,\n",
    "                self.cfg.DATASETS.TEST[0],\n",
    "                DatasetMapper(self.cfg,True)\n",
    "            )\n",
    "        ))\n",
    "        return hooks"
   ]
  },
  {
   "cell_type": "code",
   "execution_count": 1,
   "metadata": {
    "executionInfo": {
     "elapsed": 398,
     "status": "ok",
     "timestamp": 1675597987945,
     "user": {
      "displayName": "Johannes Halkenhäußer",
      "userId": "10212423884318197669"
     },
     "user_tz": -60
    },
    "id": "_3jmsmS_M5pU"
   },
   "outputs": [],
   "source": [
    "def train_detectron_standard(dataset_name_train, dataset_name_val, resolution, batch_size=2):\n",
    "\n",
    "    '''\n",
    "    func:   trains a standard detectron model with the given dataset name\n",
    "\n",
    "    inputs:\n",
    "    dataset_name_train: string name of the dataset that was registered with COCODataset\n",
    "    resolution:         the resolution that the images have\n",
    "\n",
    "    returns:\n",
    "    cfg:        configurations object\n",
    "    trainer:    trainer object from the model\n",
    "    predictor:  predictor object from the model\n",
    "    '''\n",
    "    now = datetime.now() \n",
    "    output_dir = f\"/workspace/output/output_res{resolution}_bs{str(batch_size)}_{now.strftime('%m.%d.%H.%M')}\"\n",
    "    print(\"OUTPUT DIR:\" ,output_dir)\n",
    "    cfg = get_cfg()\n",
    "    cfg.INPUT.FORMAT = \"RGB\"\n",
    "    \n",
    "    # try different model: changed to X101 FPN: faster_rcnn_X_101_32x8d_FPN_3x\n",
    "    cfg.merge_from_file(model_zoo.get_config_file(\"COCO-Detection/faster_rcnn_R_50_FPN_3x.yaml\"))\n",
    "    cfg.OUTPUT_DIR = output_dir\n",
    "    cfg.DATASETS.TRAIN = (dataset_name_train)\n",
    "    cfg.DATASETS.TEST = (dataset_name_val,)\n",
    "    cfg.TEST.EVAL_PERIOD = 2000\n",
    "    cfg.DATALOADER.NUM_WORKERS = 2\n",
    "    cfg.MODEL.WEIGHTS = model_zoo.get_checkpoint_url(\"COCO-Detection/faster_rcnn_R_50_FPN_3x.yaml\")  # Let training initialize from model zoo\n",
    "    cfg.MODEL.ANCHOR_GENERATOR.SIZES = [[4, 8, 16, 32, 64]]\n",
    "    cfg.SOLVER.IMS_PER_BATCH = batch_size  # This is the real \"batch size\" commonly known to deep learning people\n",
    "    cfg.SOLVER.BASE_LR = 0.000025  # pick a good LR - davor\n",
    "    cfg.SOLVER.MAX_ITER = 6000    # 300 iterations seems good enough for this toy dataset; you will need to train longer for a practical dataset\n",
    "    cfg.SOLVER.STEPS = [2500,4000,5000]        # decay learning rate\n",
    "    cfg.MODEL.ROI_HEADS.BATCH_SIZE_PER_IMAGE = 512   # The \"RoIHead batch size\". 128 is faster, and good enough for this toy dataset (default: 512)\n",
    "    cfg.MODEL.ROI_HEADS.NUM_CLASSES = 2  # has two plus one classes transmission and distribution tower + other towers. (see https://detectron2.readthedocs.io/tutorials/datasets.html#update-the-config-for-new-datasets)\n",
    "    # NOTE: this config means the number of classes, but a few popular unofficial tutorials incorrect uses num_classes+1 here.\n",
    "\n",
    "    #print(cfg.OUTPUT_DIR)\n",
    "\n",
    "\n",
    "    os.makedirs(cfg.OUTPUT_DIR, exist_ok=True)\n",
    "    trainer = MyTrainer(cfg) \n",
    "    trainer.resume_or_load(resume=False)\n",
    "    trainer.train()\n",
    "\n",
    "\n",
    "    # Inference should use the config with parameters that are used in training\n",
    "    # cfg now already contains everything we've set previously. We changed it a little bit for inference:\n",
    "    cfg.MODEL.WEIGHTS = os.path.join(cfg.OUTPUT_DIR, \"model_final.pth\")  # path to the model we just trained\n",
    "    cfg.MODEL.ROI_HEADS.SCORE_THRESH_TEST = 0.3   # set a custom testing threshold\n",
    "    predictor = DefaultPredictor(cfg)\n",
    "\n",
    "\n",
    "    return cfg, trainer, predictor\n",
    "\n",
    "def evaluate_detectron(cfg, predictor_obj, resolution, dataset_name_val): \n",
    "\n",
    "    \"\"\"\n",
    "    func:   evaluates a trained detectron model\n",
    "\n",
    "    input:\n",
    "    cfg:                configuration object of the model\n",
    "    predictor_obj:      the predictor object of the same model \n",
    "    resolution:         the resolution of the images\n",
    "    dataset_name_val:   the COCO registered name of the val dataset\n",
    "\n",
    "    returns:            dictionary with model metrics \n",
    "    \"\"\"\n",
    "\n",
    "    evaluator = COCOEvaluator(dataset_name_val, output_dir=\"/workspace/output/output\"+str(resolution), max_dets_per_image = 30)\n",
    "    val_loader = build_detection_test_loader(cfg, dataset_name_val)\n",
    "    \n",
    "    return inference_on_dataset(predictor_obj.model, val_loader, evaluator)\n",
    "    # another equivalent way to evaluate the model is to use `trainer.test`"
   ]
  },
  {
   "cell_type": "code",
   "execution_count": 32,
   "metadata": {},
   "outputs": [],
   "source": [
    "cfg.merge_from_file(model_zoo.get_config_file(\"COCO-Detection/faster_rcnn_R_50_FPN_3x.yaml\"))\n",
    "cfg = get_cfg()"
   ]
  },
  {
   "cell_type": "code",
   "execution_count": 33,
   "metadata": {},
   "outputs": [],
   "source": [
    "from pprint import pprint"
   ]
  },
  {
   "cell_type": "code",
   "execution_count": 34,
   "metadata": {},
   "outputs": [
    {
     "name": "stdout",
     "output_type": "stream",
     "text": [
      "{'CUDNN_BENCHMARK': False,\n",
      " 'DATALOADER': {'ASPECT_RATIO_GROUPING': True,\n",
      "                'FILTER_EMPTY_ANNOTATIONS': True,\n",
      "                'NUM_WORKERS': 4,\n",
      "                'REPEAT_THRESHOLD': 0.0,\n",
      "                'SAMPLER_TRAIN': 'TrainingSampler'},\n",
      " 'DATASETS': {'PRECOMPUTED_PROPOSAL_TOPK_TEST': 1000,\n",
      "              'PRECOMPUTED_PROPOSAL_TOPK_TRAIN': 2000,\n",
      "              'PROPOSAL_FILES_TEST': (),\n",
      "              'PROPOSAL_FILES_TRAIN': (),\n",
      "              'TEST': (),\n",
      "              'TRAIN': ()},\n",
      " 'GLOBAL': CfgNode({'HACK': 1.0}),\n",
      " 'INPUT': {'CROP': {'ENABLED': False,\n",
      "                    'SIZE': [0.9, 0.9],\n",
      "                    'TYPE': 'relative_range'},\n",
      "           'FORMAT': 'BGR',\n",
      "           'MASK_FORMAT': 'polygon',\n",
      "           'MAX_SIZE_TEST': 1333,\n",
      "           'MAX_SIZE_TRAIN': 1333,\n",
      "           'MIN_SIZE_TEST': 800,\n",
      "           'MIN_SIZE_TRAIN': (800,),\n",
      "           'MIN_SIZE_TRAIN_SAMPLING': 'choice',\n",
      "           'RANDOM_FLIP': 'horizontal'},\n",
      " 'MODEL': {'ANCHOR_GENERATOR': {'ANGLES': [[-90, 0, 90]],\n",
      "                                'ASPECT_RATIOS': [[0.5, 1.0, 2.0]],\n",
      "                                'NAME': 'DefaultAnchorGenerator',\n",
      "                                'OFFSET': 0.0,\n",
      "                                'SIZES': [[32, 64, 128, 256, 512]]},\n",
      "           'BACKBONE': {'FREEZE_AT': 2,\n",
      "                        'NAME': 'build_resnet_backbone'},\n",
      "           'DEVICE': 'cuda',\n",
      "           'FPN': {'FUSE_TYPE': 'sum',\n",
      "                   'IN_FEATURES': [],\n",
      "                   'NORM': '',\n",
      "                   'OUT_CHANNELS': 256},\n",
      "           'KEYPOINT_ON': False,\n",
      "           'LOAD_PROPOSALS': False,\n",
      "           'MASK_ON': False,\n",
      "           'META_ARCHITECTURE': 'GeneralizedRCNN',\n",
      "           'PANOPTIC_FPN': {'COMBINE': {'ENABLED': True,\n",
      "                                        'INSTANCES_CONFIDENCE_THRESH': 0.5,\n",
      "                                        'OVERLAP_THRESH': 0.5,\n",
      "                                        'STUFF_AREA_LIMIT': 4096},\n",
      "                            'INSTANCE_LOSS_WEIGHT': 1.0},\n",
      "           'PIXEL_MEAN': [103.53, 116.28, 123.675],\n",
      "           'PIXEL_STD': [1.0, 1.0, 1.0],\n",
      "           'PROPOSAL_GENERATOR': CfgNode({'NAME': 'RPN', 'MIN_SIZE': 0}),\n",
      "           'RESNETS': {'DEFORM_MODULATED': False,\n",
      "                       'DEFORM_NUM_GROUPS': 1,\n",
      "                       'DEFORM_ON_PER_STAGE': [False, False, False, False],\n",
      "                       'DEPTH': 50,\n",
      "                       'NORM': 'FrozenBN',\n",
      "                       'NUM_GROUPS': 1,\n",
      "                       'OUT_FEATURES': ['res4'],\n",
      "                       'RES2_OUT_CHANNELS': 256,\n",
      "                       'RES5_DILATION': 1,\n",
      "                       'STEM_OUT_CHANNELS': 64,\n",
      "                       'STRIDE_IN_1X1': True,\n",
      "                       'WIDTH_PER_GROUP': 64},\n",
      "           'RETINANET': {'BBOX_REG_LOSS_TYPE': 'smooth_l1',\n",
      "                         'BBOX_REG_WEIGHTS': (1.0, 1.0, 1.0, 1.0),\n",
      "                         'FOCAL_LOSS_ALPHA': 0.25,\n",
      "                         'FOCAL_LOSS_GAMMA': 2.0,\n",
      "                         'IN_FEATURES': ['p3', 'p4', 'p5', 'p6', 'p7'],\n",
      "                         'IOU_LABELS': [0, -1, 1],\n",
      "                         'IOU_THRESHOLDS': [0.4, 0.5],\n",
      "                         'NMS_THRESH_TEST': 0.5,\n",
      "                         'NORM': '',\n",
      "                         'NUM_CLASSES': 80,\n",
      "                         'NUM_CONVS': 4,\n",
      "                         'PRIOR_PROB': 0.01,\n",
      "                         'SCORE_THRESH_TEST': 0.05,\n",
      "                         'SMOOTH_L1_LOSS_BETA': 0.1,\n",
      "                         'TOPK_CANDIDATES_TEST': 1000},\n",
      "           'ROI_BOX_CASCADE_HEAD': {'BBOX_REG_WEIGHTS': ((10.0, 10.0, 5.0, 5.0),\n",
      "                                                         (20.0,\n",
      "                                                          20.0,\n",
      "                                                          10.0,\n",
      "                                                          10.0),\n",
      "                                                         (30.0,\n",
      "                                                          30.0,\n",
      "                                                          15.0,\n",
      "                                                          15.0)),\n",
      "                                    'IOUS': (0.5, 0.6, 0.7)},\n",
      "           'ROI_BOX_HEAD': {'BBOX_REG_LOSS_TYPE': 'smooth_l1',\n",
      "                            'BBOX_REG_LOSS_WEIGHT': 1.0,\n",
      "                            'BBOX_REG_WEIGHTS': (10.0, 10.0, 5.0, 5.0),\n",
      "                            'CLS_AGNOSTIC_BBOX_REG': False,\n",
      "                            'CONV_DIM': 256,\n",
      "                            'FC_DIM': 1024,\n",
      "                            'FED_LOSS_FREQ_WEIGHT_POWER': 0.5,\n",
      "                            'FED_LOSS_NUM_CLASSES': 50,\n",
      "                            'NAME': '',\n",
      "                            'NORM': '',\n",
      "                            'NUM_CONV': 0,\n",
      "                            'NUM_FC': 0,\n",
      "                            'POOLER_RESOLUTION': 14,\n",
      "                            'POOLER_SAMPLING_RATIO': 0,\n",
      "                            'POOLER_TYPE': 'ROIAlignV2',\n",
      "                            'SMOOTH_L1_BETA': 0.0,\n",
      "                            'TRAIN_ON_PRED_BOXES': False,\n",
      "                            'USE_FED_LOSS': False,\n",
      "                            'USE_SIGMOID_CE': False},\n",
      "           'ROI_HEADS': {'BATCH_SIZE_PER_IMAGE': 512,\n",
      "                         'IN_FEATURES': ['res4'],\n",
      "                         'IOU_LABELS': [0, 1],\n",
      "                         'IOU_THRESHOLDS': [0.5],\n",
      "                         'NAME': 'Res5ROIHeads',\n",
      "                         'NMS_THRESH_TEST': 0.5,\n",
      "                         'NUM_CLASSES': 80,\n",
      "                         'POSITIVE_FRACTION': 0.25,\n",
      "                         'PROPOSAL_APPEND_GT': True,\n",
      "                         'SCORE_THRESH_TEST': 0.05},\n",
      "           'ROI_KEYPOINT_HEAD': {'CONV_DIMS': (512,\n",
      "                                               512,\n",
      "                                               512,\n",
      "                                               512,\n",
      "                                               512,\n",
      "                                               512,\n",
      "                                               512,\n",
      "                                               512),\n",
      "                                 'LOSS_WEIGHT': 1.0,\n",
      "                                 'MIN_KEYPOINTS_PER_IMAGE': 1,\n",
      "                                 'NAME': 'KRCNNConvDeconvUpsampleHead',\n",
      "                                 'NORMALIZE_LOSS_BY_VISIBLE_KEYPOINTS': True,\n",
      "                                 'NUM_KEYPOINTS': 17,\n",
      "                                 'POOLER_RESOLUTION': 14,\n",
      "                                 'POOLER_SAMPLING_RATIO': 0,\n",
      "                                 'POOLER_TYPE': 'ROIAlignV2'},\n",
      "           'ROI_MASK_HEAD': {'CLS_AGNOSTIC_MASK': False,\n",
      "                             'CONV_DIM': 256,\n",
      "                             'NAME': 'MaskRCNNConvUpsampleHead',\n",
      "                             'NORM': '',\n",
      "                             'NUM_CONV': 0,\n",
      "                             'POOLER_RESOLUTION': 14,\n",
      "                             'POOLER_SAMPLING_RATIO': 0,\n",
      "                             'POOLER_TYPE': 'ROIAlignV2'},\n",
      "           'RPN': {'BATCH_SIZE_PER_IMAGE': 256,\n",
      "                   'BBOX_REG_LOSS_TYPE': 'smooth_l1',\n",
      "                   'BBOX_REG_LOSS_WEIGHT': 1.0,\n",
      "                   'BBOX_REG_WEIGHTS': (1.0, 1.0, 1.0, 1.0),\n",
      "                   'BOUNDARY_THRESH': -1,\n",
      "                   'CONV_DIMS': [-1],\n",
      "                   'HEAD_NAME': 'StandardRPNHead',\n",
      "                   'IN_FEATURES': ['res4'],\n",
      "                   'IOU_LABELS': [0, -1, 1],\n",
      "                   'IOU_THRESHOLDS': [0.3, 0.7],\n",
      "                   'LOSS_WEIGHT': 1.0,\n",
      "                   'NMS_THRESH': 0.7,\n",
      "                   'POSITIVE_FRACTION': 0.5,\n",
      "                   'POST_NMS_TOPK_TEST': 1000,\n",
      "                   'POST_NMS_TOPK_TRAIN': 2000,\n",
      "                   'PRE_NMS_TOPK_TEST': 6000,\n",
      "                   'PRE_NMS_TOPK_TRAIN': 12000,\n",
      "                   'SMOOTH_L1_BETA': 0.0},\n",
      "           'SEM_SEG_HEAD': {'COMMON_STRIDE': 4,\n",
      "                            'CONVS_DIM': 128,\n",
      "                            'IGNORE_VALUE': 255,\n",
      "                            'IN_FEATURES': ['p2', 'p3', 'p4', 'p5'],\n",
      "                            'LOSS_WEIGHT': 1.0,\n",
      "                            'NAME': 'SemSegFPNHead',\n",
      "                            'NORM': 'GN',\n",
      "                            'NUM_CLASSES': 54},\n",
      "           'WEIGHTS': ''},\n",
      " 'OUTPUT_DIR': './output',\n",
      " 'SEED': -1,\n",
      " 'SOLVER': {'AMP': CfgNode({'ENABLED': False}),\n",
      "            'BASE_LR': 0.001,\n",
      "            'BASE_LR_END': 0.0,\n",
      "            'BIAS_LR_FACTOR': 1.0,\n",
      "            'CHECKPOINT_PERIOD': 5000,\n",
      "            'CLIP_GRADIENTS': {'CLIP_TYPE': 'value',\n",
      "                               'CLIP_VALUE': 1.0,\n",
      "                               'ENABLED': False,\n",
      "                               'NORM_TYPE': 2.0},\n",
      "            'GAMMA': 0.1,\n",
      "            'IMS_PER_BATCH': 16,\n",
      "            'LR_SCHEDULER_NAME': 'WarmupMultiStepLR',\n",
      "            'MAX_ITER': 40000,\n",
      "            'MOMENTUM': 0.9,\n",
      "            'NESTEROV': False,\n",
      "            'NUM_DECAYS': 3,\n",
      "            'REFERENCE_WORLD_SIZE': 0,\n",
      "            'RESCALE_INTERVAL': False,\n",
      "            'STEPS': (30000,),\n",
      "            'WARMUP_FACTOR': 0.001,\n",
      "            'WARMUP_ITERS': 1000,\n",
      "            'WARMUP_METHOD': 'linear',\n",
      "            'WEIGHT_DECAY': 0.0001,\n",
      "            'WEIGHT_DECAY_BIAS': None,\n",
      "            'WEIGHT_DECAY_NORM': 0.0},\n",
      " 'TEST': {'AUG': {'ENABLED': False,\n",
      "                  'FLIP': True,\n",
      "                  'MAX_SIZE': 4000,\n",
      "                  'MIN_SIZES': (400,\n",
      "                                500,\n",
      "                                600,\n",
      "                                700,\n",
      "                                800,\n",
      "                                900,\n",
      "                                1000,\n",
      "                                1100,\n",
      "                                1200)},\n",
      "          'DETECTIONS_PER_IMAGE': 100,\n",
      "          'EVAL_PERIOD': 0,\n",
      "          'EXPECTED_RESULTS': [],\n",
      "          'KEYPOINT_OKS_SIGMAS': [],\n",
      "          'PRECISE_BN': CfgNode({'ENABLED': False, 'NUM_ITER': 200})},\n",
      " 'VERSION': 2,\n",
      " 'VIS_PERIOD': 0}\n"
     ]
    }
   ],
   "source": [
    "pprint(cfg)"
   ]
  },
  {
   "cell_type": "code",
   "execution_count": null,
   "metadata": {},
   "outputs": [],
   "source": [
    "# notes for parameters\n",
    "# max_dets_per_image Anzahl zu detektierender Objekte - wir haben Bilder mit bis zu 30 Türmen\n",
    "# set learning rate von 0.00025 auf 0.0025\n",
    "# set training iterations von 300 auf 1000"
   ]
  },
  {
   "cell_type": "markdown",
   "metadata": {},
   "source": [
    "### Experiments to conduct / TODO\n",
    "\n",
    "- train, val, test split\n",
    "- loss curves plotten\n",
    "- influence of batch size \n",
    "- ROI heads verkleinern\n",
    "- learning rate\n",
    "- image augmentation when training in loader"
   ]
  },
  {
   "cell_type": "code",
   "execution_count": 34,
   "metadata": {},
   "outputs": [],
   "source": [
    "os.environ['CUDA_LAUNCH_BLOCKING'] = '1'"
   ]
  },
  {
   "cell_type": "code",
   "execution_count": 35,
   "metadata": {
    "executionInfo": {
     "elapsed": 957,
     "status": "ok",
     "timestamp": 1675597055542,
     "user": {
      "displayName": "Johannes Halkenhäußer",
      "userId": "10212423884318197669"
     },
     "user_tz": -60
    },
    "id": "dSa1Eb7TLqi4"
   },
   "outputs": [],
   "source": [
    "base_path = '/workspace/data/'\n",
    "\n",
    "#im = cv2.imread(base_path + \"data_30/data.png\")"
   ]
  },
  {
   "cell_type": "code",
   "execution_count": null,
   "metadata": {},
   "outputs": [],
   "source": []
  },
  {
   "cell_type": "code",
   "execution_count": null,
   "metadata": {},
   "outputs": [],
   "source": []
  },
  {
   "cell_type": "code",
   "execution_count": 36,
   "metadata": {},
   "outputs": [
    {
     "data": {
      "text/plain": [
       "'/workspace/data/'"
      ]
     },
     "execution_count": 36,
     "metadata": {},
     "output_type": "execute_result"
    }
   ],
   "source": [
    "base_path "
   ]
  },
  {
   "cell_type": "code",
   "execution_count": 37,
   "metadata": {
    "colab": {
     "base_uri": "https://localhost:8080/"
    },
    "executionInfo": {
     "elapsed": 378640,
     "status": "ok",
     "timestamp": 1675598377847,
     "user": {
      "displayName": "Johannes Halkenhäußer",
      "userId": "10212423884318197669"
     },
     "user_tz": -60
    },
    "id": "0b-MYQIACp-m",
    "outputId": "50bba6ff-00ff-40b6-dbce-1fc24aad11c7",
    "scrolled": true
   },
   "outputs": [
    {
     "name": "stdout",
     "output_type": "stream",
     "text": [
      "OUTPUT DIR: /workspace/output/output_res030_bs2_03.22.13.44\n",
      "[03/22 13:44:22 d2.engine.defaults]: Model:\n",
      "GeneralizedRCNN(\n",
      "  (backbone): FPN(\n",
      "    (fpn_lateral2): Conv2d(256, 256, kernel_size=(1, 1), stride=(1, 1))\n",
      "    (fpn_output2): Conv2d(256, 256, kernel_size=(3, 3), stride=(1, 1), padding=(1, 1))\n",
      "    (fpn_lateral3): Conv2d(512, 256, kernel_size=(1, 1), stride=(1, 1))\n",
      "    (fpn_output3): Conv2d(256, 256, kernel_size=(3, 3), stride=(1, 1), padding=(1, 1))\n",
      "    (fpn_lateral4): Conv2d(1024, 256, kernel_size=(1, 1), stride=(1, 1))\n",
      "    (fpn_output4): Conv2d(256, 256, kernel_size=(3, 3), stride=(1, 1), padding=(1, 1))\n",
      "    (fpn_lateral5): Conv2d(2048, 256, kernel_size=(1, 1), stride=(1, 1))\n",
      "    (fpn_output5): Conv2d(256, 256, kernel_size=(3, 3), stride=(1, 1), padding=(1, 1))\n",
      "    (top_block): LastLevelMaxPool()\n",
      "    (bottom_up): ResNet(\n",
      "      (stem): BasicStem(\n",
      "        (conv1): Conv2d(\n",
      "          3, 64, kernel_size=(7, 7), stride=(2, 2), padding=(3, 3), bias=False\n",
      "          (norm): FrozenBatchNorm2d(num_features=64, eps=1e-05)\n",
      "        )\n",
      "      )\n",
      "      (res2): Sequential(\n",
      "        (0): BottleneckBlock(\n",
      "          (shortcut): Conv2d(\n",
      "            64, 256, kernel_size=(1, 1), stride=(1, 1), bias=False\n",
      "            (norm): FrozenBatchNorm2d(num_features=256, eps=1e-05)\n",
      "          )\n",
      "          (conv1): Conv2d(\n",
      "            64, 64, kernel_size=(1, 1), stride=(1, 1), bias=False\n",
      "            (norm): FrozenBatchNorm2d(num_features=64, eps=1e-05)\n",
      "          )\n",
      "          (conv2): Conv2d(\n",
      "            64, 64, kernel_size=(3, 3), stride=(1, 1), padding=(1, 1), bias=False\n",
      "            (norm): FrozenBatchNorm2d(num_features=64, eps=1e-05)\n",
      "          )\n",
      "          (conv3): Conv2d(\n",
      "            64, 256, kernel_size=(1, 1), stride=(1, 1), bias=False\n",
      "            (norm): FrozenBatchNorm2d(num_features=256, eps=1e-05)\n",
      "          )\n",
      "        )\n",
      "        (1): BottleneckBlock(\n",
      "          (conv1): Conv2d(\n",
      "            256, 64, kernel_size=(1, 1), stride=(1, 1), bias=False\n",
      "            (norm): FrozenBatchNorm2d(num_features=64, eps=1e-05)\n",
      "          )\n",
      "          (conv2): Conv2d(\n",
      "            64, 64, kernel_size=(3, 3), stride=(1, 1), padding=(1, 1), bias=False\n",
      "            (norm): FrozenBatchNorm2d(num_features=64, eps=1e-05)\n",
      "          )\n",
      "          (conv3): Conv2d(\n",
      "            64, 256, kernel_size=(1, 1), stride=(1, 1), bias=False\n",
      "            (norm): FrozenBatchNorm2d(num_features=256, eps=1e-05)\n",
      "          )\n",
      "        )\n",
      "        (2): BottleneckBlock(\n",
      "          (conv1): Conv2d(\n",
      "            256, 64, kernel_size=(1, 1), stride=(1, 1), bias=False\n",
      "            (norm): FrozenBatchNorm2d(num_features=64, eps=1e-05)\n",
      "          )\n",
      "          (conv2): Conv2d(\n",
      "            64, 64, kernel_size=(3, 3), stride=(1, 1), padding=(1, 1), bias=False\n",
      "            (norm): FrozenBatchNorm2d(num_features=64, eps=1e-05)\n",
      "          )\n",
      "          (conv3): Conv2d(\n",
      "            64, 256, kernel_size=(1, 1), stride=(1, 1), bias=False\n",
      "            (norm): FrozenBatchNorm2d(num_features=256, eps=1e-05)\n",
      "          )\n",
      "        )\n",
      "      )\n",
      "      (res3): Sequential(\n",
      "        (0): BottleneckBlock(\n",
      "          (shortcut): Conv2d(\n",
      "            256, 512, kernel_size=(1, 1), stride=(2, 2), bias=False\n",
      "            (norm): FrozenBatchNorm2d(num_features=512, eps=1e-05)\n",
      "          )\n",
      "          (conv1): Conv2d(\n",
      "            256, 128, kernel_size=(1, 1), stride=(2, 2), bias=False\n",
      "            (norm): FrozenBatchNorm2d(num_features=128, eps=1e-05)\n",
      "          )\n",
      "          (conv2): Conv2d(\n",
      "            128, 128, kernel_size=(3, 3), stride=(1, 1), padding=(1, 1), bias=False\n",
      "            (norm): FrozenBatchNorm2d(num_features=128, eps=1e-05)\n",
      "          )\n",
      "          (conv3): Conv2d(\n",
      "            128, 512, kernel_size=(1, 1), stride=(1, 1), bias=False\n",
      "            (norm): FrozenBatchNorm2d(num_features=512, eps=1e-05)\n",
      "          )\n",
      "        )\n",
      "        (1): BottleneckBlock(\n",
      "          (conv1): Conv2d(\n",
      "            512, 128, kernel_size=(1, 1), stride=(1, 1), bias=False\n",
      "            (norm): FrozenBatchNorm2d(num_features=128, eps=1e-05)\n",
      "          )\n",
      "          (conv2): Conv2d(\n",
      "            128, 128, kernel_size=(3, 3), stride=(1, 1), padding=(1, 1), bias=False\n",
      "            (norm): FrozenBatchNorm2d(num_features=128, eps=1e-05)\n",
      "          )\n",
      "          (conv3): Conv2d(\n",
      "            128, 512, kernel_size=(1, 1), stride=(1, 1), bias=False\n",
      "            (norm): FrozenBatchNorm2d(num_features=512, eps=1e-05)\n",
      "          )\n",
      "        )\n",
      "        (2): BottleneckBlock(\n",
      "          (conv1): Conv2d(\n",
      "            512, 128, kernel_size=(1, 1), stride=(1, 1), bias=False\n",
      "            (norm): FrozenBatchNorm2d(num_features=128, eps=1e-05)\n",
      "          )\n",
      "          (conv2): Conv2d(\n",
      "            128, 128, kernel_size=(3, 3), stride=(1, 1), padding=(1, 1), bias=False\n",
      "            (norm): FrozenBatchNorm2d(num_features=128, eps=1e-05)\n",
      "          )\n",
      "          (conv3): Conv2d(\n",
      "            128, 512, kernel_size=(1, 1), stride=(1, 1), bias=False\n",
      "            (norm): FrozenBatchNorm2d(num_features=512, eps=1e-05)\n",
      "          )\n",
      "        )\n",
      "        (3): BottleneckBlock(\n",
      "          (conv1): Conv2d(\n",
      "            512, 128, kernel_size=(1, 1), stride=(1, 1), bias=False\n",
      "            (norm): FrozenBatchNorm2d(num_features=128, eps=1e-05)\n",
      "          )\n",
      "          (conv2): Conv2d(\n",
      "            128, 128, kernel_size=(3, 3), stride=(1, 1), padding=(1, 1), bias=False\n",
      "            (norm): FrozenBatchNorm2d(num_features=128, eps=1e-05)\n",
      "          )\n",
      "          (conv3): Conv2d(\n",
      "            128, 512, kernel_size=(1, 1), stride=(1, 1), bias=False\n",
      "            (norm): FrozenBatchNorm2d(num_features=512, eps=1e-05)\n",
      "          )\n",
      "        )\n",
      "      )\n",
      "      (res4): Sequential(\n",
      "        (0): BottleneckBlock(\n",
      "          (shortcut): Conv2d(\n",
      "            512, 1024, kernel_size=(1, 1), stride=(2, 2), bias=False\n",
      "            (norm): FrozenBatchNorm2d(num_features=1024, eps=1e-05)\n",
      "          )\n",
      "          (conv1): Conv2d(\n",
      "            512, 256, kernel_size=(1, 1), stride=(2, 2), bias=False\n",
      "            (norm): FrozenBatchNorm2d(num_features=256, eps=1e-05)\n",
      "          )\n",
      "          (conv2): Conv2d(\n",
      "            256, 256, kernel_size=(3, 3), stride=(1, 1), padding=(1, 1), bias=False\n",
      "            (norm): FrozenBatchNorm2d(num_features=256, eps=1e-05)\n",
      "          )\n",
      "          (conv3): Conv2d(\n",
      "            256, 1024, kernel_size=(1, 1), stride=(1, 1), bias=False\n",
      "            (norm): FrozenBatchNorm2d(num_features=1024, eps=1e-05)\n",
      "          )\n",
      "        )\n",
      "        (1): BottleneckBlock(\n",
      "          (conv1): Conv2d(\n",
      "            1024, 256, kernel_size=(1, 1), stride=(1, 1), bias=False\n",
      "            (norm): FrozenBatchNorm2d(num_features=256, eps=1e-05)\n",
      "          )\n",
      "          (conv2): Conv2d(\n",
      "            256, 256, kernel_size=(3, 3), stride=(1, 1), padding=(1, 1), bias=False\n",
      "            (norm): FrozenBatchNorm2d(num_features=256, eps=1e-05)\n",
      "          )\n",
      "          (conv3): Conv2d(\n",
      "            256, 1024, kernel_size=(1, 1), stride=(1, 1), bias=False\n",
      "            (norm): FrozenBatchNorm2d(num_features=1024, eps=1e-05)\n",
      "          )\n",
      "        )\n",
      "        (2): BottleneckBlock(\n",
      "          (conv1): Conv2d(\n",
      "            1024, 256, kernel_size=(1, 1), stride=(1, 1), bias=False\n",
      "            (norm): FrozenBatchNorm2d(num_features=256, eps=1e-05)\n",
      "          )\n",
      "          (conv2): Conv2d(\n",
      "            256, 256, kernel_size=(3, 3), stride=(1, 1), padding=(1, 1), bias=False\n",
      "            (norm): FrozenBatchNorm2d(num_features=256, eps=1e-05)\n",
      "          )\n",
      "          (conv3): Conv2d(\n",
      "            256, 1024, kernel_size=(1, 1), stride=(1, 1), bias=False\n",
      "            (norm): FrozenBatchNorm2d(num_features=1024, eps=1e-05)\n",
      "          )\n",
      "        )\n",
      "        (3): BottleneckBlock(\n",
      "          (conv1): Conv2d(\n",
      "            1024, 256, kernel_size=(1, 1), stride=(1, 1), bias=False\n",
      "            (norm): FrozenBatchNorm2d(num_features=256, eps=1e-05)\n",
      "          )\n",
      "          (conv2): Conv2d(\n",
      "            256, 256, kernel_size=(3, 3), stride=(1, 1), padding=(1, 1), bias=False\n",
      "            (norm): FrozenBatchNorm2d(num_features=256, eps=1e-05)\n",
      "          )\n",
      "          (conv3): Conv2d(\n",
      "            256, 1024, kernel_size=(1, 1), stride=(1, 1), bias=False\n",
      "            (norm): FrozenBatchNorm2d(num_features=1024, eps=1e-05)\n",
      "          )\n",
      "        )\n",
      "        (4): BottleneckBlock(\n",
      "          (conv1): Conv2d(\n",
      "            1024, 256, kernel_size=(1, 1), stride=(1, 1), bias=False\n",
      "            (norm): FrozenBatchNorm2d(num_features=256, eps=1e-05)\n",
      "          )\n",
      "          (conv2): Conv2d(\n",
      "            256, 256, kernel_size=(3, 3), stride=(1, 1), padding=(1, 1), bias=False\n",
      "            (norm): FrozenBatchNorm2d(num_features=256, eps=1e-05)\n",
      "          )\n",
      "          (conv3): Conv2d(\n",
      "            256, 1024, kernel_size=(1, 1), stride=(1, 1), bias=False\n",
      "            (norm): FrozenBatchNorm2d(num_features=1024, eps=1e-05)\n",
      "          )\n",
      "        )\n",
      "        (5): BottleneckBlock(\n",
      "          (conv1): Conv2d(\n",
      "            1024, 256, kernel_size=(1, 1), stride=(1, 1), bias=False\n",
      "            (norm): FrozenBatchNorm2d(num_features=256, eps=1e-05)\n",
      "          )\n",
      "          (conv2): Conv2d(\n",
      "            256, 256, kernel_size=(3, 3), stride=(1, 1), padding=(1, 1), bias=False\n",
      "            (norm): FrozenBatchNorm2d(num_features=256, eps=1e-05)\n",
      "          )\n",
      "          (conv3): Conv2d(\n",
      "            256, 1024, kernel_size=(1, 1), stride=(1, 1), bias=False\n",
      "            (norm): FrozenBatchNorm2d(num_features=1024, eps=1e-05)\n",
      "          )\n",
      "        )\n",
      "      )\n",
      "      (res5): Sequential(\n",
      "        (0): BottleneckBlock(\n",
      "          (shortcut): Conv2d(\n",
      "            1024, 2048, kernel_size=(1, 1), stride=(2, 2), bias=False\n",
      "            (norm): FrozenBatchNorm2d(num_features=2048, eps=1e-05)\n",
      "          )\n",
      "          (conv1): Conv2d(\n",
      "            1024, 512, kernel_size=(1, 1), stride=(2, 2), bias=False\n",
      "            (norm): FrozenBatchNorm2d(num_features=512, eps=1e-05)\n",
      "          )\n",
      "          (conv2): Conv2d(\n",
      "            512, 512, kernel_size=(3, 3), stride=(1, 1), padding=(1, 1), bias=False\n",
      "            (norm): FrozenBatchNorm2d(num_features=512, eps=1e-05)\n",
      "          )\n",
      "          (conv3): Conv2d(\n",
      "            512, 2048, kernel_size=(1, 1), stride=(1, 1), bias=False\n",
      "            (norm): FrozenBatchNorm2d(num_features=2048, eps=1e-05)\n",
      "          )\n",
      "        )\n",
      "        (1): BottleneckBlock(\n",
      "          (conv1): Conv2d(\n",
      "            2048, 512, kernel_size=(1, 1), stride=(1, 1), bias=False\n",
      "            (norm): FrozenBatchNorm2d(num_features=512, eps=1e-05)\n",
      "          )\n",
      "          (conv2): Conv2d(\n",
      "            512, 512, kernel_size=(3, 3), stride=(1, 1), padding=(1, 1), bias=False\n",
      "            (norm): FrozenBatchNorm2d(num_features=512, eps=1e-05)\n",
      "          )\n",
      "          (conv3): Conv2d(\n",
      "            512, 2048, kernel_size=(1, 1), stride=(1, 1), bias=False\n",
      "            (norm): FrozenBatchNorm2d(num_features=2048, eps=1e-05)\n",
      "          )\n",
      "        )\n",
      "        (2): BottleneckBlock(\n",
      "          (conv1): Conv2d(\n",
      "            2048, 512, kernel_size=(1, 1), stride=(1, 1), bias=False\n",
      "            (norm): FrozenBatchNorm2d(num_features=512, eps=1e-05)\n",
      "          )\n",
      "          (conv2): Conv2d(\n",
      "            512, 512, kernel_size=(3, 3), stride=(1, 1), padding=(1, 1), bias=False\n",
      "            (norm): FrozenBatchNorm2d(num_features=512, eps=1e-05)\n",
      "          )\n",
      "          (conv3): Conv2d(\n",
      "            512, 2048, kernel_size=(1, 1), stride=(1, 1), bias=False\n",
      "            (norm): FrozenBatchNorm2d(num_features=2048, eps=1e-05)\n",
      "          )\n",
      "        )\n",
      "      )\n",
      "    )\n",
      "  )\n",
      "  (proposal_generator): RPN(\n",
      "    (rpn_head): StandardRPNHead(\n",
      "      (conv): Conv2d(\n",
      "        256, 256, kernel_size=(3, 3), stride=(1, 1), padding=(1, 1)\n",
      "        (activation): ReLU()\n",
      "      )\n",
      "      (objectness_logits): Conv2d(256, 15, kernel_size=(1, 1), stride=(1, 1))\n",
      "      (anchor_deltas): Conv2d(256, 60, kernel_size=(1, 1), stride=(1, 1))\n",
      "    )\n",
      "    (anchor_generator): DefaultAnchorGenerator(\n",
      "      (cell_anchors): BufferList()\n",
      "    )\n",
      "  )\n",
      "  (roi_heads): StandardROIHeads(\n",
      "    (box_pooler): ROIPooler(\n",
      "      (level_poolers): ModuleList(\n",
      "        (0): ROIAlign(output_size=(7, 7), spatial_scale=0.25, sampling_ratio=0, aligned=True)\n",
      "        (1): ROIAlign(output_size=(7, 7), spatial_scale=0.125, sampling_ratio=0, aligned=True)\n",
      "        (2): ROIAlign(output_size=(7, 7), spatial_scale=0.0625, sampling_ratio=0, aligned=True)\n",
      "        (3): ROIAlign(output_size=(7, 7), spatial_scale=0.03125, sampling_ratio=0, aligned=True)\n",
      "      )\n",
      "    )\n",
      "    (box_head): FastRCNNConvFCHead(\n",
      "      (flatten): Flatten(start_dim=1, end_dim=-1)\n",
      "      (fc1): Linear(in_features=12544, out_features=1024, bias=True)\n",
      "      (fc_relu1): ReLU()\n",
      "      (fc2): Linear(in_features=1024, out_features=1024, bias=True)\n",
      "      (fc_relu2): ReLU()\n",
      "    )\n",
      "    (box_predictor): FastRCNNOutputLayers(\n",
      "      (cls_score): Linear(in_features=1024, out_features=3, bias=True)\n",
      "      (bbox_pred): Linear(in_features=1024, out_features=8, bias=True)\n",
      "    )\n",
      "  )\n",
      ")\n"
     ]
    },
    {
     "name": "stdout",
     "output_type": "stream",
     "text": [
      "WARNING [03/22 13:44:22 d2.data.datasets.coco]: \n",
      "Category ids in annotations are not in [1, #categories]! We'll apply a mapping for you.\n",
      "\n",
      "[03/22 13:44:22 d2.data.datasets.coco]: Loaded 11696 images in COCO format from /workspace/data/labels_train.json\n",
      "[03/22 13:44:23 d2.data.build]: Removed 0 images with no usable annotations. 11696 images left.\n",
      "[03/22 13:44:23 d2.data.dataset_mapper]: [DatasetMapper] Augmentations used in training: [ResizeShortestEdge(short_edge_length=(640, 672, 704, 736, 768, 800), max_size=1333, sample_style='choice'), RandomFlip()]\n",
      "[03/22 13:44:23 d2.data.build]: Using training sampler TrainingSampler\n",
      "[03/22 13:44:23 d2.data.common]: Serializing the dataset using: <class 'detectron2.data.common._TorchSerializedList'>\n",
      "[03/22 13:44:23 d2.data.common]: Serializing 11696 elements to byte tensors and concatenating them all ...\n",
      "[03/22 13:44:23 d2.data.common]: Serialized dataset takes 5.84 MiB\n",
      "[03/22 13:44:23 d2.data.dataset_mapper]: [DatasetMapper] Augmentations used in training: [ResizeShortestEdge(short_edge_length=(640, 672, 704, 736, 768, 800), max_size=1333, sample_style='choice'), RandomFlip()]\n",
      "WARNING [03/22 13:44:23 d2.data.datasets.coco]: \n",
      "Category ids in annotations are not in [1, #categories]! We'll apply a mapping for you.\n",
      "\n",
      "[03/22 13:44:23 d2.data.datasets.coco]: Loaded 1801 images in COCO format from /workspace/data/labels_val.json\n",
      "[03/22 13:44:23 d2.data.common]: Serializing the dataset using: <class 'detectron2.data.common._TorchSerializedList'>\n",
      "[03/22 13:44:23 d2.data.common]: Serializing 1801 elements to byte tensors and concatenating them all ...\n",
      "[03/22 13:44:23 d2.data.common]: Serialized dataset takes 0.92 MiB\n",
      "[03/22 13:44:23 d2.checkpoint.detection_checkpoint]: [DetectionCheckpointer] Loading from https://dl.fbaipublicfiles.com/detectron2/COCO-Detection/faster_rcnn_R_50_FPN_3x/137849458/model_final_280758.pkl ...\n"
     ]
    },
    {
     "name": "stderr",
     "output_type": "stream",
     "text": [
      "Skip loading parameter 'proposal_generator.rpn_head.objectness_logits.weight' to the model due to incompatible shapes: (3, 256, 1, 1) in the checkpoint but (15, 256, 1, 1) in the model! You might want to double check if this is expected.\n",
      "Skip loading parameter 'proposal_generator.rpn_head.objectness_logits.bias' to the model due to incompatible shapes: (3,) in the checkpoint but (15,) in the model! You might want to double check if this is expected.\n",
      "Skip loading parameter 'proposal_generator.rpn_head.anchor_deltas.weight' to the model due to incompatible shapes: (12, 256, 1, 1) in the checkpoint but (60, 256, 1, 1) in the model! You might want to double check if this is expected.\n",
      "Skip loading parameter 'proposal_generator.rpn_head.anchor_deltas.bias' to the model due to incompatible shapes: (12,) in the checkpoint but (60,) in the model! You might want to double check if this is expected.\n",
      "Skip loading parameter 'roi_heads.box_predictor.cls_score.weight' to the model due to incompatible shapes: (81, 1024) in the checkpoint but (3, 1024) in the model! You might want to double check if this is expected.\n",
      "Skip loading parameter 'roi_heads.box_predictor.cls_score.bias' to the model due to incompatible shapes: (81,) in the checkpoint but (3,) in the model! You might want to double check if this is expected.\n",
      "Skip loading parameter 'roi_heads.box_predictor.bbox_pred.weight' to the model due to incompatible shapes: (320, 1024) in the checkpoint but (8, 1024) in the model! You might want to double check if this is expected.\n",
      "Skip loading parameter 'roi_heads.box_predictor.bbox_pred.bias' to the model due to incompatible shapes: (320,) in the checkpoint but (8,) in the model! You might want to double check if this is expected.\n",
      "Some model parameters or buffers are not found in the checkpoint:\n",
      "proposal_generator.rpn_head.anchor_deltas.{bias, weight}\n",
      "proposal_generator.rpn_head.objectness_logits.{bias, weight}\n",
      "roi_heads.box_predictor.bbox_pred.{bias, weight}\n",
      "roi_heads.box_predictor.cls_score.{bias, weight}\n"
     ]
    },
    {
     "name": "stdout",
     "output_type": "stream",
     "text": [
      "[03/22 13:44:23 d2.engine.train_loop]: Starting training from iteration 0\n"
     ]
    },
    {
     "name": "stderr",
     "output_type": "stream",
     "text": [
      "/usr/local/lib/python3.8/dist-packages/torch/nn/functional.py:718: UserWarning: Named tensors and all their associated APIs are an experimental feature and subject to change. Please do not use them for anything important until they are released as stable. (Triggered internally at  /pytorch/c10/core/TensorImpl.h:1156.)\n",
      "  return torch.max_pool2d(input, kernel_size, stride, padding, dilation, ceil_mode)\n"
     ]
    },
    {
     "name": "stdout",
     "output_type": "stream",
     "text": [
      "[03/22 13:44:25 d2.utils.events]:  eta: 0:07:51  iter: 19  total_loss: 2.288  loss_cls: 1.469  loss_box_reg: 0.001061  loss_rpn_cls: 0.7331  loss_rpn_loc: 0.09873    time: 0.0792  last_time: 0.0814  data_time: 0.0093  last_data_time: 0.0026   lr: 4.9952e-07  max_mem: 1980M\n",
      "[03/22 13:44:27 d2.utils.events]:  eta: 0:07:52  iter: 39  total_loss: 2.207  loss_cls: 1.399  loss_box_reg: 0.0008541  loss_rpn_cls: 0.7285  loss_rpn_loc: 0.07259    time: 0.0788  last_time: 0.0779  data_time: 0.0029  last_data_time: 0.0025   lr: 9.9902e-07  max_mem: 1980M\n",
      "[03/22 13:44:28 d2.utils.events]:  eta: 0:07:46  iter: 59  total_loss: 2.076  loss_cls: 1.287  loss_box_reg: 0.0007109  loss_rpn_cls: 0.7251  loss_rpn_loc: 0.05513    time: 0.0779  last_time: 0.0789  data_time: 0.0026  last_data_time: 0.0023   lr: 1.4985e-06  max_mem: 1980M\n",
      "[03/22 13:44:30 d2.utils.events]:  eta: 0:07:41  iter: 79  total_loss: 1.928  loss_cls: 1.117  loss_box_reg: 0.0004985  loss_rpn_cls: 0.7285  loss_rpn_loc: 0.06366    time: 0.0776  last_time: 0.0799  data_time: 0.0028  last_data_time: 0.0023   lr: 1.998e-06  max_mem: 1980M\n",
      "[03/22 13:44:31 d2.utils.events]:  eta: 0:07:39  iter: 99  total_loss: 1.704  loss_cls: 0.9011  loss_box_reg: 0.0007022  loss_rpn_cls: 0.7215  loss_rpn_loc: 0.07486    time: 0.0778  last_time: 0.0815  data_time: 0.0027  last_data_time: 0.0024   lr: 2.4975e-06  max_mem: 1980M\n",
      "[03/22 13:44:33 d2.utils.events]:  eta: 0:07:41  iter: 119  total_loss: 1.532  loss_cls: 0.7164  loss_box_reg: 0.0007276  loss_rpn_cls: 0.7227  loss_rpn_loc: 0.07792    time: 0.0781  last_time: 0.0780  data_time: 0.0027  last_data_time: 0.0024   lr: 2.997e-06  max_mem: 1980M\n",
      "[03/22 13:44:35 d2.utils.events]:  eta: 0:07:36  iter: 139  total_loss: 1.375  loss_cls: 0.5617  loss_box_reg: 0.0008804  loss_rpn_cls: 0.7213  loss_rpn_loc: 0.07465    time: 0.0779  last_time: 0.0765  data_time: 0.0028  last_data_time: 0.0025   lr: 3.4965e-06  max_mem: 1994M\n",
      "[03/22 13:44:36 d2.utils.events]:  eta: 0:07:33  iter: 159  total_loss: 1.246  loss_cls: 0.4469  loss_box_reg: 0.0004743  loss_rpn_cls: 0.7128  loss_rpn_loc: 0.08633    time: 0.0776  last_time: 0.0726  data_time: 0.0027  last_data_time: 0.0027   lr: 3.996e-06  max_mem: 1994M\n",
      "[03/22 13:44:38 d2.utils.events]:  eta: 0:07:30  iter: 179  total_loss: 1.131  loss_cls: 0.3433  loss_box_reg: 0.0003699  loss_rpn_cls: 0.711  loss_rpn_loc: 0.04985    time: 0.0774  last_time: 0.0777  data_time: 0.0029  last_data_time: 0.0031   lr: 4.4955e-06  max_mem: 1994M\n",
      "[03/22 13:44:39 d2.utils.events]:  eta: 0:07:27  iter: 199  total_loss: 1.068  loss_cls: 0.2686  loss_box_reg: 0.0006398  loss_rpn_cls: 0.7061  loss_rpn_loc: 0.06525    time: 0.0773  last_time: 0.0768  data_time: 0.0029  last_data_time: 0.0023   lr: 4.995e-06  max_mem: 1994M\n",
      "[03/22 13:44:41 d2.utils.events]:  eta: 0:07:26  iter: 219  total_loss: 0.9904  loss_cls: 0.2225  loss_box_reg: 0.000389  loss_rpn_cls: 0.6976  loss_rpn_loc: 0.06487    time: 0.0773  last_time: 0.0761  data_time: 0.0025  last_data_time: 0.0028   lr: 5.4945e-06  max_mem: 1998M\n",
      "[03/22 13:44:42 d2.utils.events]:  eta: 0:07:25  iter: 239  total_loss: 0.9375  loss_cls: 0.1745  loss_box_reg: 0.0002507  loss_rpn_cls: 0.6963  loss_rpn_loc: 0.06069    time: 0.0774  last_time: 0.0796  data_time: 0.0028  last_data_time: 0.0023   lr: 5.994e-06  max_mem: 1998M\n",
      "[03/22 13:44:44 d2.utils.events]:  eta: 0:07:24  iter: 259  total_loss: 0.9157  loss_cls: 0.1496  loss_box_reg: 0.0004323  loss_rpn_cls: 0.6899  loss_rpn_loc: 0.07566    time: 0.0774  last_time: 0.0784  data_time: 0.0027  last_data_time: 0.0031   lr: 6.4935e-06  max_mem: 1998M\n",
      "[03/22 13:44:45 d2.utils.events]:  eta: 0:07:22  iter: 279  total_loss: 0.8917  loss_cls: 0.117  loss_box_reg: 0.0002251  loss_rpn_cls: 0.6795  loss_rpn_loc: 0.07546    time: 0.0774  last_time: 0.0766  data_time: 0.0026  last_data_time: 0.0022   lr: 6.993e-06  max_mem: 1998M\n",
      "[03/22 13:44:47 d2.utils.events]:  eta: 0:07:22  iter: 299  total_loss: 0.8985  loss_cls: 0.1172  loss_box_reg: 0.0003413  loss_rpn_cls: 0.6714  loss_rpn_loc: 0.08643    time: 0.0775  last_time: 0.0734  data_time: 0.0026  last_data_time: 0.0024   lr: 7.4925e-06  max_mem: 2052M\n",
      "[03/22 13:44:49 d2.utils.events]:  eta: 0:07:20  iter: 319  total_loss: 0.8432  loss_cls: 0.1065  loss_box_reg: 0.0003701  loss_rpn_cls: 0.6663  loss_rpn_loc: 0.06502    time: 0.0777  last_time: 0.0802  data_time: 0.0026  last_data_time: 0.0024   lr: 7.992e-06  max_mem: 2052M\n",
      "[03/22 13:44:50 d2.utils.events]:  eta: 0:07:19  iter: 339  total_loss: 0.814  loss_cls: 0.09036  loss_box_reg: 0.0002795  loss_rpn_cls: 0.6549  loss_rpn_loc: 0.06019    time: 0.0776  last_time: 0.0799  data_time: 0.0025  last_data_time: 0.0025   lr: 8.4915e-06  max_mem: 2052M\n",
      "[03/22 13:44:52 d2.utils.events]:  eta: 0:07:18  iter: 359  total_loss: 0.8538  loss_cls: 0.09789  loss_box_reg: 0.0003382  loss_rpn_cls: 0.6507  loss_rpn_loc: 0.07903    time: 0.0778  last_time: 0.0829  data_time: 0.0026  last_data_time: 0.0026   lr: 8.991e-06  max_mem: 2052M\n",
      "[03/22 13:44:53 d2.utils.events]:  eta: 0:07:17  iter: 379  total_loss: 0.8148  loss_cls: 0.09951  loss_box_reg: 0.0003162  loss_rpn_cls: 0.6438  loss_rpn_loc: 0.07443    time: 0.0779  last_time: 0.0800  data_time: 0.0027  last_data_time: 0.0025   lr: 9.4905e-06  max_mem: 2052M\n",
      "[03/22 13:44:55 d2.utils.events]:  eta: 0:07:15  iter: 399  total_loss: 0.8063  loss_cls: 0.08874  loss_box_reg: 0.000339  loss_rpn_cls: 0.6257  loss_rpn_loc: 0.06588    time: 0.0779  last_time: 0.0788  data_time: 0.0026  last_data_time: 0.0023   lr: 9.99e-06  max_mem: 2052M\n",
      "[03/22 13:44:57 d2.utils.events]:  eta: 0:07:14  iter: 419  total_loss: 0.7721  loss_cls: 0.09458  loss_box_reg: 0.0003407  loss_rpn_cls: 0.6106  loss_rpn_loc: 0.06133    time: 0.0780  last_time: 0.0833  data_time: 0.0027  last_data_time: 0.0034   lr: 1.049e-05  max_mem: 2052M\n",
      "[03/22 13:44:58 d2.utils.events]:  eta: 0:07:13  iter: 439  total_loss: 0.7851  loss_cls: 0.08289  loss_box_reg: 0.0002956  loss_rpn_cls: 0.608  loss_rpn_loc: 0.09431    time: 0.0780  last_time: 0.0796  data_time: 0.0025  last_data_time: 0.0024   lr: 1.0989e-05  max_mem: 2052M\n",
      "[03/22 13:45:00 d2.utils.events]:  eta: 0:07:11  iter: 459  total_loss: 0.7673  loss_cls: 0.08955  loss_box_reg: 0.0003496  loss_rpn_cls: 0.5935  loss_rpn_loc: 0.07168    time: 0.0779  last_time: 0.0752  data_time: 0.0027  last_data_time: 0.0031   lr: 1.1489e-05  max_mem: 2052M\n",
      "[03/22 13:45:01 d2.utils.events]:  eta: 0:07:09  iter: 479  total_loss: 0.7655  loss_cls: 0.09293  loss_box_reg: 0.0003284  loss_rpn_cls: 0.5833  loss_rpn_loc: 0.06206    time: 0.0780  last_time: 0.0783  data_time: 0.0028  last_data_time: 0.0025   lr: 1.1988e-05  max_mem: 2052M\n",
      "[03/22 13:45:03 d2.utils.events]:  eta: 0:07:08  iter: 499  total_loss: 0.7353  loss_cls: 0.09787  loss_box_reg: 0.000485  loss_rpn_cls: 0.5738  loss_rpn_loc: 0.0637    time: 0.0780  last_time: 0.0830  data_time: 0.0029  last_data_time: 0.0041   lr: 1.2488e-05  max_mem: 2070M\n",
      "[03/22 13:45:04 d2.utils.events]:  eta: 0:07:07  iter: 519  total_loss: 0.7249  loss_cls: 0.07863  loss_box_reg: 0.0003155  loss_rpn_cls: 0.5655  loss_rpn_loc: 0.07307    time: 0.0781  last_time: 0.0800  data_time: 0.0027  last_data_time: 0.0026   lr: 1.2987e-05  max_mem: 2070M\n",
      "[03/22 13:45:06 d2.utils.events]:  eta: 0:07:05  iter: 539  total_loss: 0.7167  loss_cls: 0.08034  loss_box_reg: 0.0002803  loss_rpn_cls: 0.5531  loss_rpn_loc: 0.0849    time: 0.0780  last_time: 0.0741  data_time: 0.0027  last_data_time: 0.0024   lr: 1.3487e-05  max_mem: 2070M\n",
      "[03/22 13:45:08 d2.utils.events]:  eta: 0:07:03  iter: 559  total_loss: 0.6994  loss_cls: 0.0897  loss_box_reg: 0.0004681  loss_rpn_cls: 0.5273  loss_rpn_loc: 0.07221    time: 0.0780  last_time: 0.0800  data_time: 0.0026  last_data_time: 0.0023   lr: 1.3986e-05  max_mem: 2070M\n",
      "[03/22 13:45:09 d2.utils.events]:  eta: 0:07:02  iter: 579  total_loss: 0.692  loss_cls: 0.0925  loss_box_reg: 0.0005736  loss_rpn_cls: 0.5194  loss_rpn_loc: 0.07168    time: 0.0781  last_time: 0.0753  data_time: 0.0028  last_data_time: 0.0026   lr: 1.4486e-05  max_mem: 2070M\n",
      "[03/22 13:45:11 d2.utils.events]:  eta: 0:07:01  iter: 599  total_loss: 0.6729  loss_cls: 0.07468  loss_box_reg: 0.0002848  loss_rpn_cls: 0.5071  loss_rpn_loc: 0.06808    time: 0.0781  last_time: 0.0774  data_time: 0.0028  last_data_time: 0.0028   lr: 1.4985e-05  max_mem: 2070M\n"
     ]
    },
    {
     "name": "stdout",
     "output_type": "stream",
     "text": [
      "[03/22 13:45:12 d2.utils.events]:  eta: 0:06:59  iter: 619  total_loss: 0.6134  loss_cls: 0.07789  loss_box_reg: 0.0003333  loss_rpn_cls: 0.4899  loss_rpn_loc: 0.05361    time: 0.0781  last_time: 0.0691  data_time: 0.0028  last_data_time: 0.0026   lr: 1.5485e-05  max_mem: 2070M\n",
      "[03/22 13:45:14 d2.utils.events]:  eta: 0:06:58  iter: 639  total_loss: 0.6407  loss_cls: 0.07595  loss_box_reg: 0.0004717  loss_rpn_cls: 0.4761  loss_rpn_loc: 0.0584    time: 0.0781  last_time: 0.0713  data_time: 0.0026  last_data_time: 0.0026   lr: 1.5984e-05  max_mem: 2070M\n",
      "[03/22 13:45:15 d2.utils.events]:  eta: 0:06:56  iter: 659  total_loss: 0.6612  loss_cls: 0.06434  loss_box_reg: 0.0005682  loss_rpn_cls: 0.4715  loss_rpn_loc: 0.08866    time: 0.0781  last_time: 0.0808  data_time: 0.0027  last_data_time: 0.0029   lr: 1.6484e-05  max_mem: 2070M\n",
      "[03/22 13:45:17 d2.utils.events]:  eta: 0:06:55  iter: 679  total_loss: 0.5724  loss_cls: 0.0517  loss_box_reg: 0.0002163  loss_rpn_cls: 0.4405  loss_rpn_loc: 0.0484    time: 0.0782  last_time: 0.0768  data_time: 0.0028  last_data_time: 0.0026   lr: 1.6983e-05  max_mem: 2070M\n",
      "[03/22 13:45:19 d2.utils.events]:  eta: 0:06:54  iter: 699  total_loss: 0.5568  loss_cls: 0.0556  loss_box_reg: 0.0005775  loss_rpn_cls: 0.4215  loss_rpn_loc: 0.05541    time: 0.0782  last_time: 0.0731  data_time: 0.0026  last_data_time: 0.0025   lr: 1.7483e-05  max_mem: 2070M\n",
      "[03/22 13:45:20 d2.utils.events]:  eta: 0:06:52  iter: 719  total_loss: 0.5809  loss_cls: 0.05497  loss_box_reg: 0.0002529  loss_rpn_cls: 0.4221  loss_rpn_loc: 0.06674    time: 0.0782  last_time: 0.0781  data_time: 0.0026  last_data_time: 0.0031   lr: 1.7982e-05  max_mem: 2070M\n",
      "[03/22 13:45:22 d2.utils.events]:  eta: 0:06:51  iter: 739  total_loss: 0.582  loss_cls: 0.08076  loss_box_reg: 0.004001  loss_rpn_cls: 0.4175  loss_rpn_loc: 0.07878    time: 0.0782  last_time: 0.0764  data_time: 0.0025  last_data_time: 0.0026   lr: 1.8482e-05  max_mem: 2070M\n",
      "[03/22 13:45:23 d2.utils.events]:  eta: 0:06:50  iter: 759  total_loss: 0.6118  loss_cls: 0.06827  loss_box_reg: 0.0007018  loss_rpn_cls: 0.4241  loss_rpn_loc: 0.08893    time: 0.0782  last_time: 0.0807  data_time: 0.0026  last_data_time: 0.0024   lr: 1.8981e-05  max_mem: 2070M\n",
      "[03/22 13:45:25 d2.utils.events]:  eta: 0:06:48  iter: 779  total_loss: 0.5925  loss_cls: 0.0739  loss_box_reg: 0.002368  loss_rpn_cls: 0.4018  loss_rpn_loc: 0.08541    time: 0.0782  last_time: 0.0724  data_time: 0.0026  last_data_time: 0.0026   lr: 1.9481e-05  max_mem: 2070M\n",
      "[03/22 13:45:26 d2.utils.events]:  eta: 0:06:46  iter: 799  total_loss: 0.5431  loss_cls: 0.05265  loss_box_reg: 0.0004081  loss_rpn_cls: 0.3921  loss_rpn_loc: 0.07241    time: 0.0782  last_time: 0.0798  data_time: 0.0027  last_data_time: 0.0027   lr: 1.998e-05  max_mem: 2070M\n",
      "[03/22 13:45:28 d2.utils.events]:  eta: 0:06:45  iter: 819  total_loss: 0.5211  loss_cls: 0.0569  loss_box_reg: 0.0003946  loss_rpn_cls: 0.3749  loss_rpn_loc: 0.07132    time: 0.0783  last_time: 0.0777  data_time: 0.0028  last_data_time: 0.0024   lr: 2.048e-05  max_mem: 2070M\n",
      "[03/22 13:45:30 d2.utils.events]:  eta: 0:06:43  iter: 839  total_loss: 0.4966  loss_cls: 0.05479  loss_box_reg: 0.0002781  loss_rpn_cls: 0.3552  loss_rpn_loc: 0.06335    time: 0.0783  last_time: 0.0813  data_time: 0.0028  last_data_time: 0.0026   lr: 2.0979e-05  max_mem: 2070M\n",
      "[03/22 13:45:31 d2.utils.events]:  eta: 0:06:42  iter: 859  total_loss: 0.4711  loss_cls: 0.07178  loss_box_reg: 0.0009708  loss_rpn_cls: 0.3447  loss_rpn_loc: 0.0532    time: 0.0783  last_time: 0.0830  data_time: 0.0026  last_data_time: 0.0024   lr: 2.1479e-05  max_mem: 2070M\n",
      "[03/22 13:45:33 d2.utils.events]:  eta: 0:06:40  iter: 879  total_loss: 0.4512  loss_cls: 0.05849  loss_box_reg: 0.0002723  loss_rpn_cls: 0.3237  loss_rpn_loc: 0.05582    time: 0.0783  last_time: 0.0826  data_time: 0.0026  last_data_time: 0.0026   lr: 2.1978e-05  max_mem: 2070M\n",
      "[03/22 13:45:34 d2.utils.events]:  eta: 0:06:39  iter: 899  total_loss: 0.5341  loss_cls: 0.07178  loss_box_reg: 0.0004281  loss_rpn_cls: 0.3508  loss_rpn_loc: 0.0912    time: 0.0783  last_time: 0.0775  data_time: 0.0027  last_data_time: 0.0033   lr: 2.2478e-05  max_mem: 2070M\n",
      "[03/22 13:45:36 d2.utils.events]:  eta: 0:06:37  iter: 919  total_loss: 0.5689  loss_cls: 0.0573  loss_box_reg: 0.001711  loss_rpn_cls: 0.3591  loss_rpn_loc: 0.102    time: 0.0783  last_time: 0.0772  data_time: 0.0026  last_data_time: 0.0024   lr: 2.2977e-05  max_mem: 2070M\n",
      "[03/22 13:45:38 d2.utils.events]:  eta: 0:06:36  iter: 939  total_loss: 0.4193  loss_cls: 0.04562  loss_box_reg: 0.003835  loss_rpn_cls: 0.2944  loss_rpn_loc: 0.05858    time: 0.0784  last_time: 0.0752  data_time: 0.0028  last_data_time: 0.0023   lr: 2.3477e-05  max_mem: 2070M\n",
      "[03/22 13:45:39 d2.utils.events]:  eta: 0:06:34  iter: 959  total_loss: 0.464  loss_cls: 0.06019  loss_box_reg: 0.0003197  loss_rpn_cls: 0.3193  loss_rpn_loc: 0.04994    time: 0.0783  last_time: 0.0761  data_time: 0.0026  last_data_time: 0.0025   lr: 2.3976e-05  max_mem: 2070M\n",
      "[03/22 13:45:41 d2.utils.events]:  eta: 0:06:32  iter: 979  total_loss: 0.3784  loss_cls: 0.05965  loss_box_reg: 0.0003128  loss_rpn_cls: 0.2749  loss_rpn_loc: 0.04399    time: 0.0783  last_time: 0.0810  data_time: 0.0029  last_data_time: 0.0028   lr: 2.4476e-05  max_mem: 2070M\n",
      "[03/22 13:45:42 d2.utils.events]:  eta: 0:06:31  iter: 999  total_loss: 0.4808  loss_cls: 0.05769  loss_box_reg: 0.0003728  loss_rpn_cls: 0.2964  loss_rpn_loc: 0.05903    time: 0.0783  last_time: 0.0771  data_time: 0.0030  last_data_time: 0.0029   lr: 2.4975e-05  max_mem: 2070M\n",
      "[03/22 13:45:44 d2.utils.events]:  eta: 0:06:29  iter: 1019  total_loss: 0.4775  loss_cls: 0.08173  loss_box_reg: 0.0005086  loss_rpn_cls: 0.3182  loss_rpn_loc: 0.06151    time: 0.0784  last_time: 0.0828  data_time: 0.0030  last_data_time: 0.0029   lr: 2.5e-05  max_mem: 2070M\n",
      "[03/22 13:45:45 d2.utils.events]:  eta: 0:06:28  iter: 1039  total_loss: 0.4054  loss_cls: 0.0561  loss_box_reg: 0.003787  loss_rpn_cls: 0.2808  loss_rpn_loc: 0.07426    time: 0.0784  last_time: 0.0758  data_time: 0.0029  last_data_time: 0.0025   lr: 2.5e-05  max_mem: 2070M\n",
      "[03/22 13:45:47 d2.utils.events]:  eta: 0:06:26  iter: 1059  total_loss: 0.4316  loss_cls: 0.05763  loss_box_reg: 0.002754  loss_rpn_cls: 0.287  loss_rpn_loc: 0.06254    time: 0.0784  last_time: 0.0812  data_time: 0.0029  last_data_time: 0.0024   lr: 2.5e-05  max_mem: 2070M\n",
      "[03/22 13:45:49 d2.utils.events]:  eta: 0:06:25  iter: 1079  total_loss: 0.4341  loss_cls: 0.06041  loss_box_reg: 0.006051  loss_rpn_cls: 0.2737  loss_rpn_loc: 0.06278    time: 0.0784  last_time: 0.0842  data_time: 0.0028  last_data_time: 0.0027   lr: 2.5e-05  max_mem: 2070M\n",
      "[03/22 13:45:50 d2.utils.events]:  eta: 0:06:23  iter: 1099  total_loss: 0.477  loss_cls: 0.0758  loss_box_reg: 0.0005458  loss_rpn_cls: 0.3101  loss_rpn_loc: 0.07434    time: 0.0784  last_time: 0.0792  data_time: 0.0028  last_data_time: 0.0026   lr: 2.5e-05  max_mem: 2070M\n",
      "[03/22 13:45:52 d2.utils.events]:  eta: 0:06:22  iter: 1119  total_loss: 0.4584  loss_cls: 0.05994  loss_box_reg: 0.0003538  loss_rpn_cls: 0.3065  loss_rpn_loc: 0.07107    time: 0.0784  last_time: 0.0826  data_time: 0.0029  last_data_time: 0.0026   lr: 2.5e-05  max_mem: 2070M\n",
      "[03/22 13:45:53 d2.utils.events]:  eta: 0:06:20  iter: 1139  total_loss: 0.403  loss_cls: 0.05846  loss_box_reg: 0.0003971  loss_rpn_cls: 0.2708  loss_rpn_loc: 0.06213    time: 0.0784  last_time: 0.0751  data_time: 0.0028  last_data_time: 0.0028   lr: 2.5e-05  max_mem: 2070M\n",
      "[03/22 13:45:55 d2.utils.events]:  eta: 0:06:19  iter: 1159  total_loss: 0.4645  loss_cls: 0.05381  loss_box_reg: 0.00473  loss_rpn_cls: 0.2884  loss_rpn_loc: 0.08079    time: 0.0784  last_time: 0.0831  data_time: 0.0028  last_data_time: 0.0025   lr: 2.5e-05  max_mem: 2070M\n",
      "[03/22 13:45:57 d2.utils.events]:  eta: 0:06:18  iter: 1179  total_loss: 0.4171  loss_cls: 0.05637  loss_box_reg: 0.001685  loss_rpn_cls: 0.2808  loss_rpn_loc: 0.06493    time: 0.0785  last_time: 0.0801  data_time: 0.0028  last_data_time: 0.0027   lr: 2.5e-05  max_mem: 2070M\n",
      "[03/22 13:45:58 d2.utils.events]:  eta: 0:06:17  iter: 1199  total_loss: 0.5238  loss_cls: 0.07136  loss_box_reg: 0.002277  loss_rpn_cls: 0.3272  loss_rpn_loc: 0.09549    time: 0.0785  last_time: 0.0772  data_time: 0.0026  last_data_time: 0.0025   lr: 2.5e-05  max_mem: 2070M\n"
     ]
    },
    {
     "name": "stdout",
     "output_type": "stream",
     "text": [
      "[03/22 13:46:00 d2.utils.events]:  eta: 0:06:16  iter: 1219  total_loss: 0.5033  loss_cls: 0.06411  loss_box_reg: 0.0007001  loss_rpn_cls: 0.3148  loss_rpn_loc: 0.0868    time: 0.0785  last_time: 0.0831  data_time: 0.0027  last_data_time: 0.0034   lr: 2.5e-05  max_mem: 2070M\n",
      "[03/22 13:46:01 d2.utils.events]:  eta: 0:06:14  iter: 1239  total_loss: 0.4416  loss_cls: 0.05609  loss_box_reg: 0.0002968  loss_rpn_cls: 0.2887  loss_rpn_loc: 0.07041    time: 0.0785  last_time: 0.0789  data_time: 0.0027  last_data_time: 0.0021   lr: 2.5e-05  max_mem: 2070M\n",
      "[03/22 13:46:03 d2.utils.events]:  eta: 0:06:13  iter: 1259  total_loss: 0.3457  loss_cls: 0.05687  loss_box_reg: 0.004243  loss_rpn_cls: 0.2431  loss_rpn_loc: 0.04733    time: 0.0785  last_time: 0.0790  data_time: 0.0030  last_data_time: 0.0032   lr: 2.5e-05  max_mem: 2070M\n",
      "[03/22 13:46:05 d2.utils.events]:  eta: 0:06:12  iter: 1279  total_loss: 0.366  loss_cls: 0.0543  loss_box_reg: 0.004783  loss_rpn_cls: 0.2384  loss_rpn_loc: 0.06116    time: 0.0786  last_time: 0.0877  data_time: 0.0031  last_data_time: 0.0038   lr: 2.5e-05  max_mem: 2070M\n",
      "[03/22 13:46:06 d2.utils.events]:  eta: 0:06:11  iter: 1299  total_loss: 0.4207  loss_cls: 0.0544  loss_box_reg: 0.004439  loss_rpn_cls: 0.2736  loss_rpn_loc: 0.06403    time: 0.0786  last_time: 0.0818  data_time: 0.0027  last_data_time: 0.0025   lr: 2.5e-05  max_mem: 2070M\n",
      "[03/22 13:46:08 d2.utils.events]:  eta: 0:06:09  iter: 1319  total_loss: 0.4496  loss_cls: 0.07  loss_box_reg: 0.004605  loss_rpn_cls: 0.2766  loss_rpn_loc: 0.06078    time: 0.0786  last_time: 0.0779  data_time: 0.0028  last_data_time: 0.0029   lr: 2.5e-05  max_mem: 2070M\n",
      "[03/22 13:46:09 d2.utils.events]:  eta: 0:06:08  iter: 1339  total_loss: 0.4226  loss_cls: 0.07181  loss_box_reg: 0.004698  loss_rpn_cls: 0.268  loss_rpn_loc: 0.05462    time: 0.0786  last_time: 0.0795  data_time: 0.0027  last_data_time: 0.0024   lr: 2.5e-05  max_mem: 2070M\n",
      "[03/22 13:46:11 d2.utils.events]:  eta: 0:06:06  iter: 1359  total_loss: 0.3837  loss_cls: 0.06587  loss_box_reg: 0.01069  loss_rpn_cls: 0.2453  loss_rpn_loc: 0.06801    time: 0.0786  last_time: 0.0799  data_time: 0.0026  last_data_time: 0.0028   lr: 2.5e-05  max_mem: 2070M\n",
      "[03/22 13:46:13 d2.utils.events]:  eta: 0:06:04  iter: 1379  total_loss: 0.3887  loss_cls: 0.06145  loss_box_reg: 0.005974  loss_rpn_cls: 0.2481  loss_rpn_loc: 0.0535    time: 0.0787  last_time: 0.0790  data_time: 0.0028  last_data_time: 0.0027   lr: 2.5e-05  max_mem: 2070M\n",
      "[03/22 13:46:14 d2.utils.events]:  eta: 0:06:03  iter: 1399  total_loss: 0.4363  loss_cls: 0.06012  loss_box_reg: 0.007846  loss_rpn_cls: 0.2832  loss_rpn_loc: 0.07013    time: 0.0787  last_time: 0.0762  data_time: 0.0028  last_data_time: 0.0024   lr: 2.5e-05  max_mem: 2070M\n",
      "[03/22 13:46:16 d2.utils.events]:  eta: 0:06:01  iter: 1419  total_loss: 0.3995  loss_cls: 0.05374  loss_box_reg: 0.0003519  loss_rpn_cls: 0.266  loss_rpn_loc: 0.06858    time: 0.0787  last_time: 0.0781  data_time: 0.0026  last_data_time: 0.0034   lr: 2.5e-05  max_mem: 2070M\n",
      "[03/22 13:46:17 d2.utils.events]:  eta: 0:06:00  iter: 1439  total_loss: 0.4051  loss_cls: 0.05968  loss_box_reg: 0.006127  loss_rpn_cls: 0.262  loss_rpn_loc: 0.07002    time: 0.0787  last_time: 0.0834  data_time: 0.0027  last_data_time: 0.0034   lr: 2.5e-05  max_mem: 2070M\n",
      "[03/22 13:46:19 d2.utils.events]:  eta: 0:05:58  iter: 1459  total_loss: 0.4083  loss_cls: 0.04832  loss_box_reg: 0.00553  loss_rpn_cls: 0.2616  loss_rpn_loc: 0.06532    time: 0.0787  last_time: 0.0711  data_time: 0.0024  last_data_time: 0.0026   lr: 2.5e-05  max_mem: 2070M\n",
      "[03/22 13:46:21 d2.utils.events]:  eta: 0:05:57  iter: 1479  total_loss: 0.4257  loss_cls: 0.05294  loss_box_reg: 0.006038  loss_rpn_cls: 0.2637  loss_rpn_loc: 0.08008    time: 0.0787  last_time: 0.0805  data_time: 0.0024  last_data_time: 0.0028   lr: 2.5e-05  max_mem: 2070M\n",
      "[03/22 13:46:22 d2.utils.events]:  eta: 0:05:55  iter: 1499  total_loss: 0.4632  loss_cls: 0.0468  loss_box_reg: 0.005045  loss_rpn_cls: 0.2926  loss_rpn_loc: 0.08881    time: 0.0787  last_time: 0.0751  data_time: 0.0024  last_data_time: 0.0022   lr: 2.5e-05  max_mem: 2070M\n",
      "[03/22 13:46:24 d2.utils.events]:  eta: 0:05:53  iter: 1519  total_loss: 0.4138  loss_cls: 0.06249  loss_box_reg: 0.006494  loss_rpn_cls: 0.2727  loss_rpn_loc: 0.08152    time: 0.0787  last_time: 0.0836  data_time: 0.0023  last_data_time: 0.0021   lr: 2.5e-05  max_mem: 2070M\n",
      "[03/22 13:46:25 d2.utils.events]:  eta: 0:05:52  iter: 1539  total_loss: 0.355  loss_cls: 0.0549  loss_box_reg: 0.0003025  loss_rpn_cls: 0.2375  loss_rpn_loc: 0.05496    time: 0.0787  last_time: 0.0773  data_time: 0.0027  last_data_time: 0.0025   lr: 2.5e-05  max_mem: 2070M\n",
      "[03/22 13:46:27 d2.utils.events]:  eta: 0:05:50  iter: 1559  total_loss: 0.4234  loss_cls: 0.07107  loss_box_reg: 0.01044  loss_rpn_cls: 0.2616  loss_rpn_loc: 0.06859    time: 0.0787  last_time: 0.0784  data_time: 0.0028  last_data_time: 0.0027   lr: 2.5e-05  max_mem: 2070M\n",
      "[03/22 13:46:28 d2.utils.events]:  eta: 0:05:49  iter: 1579  total_loss: 0.3668  loss_cls: 0.05775  loss_box_reg: 0.01409  loss_rpn_cls: 0.255  loss_rpn_loc: 0.05277    time: 0.0787  last_time: 0.0741  data_time: 0.0024  last_data_time: 0.0022   lr: 2.5e-05  max_mem: 2107M\n",
      "[03/22 13:46:30 d2.utils.events]:  eta: 0:05:47  iter: 1599  total_loss: 0.491  loss_cls: 0.07501  loss_box_reg: 0.008673  loss_rpn_cls: 0.2817  loss_rpn_loc: 0.06443    time: 0.0787  last_time: 0.0753  data_time: 0.0024  last_data_time: 0.0026   lr: 2.5e-05  max_mem: 2107M\n",
      "[03/22 13:46:32 d2.utils.events]:  eta: 0:05:45  iter: 1619  total_loss: 0.3434  loss_cls: 0.0554  loss_box_reg: 0.007684  loss_rpn_cls: 0.2255  loss_rpn_loc: 0.05548    time: 0.0787  last_time: 0.0762  data_time: 0.0027  last_data_time: 0.0025   lr: 2.5e-05  max_mem: 2107M\n",
      "[03/22 13:46:33 d2.utils.events]:  eta: 0:05:44  iter: 1639  total_loss: 0.3845  loss_cls: 0.065  loss_box_reg: 0.004139  loss_rpn_cls: 0.2433  loss_rpn_loc: 0.05141    time: 0.0787  last_time: 0.0764  data_time: 0.0028  last_data_time: 0.0024   lr: 2.5e-05  max_mem: 2107M\n",
      "[03/22 13:46:35 d2.utils.events]:  eta: 0:05:42  iter: 1659  total_loss: 0.3605  loss_cls: 0.03966  loss_box_reg: 0.002023  loss_rpn_cls: 0.2263  loss_rpn_loc: 0.04608    time: 0.0787  last_time: 0.0784  data_time: 0.0024  last_data_time: 0.0023   lr: 2.5e-05  max_mem: 2107M\n",
      "[03/22 13:46:36 d2.utils.events]:  eta: 0:05:40  iter: 1679  total_loss: 0.4289  loss_cls: 0.06636  loss_box_reg: 0.01273  loss_rpn_cls: 0.2472  loss_rpn_loc: 0.08558    time: 0.0787  last_time: 0.0821  data_time: 0.0026  last_data_time: 0.0028   lr: 2.5e-05  max_mem: 2107M\n",
      "[03/22 13:46:38 d2.utils.events]:  eta: 0:05:39  iter: 1699  total_loss: 0.4328  loss_cls: 0.0729  loss_box_reg: 0.00923  loss_rpn_cls: 0.2758  loss_rpn_loc: 0.06572    time: 0.0787  last_time: 0.0769  data_time: 0.0029  last_data_time: 0.0030   lr: 2.5e-05  max_mem: 2107M\n",
      "[03/22 13:46:39 d2.utils.events]:  eta: 0:05:37  iter: 1719  total_loss: 0.3979  loss_cls: 0.06292  loss_box_reg: 0.006612  loss_rpn_cls: 0.2606  loss_rpn_loc: 0.06115    time: 0.0787  last_time: 0.0829  data_time: 0.0031  last_data_time: 0.0025   lr: 2.5e-05  max_mem: 2107M\n",
      "[03/22 13:46:41 d2.utils.events]:  eta: 0:05:36  iter: 1739  total_loss: 0.3955  loss_cls: 0.05883  loss_box_reg: 0.006479  loss_rpn_cls: 0.252  loss_rpn_loc: 0.07201    time: 0.0787  last_time: 0.0764  data_time: 0.0027  last_data_time: 0.0026   lr: 2.5e-05  max_mem: 2107M\n",
      "[03/22 13:46:43 d2.utils.events]:  eta: 0:05:34  iter: 1759  total_loss: 0.337  loss_cls: 0.05709  loss_box_reg: 0.005467  loss_rpn_cls: 0.2137  loss_rpn_loc: 0.03572    time: 0.0787  last_time: 0.0800  data_time: 0.0025  last_data_time: 0.0021   lr: 2.5e-05  max_mem: 2107M\n",
      "[03/22 13:46:44 d2.utils.events]:  eta: 0:05:33  iter: 1779  total_loss: 0.3946  loss_cls: 0.046  loss_box_reg: 0.001636  loss_rpn_cls: 0.2394  loss_rpn_loc: 0.08133    time: 0.0787  last_time: 0.0835  data_time: 0.0025  last_data_time: 0.0022   lr: 2.5e-05  max_mem: 2107M\n",
      "[03/22 13:46:46 d2.utils.events]:  eta: 0:05:31  iter: 1799  total_loss: 0.4576  loss_cls: 0.06007  loss_box_reg: 0.01561  loss_rpn_cls: 0.2633  loss_rpn_loc: 0.08679    time: 0.0787  last_time: 0.0822  data_time: 0.0025  last_data_time: 0.0023   lr: 2.5e-05  max_mem: 2107M\n"
     ]
    },
    {
     "name": "stdout",
     "output_type": "stream",
     "text": [
      "[03/22 13:46:47 d2.utils.events]:  eta: 0:05:29  iter: 1819  total_loss: 0.4487  loss_cls: 0.05514  loss_box_reg: 0.0002923  loss_rpn_cls: 0.2954  loss_rpn_loc: 0.08812    time: 0.0787  last_time: 0.0792  data_time: 0.0026  last_data_time: 0.0027   lr: 2.5e-05  max_mem: 2107M\n",
      "[03/22 13:46:49 d2.utils.events]:  eta: 0:05:28  iter: 1839  total_loss: 0.447  loss_cls: 0.0521  loss_box_reg: 0.00398  loss_rpn_cls: 0.27  loss_rpn_loc: 0.1005    time: 0.0787  last_time: 0.0775  data_time: 0.0025  last_data_time: 0.0024   lr: 2.5e-05  max_mem: 2107M\n",
      "[03/22 13:46:51 d2.utils.events]:  eta: 0:05:27  iter: 1859  total_loss: 0.3629  loss_cls: 0.04886  loss_box_reg: 0.0003334  loss_rpn_cls: 0.2422  loss_rpn_loc: 0.08505    time: 0.0787  last_time: 0.0770  data_time: 0.0028  last_data_time: 0.0026   lr: 2.5e-05  max_mem: 2107M\n",
      "[03/22 13:46:52 d2.utils.events]:  eta: 0:05:25  iter: 1879  total_loss: 0.4086  loss_cls: 0.05107  loss_box_reg: 0.005178  loss_rpn_cls: 0.2366  loss_rpn_loc: 0.08806    time: 0.0787  last_time: 0.0803  data_time: 0.0028  last_data_time: 0.0026   lr: 2.5e-05  max_mem: 2107M\n",
      "[03/22 13:46:54 d2.utils.events]:  eta: 0:05:24  iter: 1899  total_loss: 0.3603  loss_cls: 0.05735  loss_box_reg: 0.007193  loss_rpn_cls: 0.2208  loss_rpn_loc: 0.05375    time: 0.0788  last_time: 0.0824  data_time: 0.0027  last_data_time: 0.0023   lr: 2.5e-05  max_mem: 2107M\n",
      "[03/22 13:46:55 d2.utils.events]:  eta: 0:05:22  iter: 1919  total_loss: 0.3957  loss_cls: 0.05864  loss_box_reg: 0.001675  loss_rpn_cls: 0.2436  loss_rpn_loc: 0.06054    time: 0.0788  last_time: 0.0775  data_time: 0.0026  last_data_time: 0.0024   lr: 2.5e-05  max_mem: 2107M\n",
      "[03/22 13:46:57 d2.utils.events]:  eta: 0:05:21  iter: 1939  total_loss: 0.3938  loss_cls: 0.05429  loss_box_reg: 0.00372  loss_rpn_cls: 0.2501  loss_rpn_loc: 0.08162    time: 0.0788  last_time: 0.0839  data_time: 0.0027  last_data_time: 0.0025   lr: 2.5e-05  max_mem: 2107M\n",
      "[03/22 13:46:59 d2.utils.events]:  eta: 0:05:20  iter: 1959  total_loss: 0.3769  loss_cls: 0.06241  loss_box_reg: 0.005872  loss_rpn_cls: 0.2223  loss_rpn_loc: 0.06547    time: 0.0788  last_time: 0.0753  data_time: 0.0025  last_data_time: 0.0023   lr: 2.5e-05  max_mem: 2107M\n",
      "[03/22 13:47:00 d2.utils.events]:  eta: 0:05:19  iter: 1979  total_loss: 0.3459  loss_cls: 0.06218  loss_box_reg: 0.00736  loss_rpn_cls: 0.2136  loss_rpn_loc: 0.04544    time: 0.0788  last_time: 0.0815  data_time: 0.0026  last_data_time: 0.0028   lr: 2.5e-05  max_mem: 2107M\n",
      "WARNING [03/22 13:47:02 d2.data.datasets.coco]: \n",
      "Category ids in annotations are not in [1, #categories]! We'll apply a mapping for you.\n",
      "\n",
      "[03/22 13:47:02 d2.data.datasets.coco]: Loaded 1801 images in COCO format from /workspace/data/labels_val.json\n",
      "[03/22 13:47:02 d2.data.dataset_mapper]: [DatasetMapper] Augmentations used in inference: [ResizeShortestEdge(short_edge_length=(800, 800), max_size=1333, sample_style='choice')]\n",
      "[03/22 13:47:02 d2.data.common]: Serializing the dataset using: <class 'detectron2.data.common._TorchSerializedList'>\n",
      "[03/22 13:47:02 d2.data.common]: Serializing 1801 elements to byte tensors and concatenating them all ...\n",
      "[03/22 13:47:02 d2.data.common]: Serialized dataset takes 0.92 MiB\n",
      "[03/22 13:47:02 d2.evaluation.coco_evaluation]: Fast COCO eval is not built. Falling back to official COCO eval.\n",
      "WARNING [03/22 13:47:02 d2.evaluation.coco_evaluation]: COCO Evaluator instantiated using config, this is deprecated behavior. Please pass in explicit arguments instead.\n",
      "[03/22 13:47:02 d2.evaluation.evaluator]: Start inference on 1801 batches\n",
      "[03/22 13:47:03 d2.evaluation.evaluator]: Inference done 11/1801. Dataloading: 0.0007 s/iter. Inference: 0.0257 s/iter. Eval: 0.0001 s/iter. Total: 0.0265 s/iter. ETA=0:00:47\n",
      "[03/22 13:47:08 d2.evaluation.evaluator]: Inference done 199/1801. Dataloading: 0.0008 s/iter. Inference: 0.0257 s/iter. Eval: 0.0001 s/iter. Total: 0.0266 s/iter. ETA=0:00:42\n",
      "[03/22 13:47:13 d2.evaluation.evaluator]: Inference done 388/1801. Dataloading: 0.0008 s/iter. Inference: 0.0256 s/iter. Eval: 0.0001 s/iter. Total: 0.0266 s/iter. ETA=0:00:37\n",
      "[03/22 13:47:18 d2.evaluation.evaluator]: Inference done 577/1801. Dataloading: 0.0008 s/iter. Inference: 0.0256 s/iter. Eval: 0.0001 s/iter. Total: 0.0265 s/iter. ETA=0:00:32\n",
      "[03/22 13:47:23 d2.evaluation.evaluator]: Inference done 770/1801. Dataloading: 0.0008 s/iter. Inference: 0.0255 s/iter. Eval: 0.0001 s/iter. Total: 0.0264 s/iter. ETA=0:00:27\n",
      "[03/22 13:47:28 d2.evaluation.evaluator]: Inference done 962/1801. Dataloading: 0.0008 s/iter. Inference: 0.0254 s/iter. Eval: 0.0001 s/iter. Total: 0.0264 s/iter. ETA=0:00:22\n",
      "[03/22 13:47:33 d2.evaluation.evaluator]: Inference done 1155/1801. Dataloading: 0.0008 s/iter. Inference: 0.0254 s/iter. Eval: 0.0001 s/iter. Total: 0.0263 s/iter. ETA=0:00:16\n",
      "[03/22 13:47:38 d2.evaluation.evaluator]: Inference done 1349/1801. Dataloading: 0.0008 s/iter. Inference: 0.0253 s/iter. Eval: 0.0001 s/iter. Total: 0.0262 s/iter. ETA=0:00:11\n",
      "[03/22 13:47:43 d2.evaluation.evaluator]: Inference done 1544/1801. Dataloading: 0.0008 s/iter. Inference: 0.0253 s/iter. Eval: 0.0001 s/iter. Total: 0.0262 s/iter. ETA=0:00:06\n",
      "[03/22 13:47:48 d2.evaluation.evaluator]: Inference done 1738/1801. Dataloading: 0.0008 s/iter. Inference: 0.0252 s/iter. Eval: 0.0001 s/iter. Total: 0.0261 s/iter. ETA=0:00:01\n",
      "[03/22 13:47:49 d2.evaluation.evaluator]: Total inference time: 0:00:47.015888 (0.026178 s / iter per device, on 1 devices)\n",
      "[03/22 13:47:49 d2.evaluation.evaluator]: Total inference pure compute time: 0:00:45 (0.025235 s / iter per device, on 1 devices)\n",
      "[03/22 13:47:49 d2.evaluation.coco_evaluation]: Preparing results for COCO format ...\n",
      "[03/22 13:47:49 d2.evaluation.coco_evaluation]: Saving results to /workspace/output/output_res030_bs2_03.22.13.44/inference/coco_instances_results.json\n",
      "[03/22 13:47:49 d2.evaluation.coco_evaluation]: Evaluating predictions with official COCO API...\n",
      "Loading and preparing results...\n",
      "DONE (t=0.01s)\n",
      "creating index...\n",
      "index created!\n",
      "Running per image evaluation...\n",
      "Evaluate annotation type *bbox*\n",
      "DONE (t=1.15s).\n",
      "Accumulating evaluation results...\n",
      "DONE (t=0.14s).\n",
      " Average Precision  (AP) @[ IoU=0.50:0.95 | area=   all | maxDets=100 ] = 0.000\n",
      " Average Precision  (AP) @[ IoU=0.50      | area=   all | maxDets=100 ] = 0.000\n",
      " Average Precision  (AP) @[ IoU=0.75      | area=   all | maxDets=100 ] = 0.000\n",
      " Average Precision  (AP) @[ IoU=0.50:0.95 | area= small | maxDets=100 ] = 0.000\n",
      " Average Precision  (AP) @[ IoU=0.50:0.95 | area=medium | maxDets=100 ] = 0.000\n",
      " Average Precision  (AP) @[ IoU=0.50:0.95 | area= large | maxDets=100 ] = 0.000\n",
      " Average Recall     (AR) @[ IoU=0.50:0.95 | area=   all | maxDets=  1 ] = 0.000\n",
      " Average Recall     (AR) @[ IoU=0.50:0.95 | area=   all | maxDets= 10 ] = 0.001\n",
      " Average Recall     (AR) @[ IoU=0.50:0.95 | area=   all | maxDets=100 ] = 0.001\n",
      " Average Recall     (AR) @[ IoU=0.50:0.95 | area= small | maxDets=100 ] = 0.001\n",
      " Average Recall     (AR) @[ IoU=0.50:0.95 | area=medium | maxDets=100 ] = 0.001\n",
      " Average Recall     (AR) @[ IoU=0.50:0.95 | area= large | maxDets=100 ] = 0.000\n",
      "[03/22 13:47:51 d2.evaluation.coco_evaluation]: Evaluation results for bbox: \n",
      "|  AP   |  AP50  |  AP75  |  APs  |  APm  |  APl  |\n",
      "|:-----:|:------:|:------:|:-----:|:-----:|:-----:|\n",
      "| 0.001 | 0.005  | 0.000  | 0.002 | 0.000 | 0.000 |\n",
      "[03/22 13:47:51 d2.evaluation.coco_evaluation]: Per-category bbox AP: \n",
      "| category   | AP    | category   | AP    |\n",
      "|:-----------|:------|:-----------|:------|\n",
      "| DT         | 0.003 | TT         | 0.000 |\n",
      "[03/22 13:47:51 d2.engine.defaults]: Evaluation results for tower_val_03012 in csv format:\n",
      "[03/22 13:47:51 d2.evaluation.testing]: copypaste: Task: bbox\n",
      "[03/22 13:47:51 d2.evaluation.testing]: copypaste: AP,AP50,AP75,APs,APm,APl\n",
      "[03/22 13:47:51 d2.evaluation.testing]: copypaste: 0.0013,0.0052,0.0001,0.0017,0.0002,0.0000\n",
      "[03/22 13:48:52 d2.utils.events]:  eta: 0:05:17  iter: 1999  total_loss: 0.3093  loss_cls: 0.05433  loss_box_reg: 0.006907  loss_rpn_cls: 0.2005  loss_rpn_loc: 0.04083  validation_loss: 0.4095    time: 0.0789  last_time: 0.0792  data_time: 0.0026  last_data_time: 0.0027   lr: 2.5e-05  max_mem: 2107M\n",
      "[03/22 13:48:54 d2.utils.events]:  eta: 0:05:15  iter: 2019  total_loss: 0.3467  loss_cls: 0.0522  loss_box_reg: 0.01578  loss_rpn_cls: 0.2131  loss_rpn_loc: 0.07922  validation_loss: 0.4095    time: 0.0789  last_time: 0.0779  data_time: 0.0025  last_data_time: 0.0023   lr: 2.5e-05  max_mem: 2107M\n"
     ]
    },
    {
     "name": "stdout",
     "output_type": "stream",
     "text": [
      "[03/22 13:48:55 d2.utils.events]:  eta: 0:05:14  iter: 2039  total_loss: 0.4385  loss_cls: 0.07235  loss_box_reg: 0.005026  loss_rpn_cls: 0.271  loss_rpn_loc: 0.08071  validation_loss: 0.4095    time: 0.0789  last_time: 0.0759  data_time: 0.0028  last_data_time: 0.0032   lr: 2.5e-05  max_mem: 2107M\n",
      "[03/22 13:48:57 d2.utils.events]:  eta: 0:05:12  iter: 2059  total_loss: 0.4299  loss_cls: 0.06859  loss_box_reg: 0.01838  loss_rpn_cls: 0.2468  loss_rpn_loc: 0.06506  validation_loss: 0.4095    time: 0.0789  last_time: 0.0815  data_time: 0.0028  last_data_time: 0.0027   lr: 2.5e-05  max_mem: 2107M\n",
      "[03/22 13:48:59 d2.utils.events]:  eta: 0:05:11  iter: 2079  total_loss: 0.4265  loss_cls: 0.07134  loss_box_reg: 0.0173  loss_rpn_cls: 0.2545  loss_rpn_loc: 0.06315  validation_loss: 0.4095    time: 0.0789  last_time: 0.0800  data_time: 0.0027  last_data_time: 0.0025   lr: 2.5e-05  max_mem: 2107M\n",
      "[03/22 13:49:00 d2.utils.events]:  eta: 0:05:09  iter: 2099  total_loss: 0.4624  loss_cls: 0.06937  loss_box_reg: 0.03289  loss_rpn_cls: 0.2285  loss_rpn_loc: 0.05984  validation_loss: 0.4095    time: 0.0789  last_time: 0.0800  data_time: 0.0027  last_data_time: 0.0025   lr: 2.5e-05  max_mem: 2107M\n",
      "[03/22 13:49:02 d2.utils.events]:  eta: 0:05:08  iter: 2119  total_loss: 0.4556  loss_cls: 0.0823  loss_box_reg: 0.02408  loss_rpn_cls: 0.2485  loss_rpn_loc: 0.07793  validation_loss: 0.4095    time: 0.0789  last_time: 0.0739  data_time: 0.0030  last_data_time: 0.0026   lr: 2.5e-05  max_mem: 2107M\n",
      "[03/22 13:49:03 d2.utils.events]:  eta: 0:05:06  iter: 2139  total_loss: 0.3285  loss_cls: 0.06201  loss_box_reg: 0.01657  loss_rpn_cls: 0.1865  loss_rpn_loc: 0.04624  validation_loss: 0.4095    time: 0.0789  last_time: 0.0732  data_time: 0.0027  last_data_time: 0.0026   lr: 2.5e-05  max_mem: 2107M\n",
      "[03/22 13:49:05 d2.utils.events]:  eta: 0:05:05  iter: 2159  total_loss: 0.471  loss_cls: 0.07147  loss_box_reg: 0.02161  loss_rpn_cls: 0.2543  loss_rpn_loc: 0.101  validation_loss: 0.4095    time: 0.0789  last_time: 0.0809  data_time: 0.0027  last_data_time: 0.0024   lr: 2.5e-05  max_mem: 2107M\n",
      "[03/22 13:49:07 d2.utils.events]:  eta: 0:05:03  iter: 2179  total_loss: 0.453  loss_cls: 0.09078  loss_box_reg: 0.0247  loss_rpn_cls: 0.2577  loss_rpn_loc: 0.06721  validation_loss: 0.4095    time: 0.0789  last_time: 0.0735  data_time: 0.0028  last_data_time: 0.0029   lr: 2.5e-05  max_mem: 2107M\n",
      "[03/22 13:49:08 d2.utils.events]:  eta: 0:05:01  iter: 2199  total_loss: 0.3842  loss_cls: 0.07076  loss_box_reg: 0.02112  loss_rpn_cls: 0.2192  loss_rpn_loc: 0.05189  validation_loss: 0.4095    time: 0.0789  last_time: 0.0811  data_time: 0.0024  last_data_time: 0.0021   lr: 2.5e-05  max_mem: 2107M\n",
      "[03/22 13:49:10 d2.utils.events]:  eta: 0:05:00  iter: 2219  total_loss: 0.4747  loss_cls: 0.07598  loss_box_reg: 0.009538  loss_rpn_cls: 0.2629  loss_rpn_loc: 0.1021  validation_loss: 0.4095    time: 0.0789  last_time: 0.0805  data_time: 0.0027  last_data_time: 0.0025   lr: 2.5e-05  max_mem: 2107M\n",
      "[03/22 13:49:11 d2.utils.events]:  eta: 0:04:58  iter: 2239  total_loss: 0.3666  loss_cls: 0.05708  loss_box_reg: 0.01166  loss_rpn_cls: 0.2183  loss_rpn_loc: 0.04396  validation_loss: 0.4095    time: 0.0789  last_time: 0.0755  data_time: 0.0026  last_data_time: 0.0025   lr: 2.5e-05  max_mem: 2107M\n",
      "[03/22 13:49:13 d2.utils.events]:  eta: 0:04:56  iter: 2259  total_loss: 0.3892  loss_cls: 0.05077  loss_box_reg: 0.009973  loss_rpn_cls: 0.2232  loss_rpn_loc: 0.05783  validation_loss: 0.4095    time: 0.0789  last_time: 0.0788  data_time: 0.0026  last_data_time: 0.0027   lr: 2.5e-05  max_mem: 2107M\n",
      "[03/22 13:49:15 d2.utils.events]:  eta: 0:04:55  iter: 2279  total_loss: 0.3365  loss_cls: 0.06398  loss_box_reg: 0.01572  loss_rpn_cls: 0.1987  loss_rpn_loc: 0.03781  validation_loss: 0.4095    time: 0.0789  last_time: 0.0814  data_time: 0.0029  last_data_time: 0.0025   lr: 2.5e-05  max_mem: 2107M\n",
      "[03/22 13:49:16 d2.utils.events]:  eta: 0:04:53  iter: 2299  total_loss: 0.424  loss_cls: 0.0589  loss_box_reg: 0.01599  loss_rpn_cls: 0.2309  loss_rpn_loc: 0.07651  validation_loss: 0.4095    time: 0.0789  last_time: 0.0760  data_time: 0.0028  last_data_time: 0.0026   lr: 2.5e-05  max_mem: 2107M\n",
      "[03/22 13:49:18 d2.utils.events]:  eta: 0:04:52  iter: 2319  total_loss: 0.483  loss_cls: 0.09421  loss_box_reg: 0.02891  loss_rpn_cls: 0.2331  loss_rpn_loc: 0.06656  validation_loss: 0.4095    time: 0.0789  last_time: 0.0800  data_time: 0.0028  last_data_time: 0.0025   lr: 2.5e-05  max_mem: 2107M\n",
      "[03/22 13:49:19 d2.utils.events]:  eta: 0:04:50  iter: 2339  total_loss: 0.3929  loss_cls: 0.08701  loss_box_reg: 0.02507  loss_rpn_cls: 0.2098  loss_rpn_loc: 0.0479  validation_loss: 0.4095    time: 0.0789  last_time: 0.0827  data_time: 0.0027  last_data_time: 0.0025   lr: 2.5e-05  max_mem: 2107M\n",
      "[03/22 13:49:21 d2.utils.events]:  eta: 0:04:48  iter: 2359  total_loss: 0.4284  loss_cls: 0.1003  loss_box_reg: 0.05803  loss_rpn_cls: 0.2082  loss_rpn_loc: 0.04908  validation_loss: 0.4095    time: 0.0789  last_time: 0.0742  data_time: 0.0028  last_data_time: 0.0036   lr: 2.5e-05  max_mem: 2107M\n",
      "[03/22 13:49:23 d2.utils.events]:  eta: 0:04:46  iter: 2379  total_loss: 0.4311  loss_cls: 0.08234  loss_box_reg: 0.03687  loss_rpn_cls: 0.2366  loss_rpn_loc: 0.06133  validation_loss: 0.4095    time: 0.0789  last_time: 0.0768  data_time: 0.0027  last_data_time: 0.0027   lr: 2.5e-05  max_mem: 2107M\n",
      "[03/22 13:49:24 d2.utils.events]:  eta: 0:04:45  iter: 2399  total_loss: 0.415  loss_cls: 0.08603  loss_box_reg: 0.04306  loss_rpn_cls: 0.2265  loss_rpn_loc: 0.07015  validation_loss: 0.4095    time: 0.0789  last_time: 0.0780  data_time: 0.0028  last_data_time: 0.0027   lr: 2.5e-05  max_mem: 2107M\n",
      "[03/22 13:49:26 d2.utils.events]:  eta: 0:04:43  iter: 2419  total_loss: 0.4577  loss_cls: 0.07855  loss_box_reg: 0.02746  loss_rpn_cls: 0.2404  loss_rpn_loc: 0.0714  validation_loss: 0.4095    time: 0.0789  last_time: 0.0808  data_time: 0.0026  last_data_time: 0.0026   lr: 2.5e-05  max_mem: 2107M\n",
      "[03/22 13:49:27 d2.utils.events]:  eta: 0:04:41  iter: 2439  total_loss: 0.4784  loss_cls: 0.07624  loss_box_reg: 0.03253  loss_rpn_cls: 0.2548  loss_rpn_loc: 0.09406  validation_loss: 0.4095    time: 0.0789  last_time: 0.0791  data_time: 0.0026  last_data_time: 0.0027   lr: 2.5e-05  max_mem: 2107M\n",
      "[03/22 13:49:29 d2.utils.events]:  eta: 0:04:40  iter: 2459  total_loss: 0.4517  loss_cls: 0.09865  loss_box_reg: 0.04219  loss_rpn_cls: 0.2414  loss_rpn_loc: 0.04845  validation_loss: 0.4095    time: 0.0789  last_time: 0.0766  data_time: 0.0026  last_data_time: 0.0026   lr: 2.5e-05  max_mem: 2107M\n",
      "[03/22 13:49:30 d2.utils.events]:  eta: 0:04:39  iter: 2479  total_loss: 0.4425  loss_cls: 0.07037  loss_box_reg: 0.03232  loss_rpn_cls: 0.2172  loss_rpn_loc: 0.06297  validation_loss: 0.4095    time: 0.0789  last_time: 0.0871  data_time: 0.0024  last_data_time: 0.0022   lr: 2.5e-05  max_mem: 2107M\n",
      "[03/22 13:49:32 d2.utils.events]:  eta: 0:04:37  iter: 2499  total_loss: 0.3912  loss_cls: 0.07071  loss_box_reg: 0.02479  loss_rpn_cls: 0.2009  loss_rpn_loc: 0.04225  validation_loss: 0.4095    time: 0.0789  last_time: 0.0775  data_time: 0.0025  last_data_time: 0.0024   lr: 2.5e-05  max_mem: 2107M\n",
      "[03/22 13:49:34 d2.utils.events]:  eta: 0:04:36  iter: 2519  total_loss: 0.5102  loss_cls: 0.1158  loss_box_reg: 0.06422  loss_rpn_cls: 0.253  loss_rpn_loc: 0.06  validation_loss: 0.4095    time: 0.0789  last_time: 0.0739  data_time: 0.0028  last_data_time: 0.0023   lr: 2.5e-06  max_mem: 2107M\n",
      "[03/22 13:49:35 d2.utils.events]:  eta: 0:04:34  iter: 2539  total_loss: 0.4435  loss_cls: 0.096  loss_box_reg: 0.04572  loss_rpn_cls: 0.2228  loss_rpn_loc: 0.04919  validation_loss: 0.4095    time: 0.0789  last_time: 0.0798  data_time: 0.0025  last_data_time: 0.0023   lr: 2.5e-06  max_mem: 2107M\n",
      "[03/22 13:49:37 d2.utils.events]:  eta: 0:04:32  iter: 2559  total_loss: 0.4803  loss_cls: 0.1067  loss_box_reg: 0.06358  loss_rpn_cls: 0.2127  loss_rpn_loc: 0.05219  validation_loss: 0.4095    time: 0.0789  last_time: 0.0788  data_time: 0.0026  last_data_time: 0.0028   lr: 2.5e-06  max_mem: 2107M\n",
      "[03/22 13:49:38 d2.utils.events]:  eta: 0:04:31  iter: 2579  total_loss: 0.3652  loss_cls: 0.07759  loss_box_reg: 0.04553  loss_rpn_cls: 0.2026  loss_rpn_loc: 0.04809  validation_loss: 0.4095    time: 0.0789  last_time: 0.0775  data_time: 0.0025  last_data_time: 0.0024   lr: 2.5e-06  max_mem: 2107M\n"
     ]
    },
    {
     "name": "stdout",
     "output_type": "stream",
     "text": [
      "[03/22 13:49:40 d2.utils.events]:  eta: 0:04:29  iter: 2599  total_loss: 0.4157  loss_cls: 0.0844  loss_box_reg: 0.03368  loss_rpn_cls: 0.2188  loss_rpn_loc: 0.062  validation_loss: 0.4095    time: 0.0789  last_time: 0.0757  data_time: 0.0026  last_data_time: 0.0025   lr: 2.5e-06  max_mem: 2107M\n",
      "[03/22 13:49:41 d2.utils.events]:  eta: 0:04:27  iter: 2619  total_loss: 0.3989  loss_cls: 0.08134  loss_box_reg: 0.02861  loss_rpn_cls: 0.2367  loss_rpn_loc: 0.04826  validation_loss: 0.4095    time: 0.0789  last_time: 0.0773  data_time: 0.0025  last_data_time: 0.0022   lr: 2.5e-06  max_mem: 2107M\n",
      "[03/22 13:49:43 d2.utils.events]:  eta: 0:04:26  iter: 2639  total_loss: 0.5842  loss_cls: 0.0855  loss_box_reg: 0.03934  loss_rpn_cls: 0.2702  loss_rpn_loc: 0.07165  validation_loss: 0.4095    time: 0.0789  last_time: 0.0760  data_time: 0.0024  last_data_time: 0.0022   lr: 2.5e-06  max_mem: 2107M\n",
      "[03/22 13:49:45 d2.utils.events]:  eta: 0:04:24  iter: 2659  total_loss: 0.426  loss_cls: 0.08421  loss_box_reg: 0.03706  loss_rpn_cls: 0.2267  loss_rpn_loc: 0.06038  validation_loss: 0.4095    time: 0.0789  last_time: 0.0773  data_time: 0.0024  last_data_time: 0.0023   lr: 2.5e-06  max_mem: 2107M\n",
      "[03/22 13:49:46 d2.utils.events]:  eta: 0:04:23  iter: 2679  total_loss: 0.3366  loss_cls: 0.07827  loss_box_reg: 0.041  loss_rpn_cls: 0.1876  loss_rpn_loc: 0.04018  validation_loss: 0.4095    time: 0.0789  last_time: 0.0806  data_time: 0.0026  last_data_time: 0.0025   lr: 2.5e-06  max_mem: 2107M\n",
      "[03/22 13:49:48 d2.utils.events]:  eta: 0:04:21  iter: 2699  total_loss: 0.4528  loss_cls: 0.0823  loss_box_reg: 0.03107  loss_rpn_cls: 0.2165  loss_rpn_loc: 0.05602  validation_loss: 0.4095    time: 0.0789  last_time: 0.0771  data_time: 0.0026  last_data_time: 0.0026   lr: 2.5e-06  max_mem: 2107M\n",
      "[03/22 13:49:49 d2.utils.events]:  eta: 0:04:19  iter: 2719  total_loss: 0.4271  loss_cls: 0.09698  loss_box_reg: 0.03502  loss_rpn_cls: 0.2192  loss_rpn_loc: 0.05816  validation_loss: 0.4095    time: 0.0789  last_time: 0.0774  data_time: 0.0026  last_data_time: 0.0026   lr: 2.5e-06  max_mem: 2107M\n",
      "[03/22 13:49:51 d2.utils.events]:  eta: 0:04:18  iter: 2739  total_loss: 0.3817  loss_cls: 0.08583  loss_box_reg: 0.04578  loss_rpn_cls: 0.2018  loss_rpn_loc: 0.0428  validation_loss: 0.4095    time: 0.0788  last_time: 0.0759  data_time: 0.0024  last_data_time: 0.0026   lr: 2.5e-06  max_mem: 2107M\n",
      "[03/22 13:49:52 d2.utils.events]:  eta: 0:04:16  iter: 2759  total_loss: 0.4564  loss_cls: 0.09847  loss_box_reg: 0.05203  loss_rpn_cls: 0.2127  loss_rpn_loc: 0.04806  validation_loss: 0.4095    time: 0.0788  last_time: 0.0810  data_time: 0.0026  last_data_time: 0.0029   lr: 2.5e-06  max_mem: 2107M\n",
      "[03/22 13:49:54 d2.utils.events]:  eta: 0:04:15  iter: 2779  total_loss: 0.5381  loss_cls: 0.0815  loss_box_reg: 0.04427  loss_rpn_cls: 0.2641  loss_rpn_loc: 0.07495  validation_loss: 0.4095    time: 0.0788  last_time: 0.0792  data_time: 0.0028  last_data_time: 0.0028   lr: 2.5e-06  max_mem: 2107M\n",
      "[03/22 13:49:56 d2.utils.events]:  eta: 0:04:13  iter: 2799  total_loss: 0.5581  loss_cls: 0.1052  loss_box_reg: 0.05558  loss_rpn_cls: 0.2272  loss_rpn_loc: 0.05552  validation_loss: 0.4095    time: 0.0789  last_time: 0.0767  data_time: 0.0025  last_data_time: 0.0024   lr: 2.5e-06  max_mem: 2125M\n",
      "[03/22 13:49:57 d2.utils.events]:  eta: 0:04:11  iter: 2819  total_loss: 0.385  loss_cls: 0.07552  loss_box_reg: 0.03791  loss_rpn_cls: 0.205  loss_rpn_loc: 0.06863  validation_loss: 0.4095    time: 0.0789  last_time: 0.0757  data_time: 0.0026  last_data_time: 0.0024   lr: 2.5e-06  max_mem: 2125M\n",
      "[03/22 13:49:59 d2.utils.events]:  eta: 0:04:10  iter: 2839  total_loss: 0.3981  loss_cls: 0.08864  loss_box_reg: 0.03636  loss_rpn_cls: 0.1931  loss_rpn_loc: 0.03452  validation_loss: 0.4095    time: 0.0789  last_time: 0.0788  data_time: 0.0025  last_data_time: 0.0024   lr: 2.5e-06  max_mem: 2125M\n",
      "[03/22 13:50:00 d2.utils.events]:  eta: 0:04:08  iter: 2859  total_loss: 0.5744  loss_cls: 0.1161  loss_box_reg: 0.05787  loss_rpn_cls: 0.262  loss_rpn_loc: 0.08506  validation_loss: 0.4095    time: 0.0789  last_time: 0.0755  data_time: 0.0026  last_data_time: 0.0024   lr: 2.5e-06  max_mem: 2125M\n",
      "[03/22 13:50:02 d2.utils.events]:  eta: 0:04:07  iter: 2879  total_loss: 0.4385  loss_cls: 0.06756  loss_box_reg: 0.02973  loss_rpn_cls: 0.2389  loss_rpn_loc: 0.0773  validation_loss: 0.4095    time: 0.0789  last_time: 0.0760  data_time: 0.0026  last_data_time: 0.0024   lr: 2.5e-06  max_mem: 2125M\n",
      "[03/22 13:50:04 d2.utils.events]:  eta: 0:04:05  iter: 2899  total_loss: 0.3777  loss_cls: 0.07664  loss_box_reg: 0.03518  loss_rpn_cls: 0.187  loss_rpn_loc: 0.05274  validation_loss: 0.4095    time: 0.0789  last_time: 0.0841  data_time: 0.0028  last_data_time: 0.0026   lr: 2.5e-06  max_mem: 2125M\n",
      "[03/22 13:50:05 d2.utils.events]:  eta: 0:04:03  iter: 2919  total_loss: 0.4263  loss_cls: 0.09708  loss_box_reg: 0.0416  loss_rpn_cls: 0.2185  loss_rpn_loc: 0.06096  validation_loss: 0.4095    time: 0.0789  last_time: 0.0819  data_time: 0.0027  last_data_time: 0.0027   lr: 2.5e-06  max_mem: 2125M\n",
      "[03/22 13:50:07 d2.utils.events]:  eta: 0:04:01  iter: 2939  total_loss: 0.4322  loss_cls: 0.1022  loss_box_reg: 0.04235  loss_rpn_cls: 0.2018  loss_rpn_loc: 0.05568  validation_loss: 0.4095    time: 0.0789  last_time: 0.0819  data_time: 0.0028  last_data_time: 0.0040   lr: 2.5e-06  max_mem: 2125M\n",
      "[03/22 13:50:08 d2.utils.events]:  eta: 0:04:00  iter: 2959  total_loss: 0.3871  loss_cls: 0.08253  loss_box_reg: 0.03327  loss_rpn_cls: 0.2122  loss_rpn_loc: 0.04407  validation_loss: 0.4095    time: 0.0789  last_time: 0.0687  data_time: 0.0027  last_data_time: 0.0021   lr: 2.5e-06  max_mem: 2125M\n",
      "[03/22 13:50:10 d2.utils.events]:  eta: 0:03:58  iter: 2979  total_loss: 0.3466  loss_cls: 0.06844  loss_box_reg: 0.027  loss_rpn_cls: 0.195  loss_rpn_loc: 0.05495  validation_loss: 0.4095    time: 0.0789  last_time: 0.0797  data_time: 0.0024  last_data_time: 0.0023   lr: 2.5e-06  max_mem: 2125M\n",
      "[03/22 13:50:11 d2.utils.events]:  eta: 0:03:56  iter: 2999  total_loss: 0.3967  loss_cls: 0.07719  loss_box_reg: 0.02437  loss_rpn_cls: 0.2097  loss_rpn_loc: 0.05581  validation_loss: 0.4095    time: 0.0789  last_time: 0.0763  data_time: 0.0023  last_data_time: 0.0022   lr: 2.5e-06  max_mem: 2125M\n",
      "[03/22 13:50:13 d2.utils.events]:  eta: 0:03:55  iter: 3019  total_loss: 0.4525  loss_cls: 0.07586  loss_box_reg: 0.02828  loss_rpn_cls: 0.2277  loss_rpn_loc: 0.0698  validation_loss: 0.4095    time: 0.0789  last_time: 0.0765  data_time: 0.0025  last_data_time: 0.0022   lr: 2.5e-06  max_mem: 2125M\n",
      "[03/22 13:50:15 d2.utils.events]:  eta: 0:03:53  iter: 3039  total_loss: 0.4064  loss_cls: 0.0911  loss_box_reg: 0.05318  loss_rpn_cls: 0.2183  loss_rpn_loc: 0.05727  validation_loss: 0.4095    time: 0.0788  last_time: 0.0818  data_time: 0.0025  last_data_time: 0.0026   lr: 2.5e-06  max_mem: 2125M\n",
      "[03/22 13:50:16 d2.utils.events]:  eta: 0:03:51  iter: 3059  total_loss: 0.5211  loss_cls: 0.08736  loss_box_reg: 0.02816  loss_rpn_cls: 0.2705  loss_rpn_loc: 0.06614  validation_loss: 0.4095    time: 0.0788  last_time: 0.0826  data_time: 0.0025  last_data_time: 0.0024   lr: 2.5e-06  max_mem: 2125M\n",
      "[03/22 13:50:18 d2.utils.events]:  eta: 0:03:50  iter: 3079  total_loss: 0.3906  loss_cls: 0.1041  loss_box_reg: 0.0502  loss_rpn_cls: 0.2049  loss_rpn_loc: 0.04962  validation_loss: 0.4095    time: 0.0788  last_time: 0.0814  data_time: 0.0027  last_data_time: 0.0034   lr: 2.5e-06  max_mem: 2126M\n",
      "[03/22 13:50:19 d2.utils.events]:  eta: 0:03:48  iter: 3099  total_loss: 0.4565  loss_cls: 0.08751  loss_box_reg: 0.0268  loss_rpn_cls: 0.2405  loss_rpn_loc: 0.08649  validation_loss: 0.4095    time: 0.0789  last_time: 0.0805  data_time: 0.0027  last_data_time: 0.0027   lr: 2.5e-06  max_mem: 2126M\n",
      "[03/22 13:50:21 d2.utils.events]:  eta: 0:03:47  iter: 3119  total_loss: 0.4721  loss_cls: 0.08981  loss_box_reg: 0.04498  loss_rpn_cls: 0.2107  loss_rpn_loc: 0.05564  validation_loss: 0.4095    time: 0.0789  last_time: 0.0746  data_time: 0.0026  last_data_time: 0.0024   lr: 2.5e-06  max_mem: 2126M\n",
      "[03/22 13:50:23 d2.utils.events]:  eta: 0:03:45  iter: 3139  total_loss: 0.3449  loss_cls: 0.06521  loss_box_reg: 0.02949  loss_rpn_cls: 0.2021  loss_rpn_loc: 0.04939  validation_loss: 0.4095    time: 0.0789  last_time: 0.0768  data_time: 0.0026  last_data_time: 0.0025   lr: 2.5e-06  max_mem: 2126M\n"
     ]
    },
    {
     "name": "stdout",
     "output_type": "stream",
     "text": [
      "[03/22 13:50:24 d2.utils.events]:  eta: 0:03:44  iter: 3159  total_loss: 0.4684  loss_cls: 0.07761  loss_box_reg: 0.03055  loss_rpn_cls: 0.2424  loss_rpn_loc: 0.0653  validation_loss: 0.4095    time: 0.0789  last_time: 0.0793  data_time: 0.0026  last_data_time: 0.0028   lr: 2.5e-06  max_mem: 2126M\n",
      "[03/22 13:50:26 d2.utils.events]:  eta: 0:03:42  iter: 3179  total_loss: 0.5305  loss_cls: 0.07074  loss_box_reg: 0.01813  loss_rpn_cls: 0.2769  loss_rpn_loc: 0.08202  validation_loss: 0.4095    time: 0.0789  last_time: 0.0795  data_time: 0.0026  last_data_time: 0.0024   lr: 2.5e-06  max_mem: 2126M\n",
      "[03/22 13:50:27 d2.utils.events]:  eta: 0:03:41  iter: 3199  total_loss: 0.4681  loss_cls: 0.08813  loss_box_reg: 0.04047  loss_rpn_cls: 0.2442  loss_rpn_loc: 0.06993  validation_loss: 0.4095    time: 0.0789  last_time: 0.0847  data_time: 0.0029  last_data_time: 0.0030   lr: 2.5e-06  max_mem: 2126M\n",
      "[03/22 13:50:29 d2.utils.events]:  eta: 0:03:39  iter: 3219  total_loss: 0.446  loss_cls: 0.08853  loss_box_reg: 0.03828  loss_rpn_cls: 0.2231  loss_rpn_loc: 0.05609  validation_loss: 0.4095    time: 0.0789  last_time: 0.0844  data_time: 0.0031  last_data_time: 0.0038   lr: 2.5e-06  max_mem: 2126M\n",
      "[03/22 13:50:31 d2.utils.events]:  eta: 0:03:38  iter: 3239  total_loss: 0.4079  loss_cls: 0.08508  loss_box_reg: 0.03133  loss_rpn_cls: 0.2027  loss_rpn_loc: 0.04528  validation_loss: 0.4095    time: 0.0789  last_time: 0.0767  data_time: 0.0026  last_data_time: 0.0031   lr: 2.5e-06  max_mem: 2126M\n",
      "[03/22 13:50:32 d2.utils.events]:  eta: 0:03:37  iter: 3259  total_loss: 0.3956  loss_cls: 0.06853  loss_box_reg: 0.006529  loss_rpn_cls: 0.2014  loss_rpn_loc: 0.05193  validation_loss: 0.4095    time: 0.0789  last_time: 0.0773  data_time: 0.0027  last_data_time: 0.0025   lr: 2.5e-06  max_mem: 2126M\n",
      "[03/22 13:50:34 d2.utils.events]:  eta: 0:03:35  iter: 3279  total_loss: 0.4819  loss_cls: 0.1037  loss_box_reg: 0.05832  loss_rpn_cls: 0.2213  loss_rpn_loc: 0.06749  validation_loss: 0.4095    time: 0.0789  last_time: 0.0779  data_time: 0.0025  last_data_time: 0.0022   lr: 2.5e-06  max_mem: 2126M\n",
      "[03/22 13:50:36 d2.utils.events]:  eta: 0:03:33  iter: 3299  total_loss: 0.3173  loss_cls: 0.07277  loss_box_reg: 0.01658  loss_rpn_cls: 0.1833  loss_rpn_loc: 0.04107  validation_loss: 0.4095    time: 0.0790  last_time: 0.0837  data_time: 0.0025  last_data_time: 0.0025   lr: 2.5e-06  max_mem: 2126M\n",
      "[03/22 13:50:37 d2.utils.events]:  eta: 0:03:32  iter: 3319  total_loss: 0.3394  loss_cls: 0.07502  loss_box_reg: 0.01694  loss_rpn_cls: 0.1978  loss_rpn_loc: 0.03944  validation_loss: 0.4095    time: 0.0790  last_time: 0.0764  data_time: 0.0027  last_data_time: 0.0025   lr: 2.5e-06  max_mem: 2126M\n",
      "[03/22 13:50:39 d2.utils.events]:  eta: 0:03:30  iter: 3339  total_loss: 0.3605  loss_cls: 0.06861  loss_box_reg: 0.02637  loss_rpn_cls: 0.2142  loss_rpn_loc: 0.05634  validation_loss: 0.4095    time: 0.0790  last_time: 0.0824  data_time: 0.0025  last_data_time: 0.0024   lr: 2.5e-06  max_mem: 2126M\n",
      "[03/22 13:50:40 d2.utils.events]:  eta: 0:03:29  iter: 3359  total_loss: 0.4374  loss_cls: 0.09462  loss_box_reg: 0.05105  loss_rpn_cls: 0.2339  loss_rpn_loc: 0.06044  validation_loss: 0.4095    time: 0.0790  last_time: 0.0840  data_time: 0.0024  last_data_time: 0.0024   lr: 2.5e-06  max_mem: 2126M\n",
      "[03/22 13:50:42 d2.utils.events]:  eta: 0:03:27  iter: 3379  total_loss: 0.3748  loss_cls: 0.08897  loss_box_reg: 0.05346  loss_rpn_cls: 0.2022  loss_rpn_loc: 0.05189  validation_loss: 0.4095    time: 0.0790  last_time: 0.0820  data_time: 0.0027  last_data_time: 0.0047   lr: 2.5e-06  max_mem: 2126M\n",
      "[03/22 13:50:44 d2.utils.events]:  eta: 0:03:26  iter: 3399  total_loss: 0.444  loss_cls: 0.08236  loss_box_reg: 0.04301  loss_rpn_cls: 0.2373  loss_rpn_loc: 0.06229  validation_loss: 0.4095    time: 0.0790  last_time: 0.0760  data_time: 0.0026  last_data_time: 0.0030   lr: 2.5e-06  max_mem: 2126M\n",
      "[03/22 13:50:45 d2.utils.events]:  eta: 0:03:24  iter: 3419  total_loss: 0.4898  loss_cls: 0.1283  loss_box_reg: 0.05218  loss_rpn_cls: 0.241  loss_rpn_loc: 0.05269  validation_loss: 0.4095    time: 0.0790  last_time: 0.0818  data_time: 0.0026  last_data_time: 0.0023   lr: 2.5e-06  max_mem: 2126M\n",
      "[03/22 13:50:47 d2.utils.events]:  eta: 0:03:22  iter: 3439  total_loss: 0.4117  loss_cls: 0.09249  loss_box_reg: 0.05491  loss_rpn_cls: 0.2231  loss_rpn_loc: 0.05525  validation_loss: 0.4095    time: 0.0790  last_time: 0.0833  data_time: 0.0028  last_data_time: 0.0026   lr: 2.5e-06  max_mem: 2126M\n",
      "[03/22 13:50:48 d2.utils.events]:  eta: 0:03:21  iter: 3459  total_loss: 0.4026  loss_cls: 0.09126  loss_box_reg: 0.03734  loss_rpn_cls: 0.2143  loss_rpn_loc: 0.04731  validation_loss: 0.4095    time: 0.0790  last_time: 0.0799  data_time: 0.0028  last_data_time: 0.0025   lr: 2.5e-06  max_mem: 2126M\n",
      "[03/22 13:50:50 d2.utils.events]:  eta: 0:03:19  iter: 3479  total_loss: 0.3924  loss_cls: 0.09314  loss_box_reg: 0.03704  loss_rpn_cls: 0.229  loss_rpn_loc: 0.05047  validation_loss: 0.4095    time: 0.0790  last_time: 0.0765  data_time: 0.0026  last_data_time: 0.0026   lr: 2.5e-06  max_mem: 2126M\n",
      "[03/22 13:50:52 d2.utils.events]:  eta: 0:03:18  iter: 3499  total_loss: 0.4689  loss_cls: 0.1023  loss_box_reg: 0.05845  loss_rpn_cls: 0.2324  loss_rpn_loc: 0.04554  validation_loss: 0.4095    time: 0.0790  last_time: 0.0830  data_time: 0.0028  last_data_time: 0.0025   lr: 2.5e-06  max_mem: 2126M\n",
      "[03/22 13:50:53 d2.utils.events]:  eta: 0:03:16  iter: 3519  total_loss: 0.4576  loss_cls: 0.1147  loss_box_reg: 0.06014  loss_rpn_cls: 0.2248  loss_rpn_loc: 0.05689  validation_loss: 0.4095    time: 0.0790  last_time: 0.0775  data_time: 0.0025  last_data_time: 0.0022   lr: 2.5e-06  max_mem: 2126M\n",
      "[03/22 13:50:55 d2.utils.events]:  eta: 0:03:15  iter: 3539  total_loss: 0.4133  loss_cls: 0.09511  loss_box_reg: 0.05311  loss_rpn_cls: 0.2071  loss_rpn_loc: 0.05473  validation_loss: 0.4095    time: 0.0790  last_time: 0.0780  data_time: 0.0025  last_data_time: 0.0025   lr: 2.5e-06  max_mem: 2126M\n",
      "[03/22 13:50:56 d2.utils.events]:  eta: 0:03:13  iter: 3559  total_loss: 0.4499  loss_cls: 0.08337  loss_box_reg: 0.04  loss_rpn_cls: 0.2236  loss_rpn_loc: 0.06631  validation_loss: 0.4095    time: 0.0790  last_time: 0.0844  data_time: 0.0026  last_data_time: 0.0024   lr: 2.5e-06  max_mem: 2126M\n",
      "[03/22 13:50:58 d2.utils.events]:  eta: 0:03:11  iter: 3579  total_loss: 0.4637  loss_cls: 0.0782  loss_box_reg: 0.03977  loss_rpn_cls: 0.2233  loss_rpn_loc: 0.0688  validation_loss: 0.4095    time: 0.0790  last_time: 0.0757  data_time: 0.0028  last_data_time: 0.0024   lr: 2.5e-06  max_mem: 2126M\n",
      "[03/22 13:50:59 d2.utils.events]:  eta: 0:03:10  iter: 3599  total_loss: 0.4406  loss_cls: 0.08977  loss_box_reg: 0.05731  loss_rpn_cls: 0.2259  loss_rpn_loc: 0.06155  validation_loss: 0.4095    time: 0.0790  last_time: 0.0784  data_time: 0.0027  last_data_time: 0.0026   lr: 2.5e-06  max_mem: 2126M\n",
      "[03/22 13:51:01 d2.utils.events]:  eta: 0:03:08  iter: 3619  total_loss: 0.3375  loss_cls: 0.08624  loss_box_reg: 0.03271  loss_rpn_cls: 0.1928  loss_rpn_loc: 0.04324  validation_loss: 0.4095    time: 0.0790  last_time: 0.0821  data_time: 0.0028  last_data_time: 0.0023   lr: 2.5e-06  max_mem: 2126M\n",
      "[03/22 13:51:03 d2.utils.events]:  eta: 0:03:07  iter: 3639  total_loss: 0.4923  loss_cls: 0.09391  loss_box_reg: 0.04603  loss_rpn_cls: 0.2258  loss_rpn_loc: 0.05394  validation_loss: 0.4095    time: 0.0790  last_time: 0.0814  data_time: 0.0027  last_data_time: 0.0025   lr: 2.5e-06  max_mem: 2126M\n",
      "[03/22 13:51:04 d2.utils.events]:  eta: 0:03:05  iter: 3659  total_loss: 0.4802  loss_cls: 0.1002  loss_box_reg: 0.05582  loss_rpn_cls: 0.2177  loss_rpn_loc: 0.05392  validation_loss: 0.4095    time: 0.0790  last_time: 0.0831  data_time: 0.0025  last_data_time: 0.0026   lr: 2.5e-06  max_mem: 2126M\n",
      "[03/22 13:51:06 d2.utils.events]:  eta: 0:03:04  iter: 3679  total_loss: 0.4295  loss_cls: 0.09637  loss_box_reg: 0.03152  loss_rpn_cls: 0.233  loss_rpn_loc: 0.04647  validation_loss: 0.4095    time: 0.0790  last_time: 0.0808  data_time: 0.0028  last_data_time: 0.0030   lr: 2.5e-06  max_mem: 2126M\n",
      "[03/22 13:51:07 d2.utils.events]:  eta: 0:03:02  iter: 3699  total_loss: 0.3957  loss_cls: 0.08343  loss_box_reg: 0.03415  loss_rpn_cls: 0.2334  loss_rpn_loc: 0.04773  validation_loss: 0.4095    time: 0.0790  last_time: 0.0799  data_time: 0.0026  last_data_time: 0.0024   lr: 2.5e-06  max_mem: 2126M\n"
     ]
    },
    {
     "name": "stdout",
     "output_type": "stream",
     "text": [
      "[03/22 13:51:09 d2.utils.events]:  eta: 0:03:01  iter: 3719  total_loss: 0.3982  loss_cls: 0.1009  loss_box_reg: 0.05939  loss_rpn_cls: 0.1859  loss_rpn_loc: 0.0407  validation_loss: 0.4095    time: 0.0790  last_time: 0.0816  data_time: 0.0027  last_data_time: 0.0027   lr: 2.5e-06  max_mem: 2126M\n",
      "[03/22 13:51:11 d2.utils.events]:  eta: 0:02:59  iter: 3739  total_loss: 0.4238  loss_cls: 0.09885  loss_box_reg: 0.03662  loss_rpn_cls: 0.2203  loss_rpn_loc: 0.0612  validation_loss: 0.4095    time: 0.0790  last_time: 0.0778  data_time: 0.0028  last_data_time: 0.0026   lr: 2.5e-06  max_mem: 2126M\n",
      "[03/22 13:51:12 d2.utils.events]:  eta: 0:02:58  iter: 3759  total_loss: 0.3825  loss_cls: 0.08166  loss_box_reg: 0.04299  loss_rpn_cls: 0.2076  loss_rpn_loc: 0.0506  validation_loss: 0.4095    time: 0.0790  last_time: 0.0776  data_time: 0.0025  last_data_time: 0.0024   lr: 2.5e-06  max_mem: 2126M\n",
      "[03/22 13:51:14 d2.utils.events]:  eta: 0:02:56  iter: 3779  total_loss: 0.4032  loss_cls: 0.07171  loss_box_reg: 0.02868  loss_rpn_cls: 0.2197  loss_rpn_loc: 0.04805  validation_loss: 0.4095    time: 0.0790  last_time: 0.0769  data_time: 0.0027  last_data_time: 0.0026   lr: 2.5e-06  max_mem: 2126M\n",
      "[03/22 13:51:15 d2.utils.events]:  eta: 0:02:54  iter: 3799  total_loss: 0.5028  loss_cls: 0.08969  loss_box_reg: 0.04482  loss_rpn_cls: 0.2145  loss_rpn_loc: 0.06872  validation_loss: 0.4095    time: 0.0790  last_time: 0.0812  data_time: 0.0026  last_data_time: 0.0024   lr: 2.5e-06  max_mem: 2126M\n",
      "[03/22 13:51:17 d2.utils.events]:  eta: 0:02:53  iter: 3819  total_loss: 0.3507  loss_cls: 0.08094  loss_box_reg: 0.04618  loss_rpn_cls: 0.2007  loss_rpn_loc: 0.04871  validation_loss: 0.4095    time: 0.0790  last_time: 0.0819  data_time: 0.0025  last_data_time: 0.0027   lr: 2.5e-06  max_mem: 2126M\n",
      "[03/22 13:51:18 d2.utils.events]:  eta: 0:02:51  iter: 3839  total_loss: 0.5231  loss_cls: 0.0991  loss_box_reg: 0.06512  loss_rpn_cls: 0.2689  loss_rpn_loc: 0.06256  validation_loss: 0.4095    time: 0.0790  last_time: 0.0798  data_time: 0.0026  last_data_time: 0.0025   lr: 2.5e-06  max_mem: 2126M\n",
      "[03/22 13:51:20 d2.utils.events]:  eta: 0:02:50  iter: 3859  total_loss: 0.4187  loss_cls: 0.08875  loss_box_reg: 0.03062  loss_rpn_cls: 0.2249  loss_rpn_loc: 0.04756  validation_loss: 0.4095    time: 0.0790  last_time: 0.0838  data_time: 0.0026  last_data_time: 0.0023   lr: 2.5e-06  max_mem: 2126M\n",
      "[03/22 13:51:22 d2.utils.events]:  eta: 0:02:48  iter: 3879  total_loss: 0.3716  loss_cls: 0.0839  loss_box_reg: 0.04469  loss_rpn_cls: 0.1932  loss_rpn_loc: 0.03911  validation_loss: 0.4095    time: 0.0790  last_time: 0.0771  data_time: 0.0028  last_data_time: 0.0023   lr: 2.5e-06  max_mem: 2126M\n",
      "[03/22 13:51:23 d2.utils.events]:  eta: 0:02:46  iter: 3899  total_loss: 0.4109  loss_cls: 0.08275  loss_box_reg: 0.03478  loss_rpn_cls: 0.2256  loss_rpn_loc: 0.04399  validation_loss: 0.4095    time: 0.0790  last_time: 0.0850  data_time: 0.0026  last_data_time: 0.0045   lr: 2.5e-06  max_mem: 2126M\n",
      "[03/22 13:51:25 d2.utils.events]:  eta: 0:02:45  iter: 3919  total_loss: 0.4252  loss_cls: 0.08427  loss_box_reg: 0.03947  loss_rpn_cls: 0.2359  loss_rpn_loc: 0.0614  validation_loss: 0.4095    time: 0.0790  last_time: 0.0767  data_time: 0.0028  last_data_time: 0.0024   lr: 2.5e-06  max_mem: 2126M\n",
      "[03/22 13:51:26 d2.utils.events]:  eta: 0:02:43  iter: 3939  total_loss: 0.4583  loss_cls: 0.1074  loss_box_reg: 0.03533  loss_rpn_cls: 0.2188  loss_rpn_loc: 0.06162  validation_loss: 0.4095    time: 0.0790  last_time: 0.0784  data_time: 0.0027  last_data_time: 0.0022   lr: 2.5e-06  max_mem: 2126M\n",
      "[03/22 13:51:28 d2.utils.events]:  eta: 0:02:42  iter: 3959  total_loss: 0.4376  loss_cls: 0.08789  loss_box_reg: 0.04415  loss_rpn_cls: 0.1974  loss_rpn_loc: 0.05953  validation_loss: 0.4095    time: 0.0790  last_time: 0.0846  data_time: 0.0025  last_data_time: 0.0027   lr: 2.5e-06  max_mem: 2126M\n",
      "[03/22 13:51:30 d2.utils.events]:  eta: 0:02:40  iter: 3979  total_loss: 0.4238  loss_cls: 0.09152  loss_box_reg: 0.04129  loss_rpn_cls: 0.2186  loss_rpn_loc: 0.05716  validation_loss: 0.4095    time: 0.0790  last_time: 0.0827  data_time: 0.0027  last_data_time: 0.0033   lr: 2.5e-06  max_mem: 2126M\n",
      "WARNING [03/22 13:51:31 d2.data.datasets.coco]: \n",
      "Category ids in annotations are not in [1, #categories]! We'll apply a mapping for you.\n",
      "\n",
      "[03/22 13:51:31 d2.data.datasets.coco]: Loaded 1801 images in COCO format from /workspace/data/labels_val.json\n",
      "[03/22 13:51:31 d2.data.dataset_mapper]: [DatasetMapper] Augmentations used in inference: [ResizeShortestEdge(short_edge_length=(800, 800), max_size=1333, sample_style='choice')]\n",
      "[03/22 13:51:31 d2.data.common]: Serializing the dataset using: <class 'detectron2.data.common._TorchSerializedList'>\n",
      "[03/22 13:51:31 d2.data.common]: Serializing 1801 elements to byte tensors and concatenating them all ...\n",
      "[03/22 13:51:31 d2.data.common]: Serialized dataset takes 0.92 MiB\n",
      "[03/22 13:51:31 d2.evaluation.coco_evaluation]: Fast COCO eval is not built. Falling back to official COCO eval.\n",
      "WARNING [03/22 13:51:31 d2.evaluation.coco_evaluation]: COCO Evaluator instantiated using config, this is deprecated behavior. Please pass in explicit arguments instead.\n",
      "[03/22 13:51:31 d2.evaluation.evaluator]: Start inference on 1801 batches\n",
      "[03/22 13:51:32 d2.evaluation.evaluator]: Inference done 11/1801. Dataloading: 0.0007 s/iter. Inference: 0.0260 s/iter. Eval: 0.0001 s/iter. Total: 0.0268 s/iter. ETA=0:00:47\n",
      "[03/22 13:51:37 d2.evaluation.evaluator]: Inference done 194/1801. Dataloading: 0.0008 s/iter. Inference: 0.0263 s/iter. Eval: 0.0001 s/iter. Total: 0.0273 s/iter. ETA=0:00:43\n",
      "[03/22 13:51:42 d2.evaluation.evaluator]: Inference done 381/1801. Dataloading: 0.0008 s/iter. Inference: 0.0261 s/iter. Eval: 0.0001 s/iter. Total: 0.0271 s/iter. ETA=0:00:38\n",
      "[03/22 13:51:47 d2.evaluation.evaluator]: Inference done 572/1801. Dataloading: 0.0008 s/iter. Inference: 0.0258 s/iter. Eval: 0.0001 s/iter. Total: 0.0268 s/iter. ETA=0:00:32\n",
      "[03/22 13:51:52 d2.evaluation.evaluator]: Inference done 756/1801. Dataloading: 0.0008 s/iter. Inference: 0.0259 s/iter. Eval: 0.0001 s/iter. Total: 0.0269 s/iter. ETA=0:00:28\n",
      "[03/22 13:51:57 d2.evaluation.evaluator]: Inference done 944/1801. Dataloading: 0.0008 s/iter. Inference: 0.0258 s/iter. Eval: 0.0001 s/iter. Total: 0.0269 s/iter. ETA=0:00:23\n",
      "[03/22 13:52:02 d2.evaluation.evaluator]: Inference done 1121/1801. Dataloading: 0.0008 s/iter. Inference: 0.0261 s/iter. Eval: 0.0001 s/iter. Total: 0.0271 s/iter. ETA=0:00:18\n",
      "[03/22 13:52:07 d2.evaluation.evaluator]: Inference done 1311/1801. Dataloading: 0.0008 s/iter. Inference: 0.0260 s/iter. Eval: 0.0001 s/iter. Total: 0.0270 s/iter. ETA=0:00:13\n",
      "[03/22 13:52:12 d2.evaluation.evaluator]: Inference done 1494/1801. Dataloading: 0.0008 s/iter. Inference: 0.0260 s/iter. Eval: 0.0001 s/iter. Total: 0.0270 s/iter. ETA=0:00:08\n",
      "[03/22 13:52:17 d2.evaluation.evaluator]: Inference done 1681/1801. Dataloading: 0.0008 s/iter. Inference: 0.0260 s/iter. Eval: 0.0001 s/iter. Total: 0.0270 s/iter. ETA=0:00:03\n",
      "[03/22 13:52:20 d2.evaluation.evaluator]: Total inference time: 0:00:48.501640 (0.027005 s / iter per device, on 1 devices)\n",
      "[03/22 13:52:20 d2.evaluation.evaluator]: Total inference pure compute time: 0:00:46 (0.025951 s / iter per device, on 1 devices)\n",
      "[03/22 13:52:20 d2.evaluation.coco_evaluation]: Preparing results for COCO format ...\n",
      "[03/22 13:52:20 d2.evaluation.coco_evaluation]: Saving results to /workspace/output/output_res030_bs2_03.22.13.44/inference/coco_instances_results.json\n",
      "[03/22 13:52:20 d2.evaluation.coco_evaluation]: Evaluating predictions with official COCO API...\n",
      "Loading and preparing results...\n",
      "DONE (t=0.03s)\n",
      "creating index...\n",
      "index created!\n",
      "Running per image evaluation...\n",
      "Evaluate annotation type *bbox*\n",
      "DONE (t=3.34s).\n",
      "Accumulating evaluation results...\n",
      "DONE (t=0.33s).\n",
      " Average Precision  (AP) @[ IoU=0.50:0.95 | area=   all | maxDets=100 ] = 0.000\n",
      " Average Precision  (AP) @[ IoU=0.50      | area=   all | maxDets=100 ] = 0.002\n",
      " Average Precision  (AP) @[ IoU=0.75      | area=   all | maxDets=100 ] = 0.000\n",
      " Average Precision  (AP) @[ IoU=0.50:0.95 | area= small | maxDets=100 ] = 0.001\n",
      " Average Precision  (AP) @[ IoU=0.50:0.95 | area=medium | maxDets=100 ] = 0.000\n",
      " Average Precision  (AP) @[ IoU=0.50:0.95 | area= large | maxDets=100 ] = 0.000\n",
      " Average Recall     (AR) @[ IoU=0.50:0.95 | area=   all | maxDets=  1 ] = 0.001\n",
      " Average Recall     (AR) @[ IoU=0.50:0.95 | area=   all | maxDets= 10 ] = 0.010\n",
      " Average Recall     (AR) @[ IoU=0.50:0.95 | area=   all | maxDets=100 ] = 0.016\n",
      " Average Recall     (AR) @[ IoU=0.50:0.95 | area= small | maxDets=100 ] = 0.016\n",
      " Average Recall     (AR) @[ IoU=0.50:0.95 | area=medium | maxDets=100 ] = 0.007\n",
      " Average Recall     (AR) @[ IoU=0.50:0.95 | area= large | maxDets=100 ] = 0.000\n",
      "[03/22 13:52:24 d2.evaluation.coco_evaluation]: Evaluation results for bbox: \n",
      "|  AP   |  AP50  |  AP75  |  APs  |  APm  |  APl  |\n",
      "|:-----:|:------:|:------:|:-----:|:-----:|:-----:|\n",
      "| 0.044 | 0.195  | 0.005  | 0.052 | 0.002 | 0.000 |\n"
     ]
    },
    {
     "name": "stdout",
     "output_type": "stream",
     "text": [
      "[03/22 13:52:24 d2.evaluation.coco_evaluation]: Per-category bbox AP: \n",
      "| category   | AP    | category   | AP    |\n",
      "|:-----------|:------|:-----------|:------|\n",
      "| DT         | 0.088 | TT         | 0.000 |\n",
      "[03/22 13:52:24 d2.engine.defaults]: Evaluation results for tower_val_03012 in csv format:\n",
      "[03/22 13:52:24 d2.evaluation.testing]: copypaste: Task: bbox\n",
      "[03/22 13:52:24 d2.evaluation.testing]: copypaste: AP,AP50,AP75,APs,APm,APl\n",
      "[03/22 13:52:24 d2.evaluation.testing]: copypaste: 0.0442,0.1947,0.0045,0.0523,0.0020,0.0000\n",
      "[03/22 13:53:26 d2.utils.events]:  eta: 0:02:39  iter: 3999  total_loss: 0.4484  loss_cls: 0.0921  loss_box_reg: 0.0433  loss_rpn_cls: 0.2269  loss_rpn_loc: 0.07332  validation_loss: 0.445    time: 0.0790  last_time: 0.0792  data_time: 0.0030  last_data_time: 0.0031   lr: 2.5e-06  max_mem: 2126M\n",
      "[03/22 13:53:27 d2.utils.events]:  eta: 0:02:37  iter: 4019  total_loss: 0.43  loss_cls: 0.09008  loss_box_reg: 0.03159  loss_rpn_cls: 0.237  loss_rpn_loc: 0.06633  validation_loss: 0.445    time: 0.0790  last_time: 0.0742  data_time: 0.0029  last_data_time: 0.0025   lr: 2.5e-07  max_mem: 2126M\n",
      "[03/22 13:53:29 d2.utils.events]:  eta: 0:02:36  iter: 4039  total_loss: 0.487  loss_cls: 0.08924  loss_box_reg: 0.03795  loss_rpn_cls: 0.2406  loss_rpn_loc: 0.06628  validation_loss: 0.445    time: 0.0790  last_time: 0.0800  data_time: 0.0028  last_data_time: 0.0035   lr: 2.5e-07  max_mem: 2126M\n",
      "[03/22 13:53:31 d2.utils.events]:  eta: 0:02:34  iter: 4059  total_loss: 0.4154  loss_cls: 0.09909  loss_box_reg: 0.05513  loss_rpn_cls: 0.2074  loss_rpn_loc: 0.04788  validation_loss: 0.445    time: 0.0790  last_time: 0.0767  data_time: 0.0029  last_data_time: 0.0025   lr: 2.5e-07  max_mem: 2126M\n",
      "[03/22 13:53:32 d2.utils.events]:  eta: 0:02:32  iter: 4079  total_loss: 0.3856  loss_cls: 0.07705  loss_box_reg: 0.03829  loss_rpn_cls: 0.1908  loss_rpn_loc: 0.038  validation_loss: 0.445    time: 0.0790  last_time: 0.0819  data_time: 0.0029  last_data_time: 0.0026   lr: 2.5e-07  max_mem: 2126M\n",
      "[03/22 13:53:34 d2.utils.events]:  eta: 0:02:31  iter: 4099  total_loss: 0.352  loss_cls: 0.06942  loss_box_reg: 0.01443  loss_rpn_cls: 0.1947  loss_rpn_loc: 0.04261  validation_loss: 0.445    time: 0.0790  last_time: 0.0844  data_time: 0.0028  last_data_time: 0.0032   lr: 2.5e-07  max_mem: 2126M\n",
      "[03/22 13:53:35 d2.utils.events]:  eta: 0:02:29  iter: 4119  total_loss: 0.3417  loss_cls: 0.07256  loss_box_reg: 0.02628  loss_rpn_cls: 0.2027  loss_rpn_loc: 0.03913  validation_loss: 0.445    time: 0.0790  last_time: 0.0818  data_time: 0.0029  last_data_time: 0.0034   lr: 2.5e-07  max_mem: 2126M\n",
      "[03/22 13:53:37 d2.utils.events]:  eta: 0:02:27  iter: 4139  total_loss: 0.4249  loss_cls: 0.1011  loss_box_reg: 0.05119  loss_rpn_cls: 0.2193  loss_rpn_loc: 0.04563  validation_loss: 0.445    time: 0.0790  last_time: 0.0830  data_time: 0.0029  last_data_time: 0.0030   lr: 2.5e-07  max_mem: 2126M\n",
      "[03/22 13:53:39 d2.utils.events]:  eta: 0:02:26  iter: 4159  total_loss: 0.3396  loss_cls: 0.06801  loss_box_reg: 0.009853  loss_rpn_cls: 0.2018  loss_rpn_loc: 0.03702  validation_loss: 0.445    time: 0.0790  last_time: 0.0832  data_time: 0.0027  last_data_time: 0.0026   lr: 2.5e-07  max_mem: 2126M\n",
      "[03/22 13:53:40 d2.utils.events]:  eta: 0:02:24  iter: 4179  total_loss: 0.3982  loss_cls: 0.07866  loss_box_reg: 0.02903  loss_rpn_cls: 0.2333  loss_rpn_loc: 0.03988  validation_loss: 0.445    time: 0.0790  last_time: 0.0757  data_time: 0.0030  last_data_time: 0.0025   lr: 2.5e-07  max_mem: 2126M\n",
      "[03/22 13:53:42 d2.utils.events]:  eta: 0:02:22  iter: 4199  total_loss: 0.3484  loss_cls: 0.08757  loss_box_reg: 0.04032  loss_rpn_cls: 0.153  loss_rpn_loc: 0.03248  validation_loss: 0.445    time: 0.0790  last_time: 0.0761  data_time: 0.0029  last_data_time: 0.0031   lr: 2.5e-07  max_mem: 2126M\n",
      "[03/22 13:53:43 d2.utils.events]:  eta: 0:02:21  iter: 4219  total_loss: 0.4338  loss_cls: 0.1072  loss_box_reg: 0.03723  loss_rpn_cls: 0.2294  loss_rpn_loc: 0.0587  validation_loss: 0.445    time: 0.0790  last_time: 0.0758  data_time: 0.0028  last_data_time: 0.0025   lr: 2.5e-07  max_mem: 2126M\n",
      "[03/22 13:53:45 d2.utils.events]:  eta: 0:02:19  iter: 4239  total_loss: 0.4873  loss_cls: 0.08451  loss_box_reg: 0.0337  loss_rpn_cls: 0.2246  loss_rpn_loc: 0.07131  validation_loss: 0.445    time: 0.0790  last_time: 0.0829  data_time: 0.0029  last_data_time: 0.0024   lr: 2.5e-07  max_mem: 2126M\n",
      "[03/22 13:53:46 d2.utils.events]:  eta: 0:02:18  iter: 4259  total_loss: 0.4716  loss_cls: 0.07946  loss_box_reg: 0.0359  loss_rpn_cls: 0.2108  loss_rpn_loc: 0.06649  validation_loss: 0.445    time: 0.0790  last_time: 0.0861  data_time: 0.0026  last_data_time: 0.0030   lr: 2.5e-07  max_mem: 2126M\n",
      "[03/22 13:53:48 d2.utils.events]:  eta: 0:02:16  iter: 4279  total_loss: 0.4474  loss_cls: 0.08641  loss_box_reg: 0.04714  loss_rpn_cls: 0.2028  loss_rpn_loc: 0.05446  validation_loss: 0.445    time: 0.0790  last_time: 0.0828  data_time: 0.0027  last_data_time: 0.0027   lr: 2.5e-07  max_mem: 2126M\n",
      "[03/22 13:53:50 d2.utils.events]:  eta: 0:02:14  iter: 4299  total_loss: 0.4605  loss_cls: 0.106  loss_box_reg: 0.04835  loss_rpn_cls: 0.2008  loss_rpn_loc: 0.06239  validation_loss: 0.445    time: 0.0790  last_time: 0.0810  data_time: 0.0026  last_data_time: 0.0031   lr: 2.5e-07  max_mem: 2126M\n",
      "[03/22 13:53:51 d2.utils.events]:  eta: 0:02:13  iter: 4319  total_loss: 0.4659  loss_cls: 0.08877  loss_box_reg: 0.03301  loss_rpn_cls: 0.2451  loss_rpn_loc: 0.0886  validation_loss: 0.445    time: 0.0790  last_time: 0.0824  data_time: 0.0029  last_data_time: 0.0031   lr: 2.5e-07  max_mem: 2126M\n",
      "[03/22 13:53:53 d2.utils.events]:  eta: 0:02:11  iter: 4339  total_loss: 0.4505  loss_cls: 0.08693  loss_box_reg: 0.0383  loss_rpn_cls: 0.2341  loss_rpn_loc: 0.07005  validation_loss: 0.445    time: 0.0790  last_time: 0.0778  data_time: 0.0027  last_data_time: 0.0025   lr: 2.5e-07  max_mem: 2126M\n",
      "[03/22 13:53:54 d2.utils.events]:  eta: 0:02:10  iter: 4359  total_loss: 0.5606  loss_cls: 0.1163  loss_box_reg: 0.04675  loss_rpn_cls: 0.285  loss_rpn_loc: 0.08158  validation_loss: 0.445    time: 0.0790  last_time: 0.0766  data_time: 0.0027  last_data_time: 0.0029   lr: 2.5e-07  max_mem: 2126M\n",
      "[03/22 13:53:56 d2.utils.events]:  eta: 0:02:08  iter: 4379  total_loss: 0.3491  loss_cls: 0.07538  loss_box_reg: 0.01312  loss_rpn_cls: 0.1936  loss_rpn_loc: 0.04666  validation_loss: 0.445    time: 0.0790  last_time: 0.0796  data_time: 0.0030  last_data_time: 0.0029   lr: 2.5e-07  max_mem: 2126M\n",
      "[03/22 13:53:58 d2.utils.events]:  eta: 0:02:06  iter: 4399  total_loss: 0.4039  loss_cls: 0.1073  loss_box_reg: 0.05699  loss_rpn_cls: 0.202  loss_rpn_loc: 0.04817  validation_loss: 0.445    time: 0.0790  last_time: 0.0820  data_time: 0.0028  last_data_time: 0.0028   lr: 2.5e-07  max_mem: 2126M\n",
      "[03/22 13:53:59 d2.utils.events]:  eta: 0:02:05  iter: 4419  total_loss: 0.3951  loss_cls: 0.09965  loss_box_reg: 0.04207  loss_rpn_cls: 0.2068  loss_rpn_loc: 0.04334  validation_loss: 0.445    time: 0.0790  last_time: 0.0845  data_time: 0.0029  last_data_time: 0.0027   lr: 2.5e-07  max_mem: 2126M\n",
      "[03/22 13:54:01 d2.utils.events]:  eta: 0:02:03  iter: 4439  total_loss: 0.4196  loss_cls: 0.09277  loss_box_reg: 0.04872  loss_rpn_cls: 0.2092  loss_rpn_loc: 0.03767  validation_loss: 0.445    time: 0.0790  last_time: 0.0818  data_time: 0.0028  last_data_time: 0.0029   lr: 2.5e-07  max_mem: 2126M\n",
      "[03/22 13:54:02 d2.utils.events]:  eta: 0:02:02  iter: 4459  total_loss: 0.3645  loss_cls: 0.08232  loss_box_reg: 0.03332  loss_rpn_cls: 0.1938  loss_rpn_loc: 0.03636  validation_loss: 0.445    time: 0.0790  last_time: 0.0864  data_time: 0.0029  last_data_time: 0.0029   lr: 2.5e-07  max_mem: 2126M\n",
      "[03/22 13:54:04 d2.utils.events]:  eta: 0:02:00  iter: 4479  total_loss: 0.4783  loss_cls: 0.07615  loss_box_reg: 0.03773  loss_rpn_cls: 0.2267  loss_rpn_loc: 0.0611  validation_loss: 0.445    time: 0.0791  last_time: 0.0783  data_time: 0.0030  last_data_time: 0.0033   lr: 2.5e-07  max_mem: 2126M\n",
      "[03/22 13:54:06 d2.utils.events]:  eta: 0:01:58  iter: 4499  total_loss: 0.401  loss_cls: 0.08194  loss_box_reg: 0.03052  loss_rpn_cls: 0.1864  loss_rpn_loc: 0.04183  validation_loss: 0.445    time: 0.0791  last_time: 0.0818  data_time: 0.0029  last_data_time: 0.0028   lr: 2.5e-07  max_mem: 2126M\n"
     ]
    },
    {
     "name": "stdout",
     "output_type": "stream",
     "text": [
      "[03/22 13:54:07 d2.utils.events]:  eta: 0:01:57  iter: 4519  total_loss: 0.4186  loss_cls: 0.091  loss_box_reg: 0.04234  loss_rpn_cls: 0.2319  loss_rpn_loc: 0.06676  validation_loss: 0.445    time: 0.0791  last_time: 0.0796  data_time: 0.0028  last_data_time: 0.0023   lr: 2.5e-07  max_mem: 2126M\n",
      "[03/22 13:54:09 d2.utils.events]:  eta: 0:01:55  iter: 4539  total_loss: 0.4188  loss_cls: 0.09459  loss_box_reg: 0.03731  loss_rpn_cls: 0.2157  loss_rpn_loc: 0.05166  validation_loss: 0.445    time: 0.0791  last_time: 0.0764  data_time: 0.0026  last_data_time: 0.0026   lr: 2.5e-07  max_mem: 2126M\n",
      "[03/22 13:54:10 d2.utils.events]:  eta: 0:01:54  iter: 4559  total_loss: 0.4609  loss_cls: 0.09506  loss_box_reg: 0.04277  loss_rpn_cls: 0.2326  loss_rpn_loc: 0.07201  validation_loss: 0.445    time: 0.0790  last_time: 0.0799  data_time: 0.0027  last_data_time: 0.0025   lr: 2.5e-07  max_mem: 2126M\n",
      "[03/22 13:54:12 d2.utils.events]:  eta: 0:01:52  iter: 4579  total_loss: 0.4029  loss_cls: 0.08624  loss_box_reg: 0.03331  loss_rpn_cls: 0.2012  loss_rpn_loc: 0.05426  validation_loss: 0.445    time: 0.0791  last_time: 0.0850  data_time: 0.0028  last_data_time: 0.0026   lr: 2.5e-07  max_mem: 2126M\n",
      "[03/22 13:54:14 d2.utils.events]:  eta: 0:01:50  iter: 4599  total_loss: 0.4061  loss_cls: 0.09115  loss_box_reg: 0.04519  loss_rpn_cls: 0.1864  loss_rpn_loc: 0.03989  validation_loss: 0.445    time: 0.0790  last_time: 0.0780  data_time: 0.0028  last_data_time: 0.0026   lr: 2.5e-07  max_mem: 2126M\n",
      "[03/22 13:54:15 d2.utils.events]:  eta: 0:01:49  iter: 4619  total_loss: 0.4197  loss_cls: 0.07529  loss_box_reg: 0.03017  loss_rpn_cls: 0.2168  loss_rpn_loc: 0.06356  validation_loss: 0.445    time: 0.0791  last_time: 0.0850  data_time: 0.0028  last_data_time: 0.0027   lr: 2.5e-07  max_mem: 2126M\n",
      "[03/22 13:54:17 d2.utils.events]:  eta: 0:01:47  iter: 4639  total_loss: 0.5069  loss_cls: 0.09856  loss_box_reg: 0.05345  loss_rpn_cls: 0.2418  loss_rpn_loc: 0.07142  validation_loss: 0.445    time: 0.0791  last_time: 0.0763  data_time: 0.0031  last_data_time: 0.0028   lr: 2.5e-07  max_mem: 2126M\n",
      "[03/22 13:54:18 d2.utils.events]:  eta: 0:01:46  iter: 4659  total_loss: 0.4119  loss_cls: 0.08378  loss_box_reg: 0.02528  loss_rpn_cls: 0.2001  loss_rpn_loc: 0.05252  validation_loss: 0.445    time: 0.0791  last_time: 0.0750  data_time: 0.0030  last_data_time: 0.0026   lr: 2.5e-07  max_mem: 2126M\n",
      "[03/22 13:54:20 d2.utils.events]:  eta: 0:01:44  iter: 4679  total_loss: 0.3565  loss_cls: 0.07476  loss_box_reg: 0.02933  loss_rpn_cls: 0.2  loss_rpn_loc: 0.05258  validation_loss: 0.445    time: 0.0791  last_time: 0.0747  data_time: 0.0030  last_data_time: 0.0027   lr: 2.5e-07  max_mem: 2126M\n",
      "[03/22 13:54:21 d2.utils.events]:  eta: 0:01:43  iter: 4699  total_loss: 0.4676  loss_cls: 0.09855  loss_box_reg: 0.03628  loss_rpn_cls: 0.2088  loss_rpn_loc: 0.05261  validation_loss: 0.445    time: 0.0790  last_time: 0.0758  data_time: 0.0029  last_data_time: 0.0031   lr: 2.5e-07  max_mem: 2126M\n",
      "[03/22 13:54:23 d2.utils.events]:  eta: 0:01:41  iter: 4719  total_loss: 0.4501  loss_cls: 0.08457  loss_box_reg: 0.04791  loss_rpn_cls: 0.2139  loss_rpn_loc: 0.05259  validation_loss: 0.445    time: 0.0790  last_time: 0.0790  data_time: 0.0028  last_data_time: 0.0027   lr: 2.5e-07  max_mem: 2126M\n",
      "[03/22 13:54:25 d2.utils.events]:  eta: 0:01:39  iter: 4739  total_loss: 0.425  loss_cls: 0.09987  loss_box_reg: 0.05509  loss_rpn_cls: 0.2181  loss_rpn_loc: 0.05415  validation_loss: 0.445    time: 0.0790  last_time: 0.0733  data_time: 0.0027  last_data_time: 0.0025   lr: 2.5e-07  max_mem: 2126M\n",
      "[03/22 13:54:26 d2.utils.events]:  eta: 0:01:38  iter: 4759  total_loss: 0.3761  loss_cls: 0.08833  loss_box_reg: 0.04136  loss_rpn_cls: 0.2052  loss_rpn_loc: 0.04412  validation_loss: 0.445    time: 0.0790  last_time: 0.0776  data_time: 0.0026  last_data_time: 0.0023   lr: 2.5e-07  max_mem: 2126M\n",
      "[03/22 13:54:28 d2.utils.events]:  eta: 0:01:36  iter: 4779  total_loss: 0.4034  loss_cls: 0.09596  loss_box_reg: 0.05205  loss_rpn_cls: 0.2039  loss_rpn_loc: 0.05569  validation_loss: 0.445    time: 0.0790  last_time: 0.0788  data_time: 0.0026  last_data_time: 0.0034   lr: 2.5e-07  max_mem: 2126M\n",
      "[03/22 13:54:29 d2.utils.events]:  eta: 0:01:34  iter: 4799  total_loss: 0.4668  loss_cls: 0.1018  loss_box_reg: 0.04152  loss_rpn_cls: 0.2165  loss_rpn_loc: 0.06311  validation_loss: 0.445    time: 0.0790  last_time: 0.0745  data_time: 0.0026  last_data_time: 0.0034   lr: 2.5e-07  max_mem: 2126M\n",
      "[03/22 13:54:31 d2.utils.events]:  eta: 0:01:33  iter: 4819  total_loss: 0.5032  loss_cls: 0.07859  loss_box_reg: 0.0288  loss_rpn_cls: 0.2786  loss_rpn_loc: 0.1051  validation_loss: 0.445    time: 0.0790  last_time: 0.0812  data_time: 0.0027  last_data_time: 0.0025   lr: 2.5e-07  max_mem: 2126M\n",
      "[03/22 13:54:33 d2.utils.events]:  eta: 0:01:31  iter: 4839  total_loss: 0.4444  loss_cls: 0.0979  loss_box_reg: 0.03802  loss_rpn_cls: 0.2347  loss_rpn_loc: 0.06834  validation_loss: 0.445    time: 0.0790  last_time: 0.0818  data_time: 0.0027  last_data_time: 0.0027   lr: 2.5e-07  max_mem: 2126M\n",
      "[03/22 13:54:34 d2.utils.events]:  eta: 0:01:30  iter: 4859  total_loss: 0.3718  loss_cls: 0.08889  loss_box_reg: 0.04673  loss_rpn_cls: 0.2032  loss_rpn_loc: 0.04093  validation_loss: 0.445    time: 0.0791  last_time: 0.0794  data_time: 0.0028  last_data_time: 0.0024   lr: 2.5e-07  max_mem: 2126M\n",
      "[03/22 13:54:36 d2.utils.events]:  eta: 0:01:28  iter: 4879  total_loss: 0.4879  loss_cls: 0.1011  loss_box_reg: 0.04668  loss_rpn_cls: 0.2374  loss_rpn_loc: 0.06107  validation_loss: 0.445    time: 0.0791  last_time: 0.0811  data_time: 0.0026  last_data_time: 0.0026   lr: 2.5e-07  max_mem: 2126M\n",
      "[03/22 13:54:37 d2.utils.events]:  eta: 0:01:27  iter: 4899  total_loss: 0.3721  loss_cls: 0.08018  loss_box_reg: 0.03941  loss_rpn_cls: 0.1927  loss_rpn_loc: 0.05022  validation_loss: 0.445    time: 0.0791  last_time: 0.0809  data_time: 0.0029  last_data_time: 0.0027   lr: 2.5e-07  max_mem: 2126M\n",
      "[03/22 13:54:39 d2.utils.events]:  eta: 0:01:25  iter: 4919  total_loss: 0.3549  loss_cls: 0.08451  loss_box_reg: 0.04471  loss_rpn_cls: 0.1766  loss_rpn_loc: 0.03842  validation_loss: 0.445    time: 0.0791  last_time: 0.0763  data_time: 0.0028  last_data_time: 0.0026   lr: 2.5e-07  max_mem: 2126M\n",
      "[03/22 13:54:41 d2.utils.events]:  eta: 0:01:24  iter: 4939  total_loss: 0.3794  loss_cls: 0.08288  loss_box_reg: 0.03883  loss_rpn_cls: 0.2071  loss_rpn_loc: 0.04648  validation_loss: 0.445    time: 0.0791  last_time: 0.0854  data_time: 0.0029  last_data_time: 0.0027   lr: 2.5e-07  max_mem: 2126M\n",
      "[03/22 13:54:42 d2.utils.events]:  eta: 0:01:22  iter: 4959  total_loss: 0.4219  loss_cls: 0.08792  loss_box_reg: 0.04553  loss_rpn_cls: 0.2161  loss_rpn_loc: 0.04615  validation_loss: 0.445    time: 0.0791  last_time: 0.0756  data_time: 0.0030  last_data_time: 0.0029   lr: 2.5e-07  max_mem: 2126M\n",
      "[03/22 13:54:44 d2.utils.events]:  eta: 0:01:20  iter: 4979  total_loss: 0.4115  loss_cls: 0.08773  loss_box_reg: 0.04058  loss_rpn_cls: 0.2329  loss_rpn_loc: 0.05383  validation_loss: 0.445    time: 0.0791  last_time: 0.0835  data_time: 0.0029  last_data_time: 0.0032   lr: 2.5e-07  max_mem: 2126M\n",
      "[03/22 13:54:46 d2.utils.events]:  eta: 0:01:19  iter: 4999  total_loss: 0.3868  loss_cls: 0.08192  loss_box_reg: 0.04516  loss_rpn_cls: 0.1813  loss_rpn_loc: 0.03954  validation_loss: 0.445    time: 0.0791  last_time: 0.0769  data_time: 0.0031  last_data_time: 0.0036   lr: 2.5e-07  max_mem: 2126M\n",
      "[03/22 13:54:47 d2.utils.events]:  eta: 0:01:17  iter: 5019  total_loss: 0.4598  loss_cls: 0.1011  loss_box_reg: 0.05347  loss_rpn_cls: 0.2246  loss_rpn_loc: 0.05411  validation_loss: 0.445    time: 0.0791  last_time: 0.0830  data_time: 0.0028  last_data_time: 0.0025   lr: 2.5e-08  max_mem: 2126M\n",
      "[03/22 13:54:49 d2.utils.events]:  eta: 0:01:16  iter: 5039  total_loss: 0.4159  loss_cls: 0.0843  loss_box_reg: 0.04989  loss_rpn_cls: 0.2052  loss_rpn_loc: 0.04976  validation_loss: 0.445    time: 0.0791  last_time: 0.0760  data_time: 0.0026  last_data_time: 0.0025   lr: 2.5e-08  max_mem: 2126M\n",
      "[03/22 13:54:51 d2.utils.events]:  eta: 0:01:14  iter: 5059  total_loss: 0.4235  loss_cls: 0.07981  loss_box_reg: 0.02647  loss_rpn_cls: 0.2166  loss_rpn_loc: 0.06574  validation_loss: 0.445    time: 0.0791  last_time: 0.0757  data_time: 0.0028  last_data_time: 0.0024   lr: 2.5e-08  max_mem: 2126M\n"
     ]
    },
    {
     "name": "stdout",
     "output_type": "stream",
     "text": [
      "[03/22 13:54:52 d2.utils.events]:  eta: 0:01:12  iter: 5079  total_loss: 0.4493  loss_cls: 0.0872  loss_box_reg: 0.06273  loss_rpn_cls: 0.2094  loss_rpn_loc: 0.06414  validation_loss: 0.445    time: 0.0791  last_time: 0.0802  data_time: 0.0030  last_data_time: 0.0028   lr: 2.5e-08  max_mem: 2126M\n",
      "[03/22 13:54:54 d2.utils.events]:  eta: 0:01:11  iter: 5099  total_loss: 0.4393  loss_cls: 0.1035  loss_box_reg: 0.06586  loss_rpn_cls: 0.1952  loss_rpn_loc: 0.04694  validation_loss: 0.445    time: 0.0791  last_time: 0.0850  data_time: 0.0029  last_data_time: 0.0037   lr: 2.5e-08  max_mem: 2126M\n",
      "[03/22 13:54:55 d2.utils.events]:  eta: 0:01:09  iter: 5119  total_loss: 0.4941  loss_cls: 0.09797  loss_box_reg: 0.04549  loss_rpn_cls: 0.2334  loss_rpn_loc: 0.05289  validation_loss: 0.445    time: 0.0791  last_time: 0.0762  data_time: 0.0027  last_data_time: 0.0028   lr: 2.5e-08  max_mem: 2126M\n",
      "[03/22 13:54:57 d2.utils.events]:  eta: 0:01:08  iter: 5139  total_loss: 0.4852  loss_cls: 0.1048  loss_box_reg: 0.05737  loss_rpn_cls: 0.2325  loss_rpn_loc: 0.06651  validation_loss: 0.445    time: 0.0791  last_time: 0.0834  data_time: 0.0031  last_data_time: 0.0030   lr: 2.5e-08  max_mem: 2126M\n",
      "[03/22 13:54:59 d2.utils.events]:  eta: 0:01:06  iter: 5159  total_loss: 0.4275  loss_cls: 0.1018  loss_box_reg: 0.03701  loss_rpn_cls: 0.2256  loss_rpn_loc: 0.05472  validation_loss: 0.445    time: 0.0791  last_time: 0.0763  data_time: 0.0027  last_data_time: 0.0028   lr: 2.5e-08  max_mem: 2126M\n",
      "[03/22 13:55:00 d2.utils.events]:  eta: 0:01:04  iter: 5179  total_loss: 0.4159  loss_cls: 0.08193  loss_box_reg: 0.03419  loss_rpn_cls: 0.2219  loss_rpn_loc: 0.0471  validation_loss: 0.445    time: 0.0791  last_time: 0.0781  data_time: 0.0027  last_data_time: 0.0027   lr: 2.5e-08  max_mem: 2126M\n",
      "[03/22 13:55:02 d2.utils.events]:  eta: 0:01:03  iter: 5199  total_loss: 0.4567  loss_cls: 0.0866  loss_box_reg: 0.02262  loss_rpn_cls: 0.2573  loss_rpn_loc: 0.05837  validation_loss: 0.445    time: 0.0791  last_time: 0.0955  data_time: 0.0029  last_data_time: 0.0041   lr: 2.5e-08  max_mem: 2126M\n",
      "[03/22 13:55:03 d2.utils.events]:  eta: 0:01:01  iter: 5219  total_loss: 0.4188  loss_cls: 0.09424  loss_box_reg: 0.03622  loss_rpn_cls: 0.2011  loss_rpn_loc: 0.04133  validation_loss: 0.445    time: 0.0791  last_time: 0.0853  data_time: 0.0030  last_data_time: 0.0028   lr: 2.5e-08  max_mem: 2126M\n",
      "[03/22 13:55:05 d2.utils.events]:  eta: 0:01:00  iter: 5239  total_loss: 0.3931  loss_cls: 0.06887  loss_box_reg: 0.02754  loss_rpn_cls: 0.2077  loss_rpn_loc: 0.05599  validation_loss: 0.445    time: 0.0791  last_time: 0.0798  data_time: 0.0029  last_data_time: 0.0026   lr: 2.5e-08  max_mem: 2126M\n",
      "[03/22 13:55:07 d2.utils.events]:  eta: 0:00:58  iter: 5259  total_loss: 0.4963  loss_cls: 0.09398  loss_box_reg: 0.02826  loss_rpn_cls: 0.2263  loss_rpn_loc: 0.0779  validation_loss: 0.445    time: 0.0791  last_time: 0.0771  data_time: 0.0028  last_data_time: 0.0030   lr: 2.5e-08  max_mem: 2126M\n",
      "[03/22 13:55:08 d2.utils.events]:  eta: 0:00:57  iter: 5279  total_loss: 0.4349  loss_cls: 0.1044  loss_box_reg: 0.0453  loss_rpn_cls: 0.2099  loss_rpn_loc: 0.05633  validation_loss: 0.445    time: 0.0791  last_time: 0.0833  data_time: 0.0030  last_data_time: 0.0026   lr: 2.5e-08  max_mem: 2126M\n",
      "[03/22 13:55:10 d2.utils.events]:  eta: 0:00:55  iter: 5299  total_loss: 0.3616  loss_cls: 0.06905  loss_box_reg: 0.02442  loss_rpn_cls: 0.1992  loss_rpn_loc: 0.04864  validation_loss: 0.445    time: 0.0791  last_time: 0.0808  data_time: 0.0027  last_data_time: 0.0026   lr: 2.5e-08  max_mem: 2126M\n",
      "[03/22 13:55:11 d2.utils.events]:  eta: 0:00:53  iter: 5319  total_loss: 0.3995  loss_cls: 0.07263  loss_box_reg: 0.02758  loss_rpn_cls: 0.2146  loss_rpn_loc: 0.04783  validation_loss: 0.445    time: 0.0791  last_time: 0.0759  data_time: 0.0026  last_data_time: 0.0026   lr: 2.5e-08  max_mem: 2126M\n",
      "[03/22 13:55:13 d2.utils.events]:  eta: 0:00:52  iter: 5339  total_loss: 0.3607  loss_cls: 0.07964  loss_box_reg: 0.03209  loss_rpn_cls: 0.183  loss_rpn_loc: 0.04858  validation_loss: 0.445    time: 0.0791  last_time: 0.0836  data_time: 0.0027  last_data_time: 0.0026   lr: 2.5e-08  max_mem: 2126M\n",
      "[03/22 13:55:15 d2.utils.events]:  eta: 0:00:50  iter: 5359  total_loss: 0.3755  loss_cls: 0.08136  loss_box_reg: 0.0244  loss_rpn_cls: 0.1956  loss_rpn_loc: 0.04922  validation_loss: 0.445    time: 0.0791  last_time: 0.0803  data_time: 0.0028  last_data_time: 0.0027   lr: 2.5e-08  max_mem: 2126M\n",
      "[03/22 13:55:16 d2.utils.events]:  eta: 0:00:49  iter: 5379  total_loss: 0.3734  loss_cls: 0.07526  loss_box_reg: 0.02866  loss_rpn_cls: 0.2028  loss_rpn_loc: 0.04058  validation_loss: 0.445    time: 0.0791  last_time: 0.0783  data_time: 0.0027  last_data_time: 0.0027   lr: 2.5e-08  max_mem: 2126M\n",
      "[03/22 13:55:18 d2.utils.events]:  eta: 0:00:47  iter: 5399  total_loss: 0.4529  loss_cls: 0.07696  loss_box_reg: 0.02594  loss_rpn_cls: 0.2271  loss_rpn_loc: 0.08044  validation_loss: 0.445    time: 0.0791  last_time: 0.0812  data_time: 0.0027  last_data_time: 0.0027   lr: 2.5e-08  max_mem: 2126M\n",
      "[03/22 13:55:19 d2.utils.events]:  eta: 0:00:45  iter: 5419  total_loss: 0.4557  loss_cls: 0.08736  loss_box_reg: 0.03461  loss_rpn_cls: 0.2239  loss_rpn_loc: 0.05595  validation_loss: 0.445    time: 0.0791  last_time: 0.0829  data_time: 0.0026  last_data_time: 0.0027   lr: 2.5e-08  max_mem: 2126M\n",
      "[03/22 13:55:21 d2.utils.events]:  eta: 0:00:44  iter: 5439  total_loss: 0.4454  loss_cls: 0.07747  loss_box_reg: 0.03754  loss_rpn_cls: 0.2269  loss_rpn_loc: 0.06121  validation_loss: 0.445    time: 0.0791  last_time: 0.0785  data_time: 0.0027  last_data_time: 0.0029   lr: 2.5e-08  max_mem: 2126M\n",
      "[03/22 13:55:23 d2.utils.events]:  eta: 0:00:42  iter: 5459  total_loss: 0.4002  loss_cls: 0.07534  loss_box_reg: 0.02643  loss_rpn_cls: 0.1888  loss_rpn_loc: 0.03833  validation_loss: 0.445    time: 0.0791  last_time: 0.0778  data_time: 0.0027  last_data_time: 0.0022   lr: 2.5e-08  max_mem: 2126M\n",
      "[03/22 13:55:24 d2.utils.events]:  eta: 0:00:41  iter: 5479  total_loss: 0.4338  loss_cls: 0.09515  loss_box_reg: 0.03983  loss_rpn_cls: 0.2329  loss_rpn_loc: 0.07178  validation_loss: 0.445    time: 0.0791  last_time: 0.0820  data_time: 0.0027  last_data_time: 0.0029   lr: 2.5e-08  max_mem: 2126M\n",
      "[03/22 13:55:26 d2.utils.events]:  eta: 0:00:39  iter: 5499  total_loss: 0.3378  loss_cls: 0.06925  loss_box_reg: 0.02416  loss_rpn_cls: 0.1856  loss_rpn_loc: 0.04369  validation_loss: 0.445    time: 0.0791  last_time: 0.0863  data_time: 0.0028  last_data_time: 0.0036   lr: 2.5e-08  max_mem: 2126M\n",
      "[03/22 13:55:27 d2.utils.events]:  eta: 0:00:38  iter: 5519  total_loss: 0.4587  loss_cls: 0.09846  loss_box_reg: 0.04888  loss_rpn_cls: 0.2103  loss_rpn_loc: 0.05721  validation_loss: 0.445    time: 0.0791  last_time: 0.0806  data_time: 0.0026  last_data_time: 0.0023   lr: 2.5e-08  max_mem: 2126M\n",
      "[03/22 13:55:29 d2.utils.events]:  eta: 0:00:36  iter: 5539  total_loss: 0.4055  loss_cls: 0.08078  loss_box_reg: 0.03197  loss_rpn_cls: 0.2094  loss_rpn_loc: 0.06542  validation_loss: 0.445    time: 0.0791  last_time: 0.0770  data_time: 0.0026  last_data_time: 0.0023   lr: 2.5e-08  max_mem: 2126M\n",
      "[03/22 13:55:31 d2.utils.events]:  eta: 0:00:34  iter: 5559  total_loss: 0.4072  loss_cls: 0.09453  loss_box_reg: 0.0632  loss_rpn_cls: 0.1844  loss_rpn_loc: 0.04357  validation_loss: 0.445    time: 0.0791  last_time: 0.0794  data_time: 0.0025  last_data_time: 0.0023   lr: 2.5e-08  max_mem: 2126M\n",
      "[03/22 13:55:32 d2.utils.events]:  eta: 0:00:33  iter: 5579  total_loss: 0.4237  loss_cls: 0.1033  loss_box_reg: 0.04507  loss_rpn_cls: 0.2137  loss_rpn_loc: 0.04428  validation_loss: 0.445    time: 0.0791  last_time: 0.0819  data_time: 0.0025  last_data_time: 0.0036   lr: 2.5e-08  max_mem: 2126M\n",
      "[03/22 13:55:34 d2.utils.events]:  eta: 0:00:31  iter: 5599  total_loss: 0.3553  loss_cls: 0.08315  loss_box_reg: 0.03524  loss_rpn_cls: 0.1664  loss_rpn_loc: 0.03553  validation_loss: 0.445    time: 0.0791  last_time: 0.0782  data_time: 0.0027  last_data_time: 0.0028   lr: 2.5e-08  max_mem: 2126M\n",
      "[03/22 13:55:35 d2.utils.events]:  eta: 0:00:30  iter: 5619  total_loss: 0.3323  loss_cls: 0.07364  loss_box_reg: 0.03706  loss_rpn_cls: 0.1719  loss_rpn_loc: 0.0443  validation_loss: 0.445    time: 0.0791  last_time: 0.0733  data_time: 0.0024  last_data_time: 0.0026   lr: 2.5e-08  max_mem: 2126M\n"
     ]
    },
    {
     "name": "stdout",
     "output_type": "stream",
     "text": [
      "[03/22 13:55:37 d2.utils.events]:  eta: 0:00:28  iter: 5639  total_loss: 0.4078  loss_cls: 0.07942  loss_box_reg: 0.04023  loss_rpn_cls: 0.2314  loss_rpn_loc: 0.05553  validation_loss: 0.445    time: 0.0791  last_time: 0.0768  data_time: 0.0027  last_data_time: 0.0025   lr: 2.5e-08  max_mem: 2126M\n",
      "[03/22 13:55:38 d2.utils.events]:  eta: 0:00:26  iter: 5659  total_loss: 0.5276  loss_cls: 0.09586  loss_box_reg: 0.04368  loss_rpn_cls: 0.2506  loss_rpn_loc: 0.0891  validation_loss: 0.445    time: 0.0791  last_time: 0.0833  data_time: 0.0029  last_data_time: 0.0040   lr: 2.5e-08  max_mem: 2126M\n",
      "[03/22 13:55:40 d2.utils.events]:  eta: 0:00:25  iter: 5679  total_loss: 0.4621  loss_cls: 0.09833  loss_box_reg: 0.05539  loss_rpn_cls: 0.2141  loss_rpn_loc: 0.05159  validation_loss: 0.445    time: 0.0791  last_time: 0.0818  data_time: 0.0030  last_data_time: 0.0025   lr: 2.5e-08  max_mem: 2126M\n",
      "[03/22 13:55:42 d2.utils.events]:  eta: 0:00:23  iter: 5699  total_loss: 0.4272  loss_cls: 0.09628  loss_box_reg: 0.04563  loss_rpn_cls: 0.2115  loss_rpn_loc: 0.05736  validation_loss: 0.445    time: 0.0791  last_time: 0.0835  data_time: 0.0027  last_data_time: 0.0025   lr: 2.5e-08  max_mem: 2126M\n",
      "[03/22 13:55:43 d2.utils.events]:  eta: 0:00:22  iter: 5719  total_loss: 0.4379  loss_cls: 0.108  loss_box_reg: 0.06187  loss_rpn_cls: 0.1884  loss_rpn_loc: 0.05599  validation_loss: 0.445    time: 0.0791  last_time: 0.0801  data_time: 0.0028  last_data_time: 0.0031   lr: 2.5e-08  max_mem: 2126M\n",
      "[03/22 13:55:45 d2.utils.events]:  eta: 0:00:20  iter: 5739  total_loss: 0.3894  loss_cls: 0.07193  loss_box_reg: 0.02655  loss_rpn_cls: 0.2065  loss_rpn_loc: 0.05627  validation_loss: 0.445    time: 0.0791  last_time: 0.0739  data_time: 0.0030  last_data_time: 0.0024   lr: 2.5e-08  max_mem: 2126M\n",
      "[03/22 13:55:46 d2.utils.events]:  eta: 0:00:19  iter: 5759  total_loss: 0.426  loss_cls: 0.0908  loss_box_reg: 0.03684  loss_rpn_cls: 0.2419  loss_rpn_loc: 0.0551  validation_loss: 0.445    time: 0.0791  last_time: 0.0758  data_time: 0.0029  last_data_time: 0.0032   lr: 2.5e-08  max_mem: 2126M\n",
      "[03/22 13:55:48 d2.utils.events]:  eta: 0:00:17  iter: 5779  total_loss: 0.4468  loss_cls: 0.1048  loss_box_reg: 0.0563  loss_rpn_cls: 0.2211  loss_rpn_loc: 0.06338  validation_loss: 0.445    time: 0.0791  last_time: 0.0760  data_time: 0.0028  last_data_time: 0.0026   lr: 2.5e-08  max_mem: 2126M\n",
      "[03/22 13:55:49 d2.utils.events]:  eta: 0:00:15  iter: 5799  total_loss: 0.4304  loss_cls: 0.08755  loss_box_reg: 0.0447  loss_rpn_cls: 0.2158  loss_rpn_loc: 0.05351  validation_loss: 0.445    time: 0.0791  last_time: 0.0761  data_time: 0.0026  last_data_time: 0.0027   lr: 2.5e-08  max_mem: 2126M\n",
      "[03/22 13:55:51 d2.utils.events]:  eta: 0:00:14  iter: 5819  total_loss: 0.4851  loss_cls: 0.1009  loss_box_reg: 0.04991  loss_rpn_cls: 0.2186  loss_rpn_loc: 0.06165  validation_loss: 0.445    time: 0.0791  last_time: 0.0780  data_time: 0.0028  last_data_time: 0.0034   lr: 2.5e-08  max_mem: 2126M\n",
      "[03/22 13:55:53 d2.utils.events]:  eta: 0:00:12  iter: 5839  total_loss: 0.4066  loss_cls: 0.0905  loss_box_reg: 0.03765  loss_rpn_cls: 0.2112  loss_rpn_loc: 0.0587  validation_loss: 0.445    time: 0.0791  last_time: 0.0768  data_time: 0.0026  last_data_time: 0.0026   lr: 2.5e-08  max_mem: 2126M\n",
      "[03/22 13:55:54 d2.utils.events]:  eta: 0:00:11  iter: 5859  total_loss: 0.3539  loss_cls: 0.08969  loss_box_reg: 0.03997  loss_rpn_cls: 0.1827  loss_rpn_loc: 0.03834  validation_loss: 0.445    time: 0.0791  last_time: 0.0856  data_time: 0.0028  last_data_time: 0.0030   lr: 2.5e-08  max_mem: 2126M\n",
      "[03/22 13:55:56 d2.utils.events]:  eta: 0:00:09  iter: 5879  total_loss: 0.4225  loss_cls: 0.07767  loss_box_reg: 0.03285  loss_rpn_cls: 0.2331  loss_rpn_loc: 0.05273  validation_loss: 0.445    time: 0.0791  last_time: 0.0808  data_time: 0.0028  last_data_time: 0.0036   lr: 2.5e-08  max_mem: 2126M\n",
      "[03/22 13:55:57 d2.utils.events]:  eta: 0:00:07  iter: 5899  total_loss: 0.4391  loss_cls: 0.0815  loss_box_reg: 0.02907  loss_rpn_cls: 0.2217  loss_rpn_loc: 0.06226  validation_loss: 0.445    time: 0.0791  last_time: 0.0745  data_time: 0.0029  last_data_time: 0.0027   lr: 2.5e-08  max_mem: 2126M\n",
      "[03/22 13:55:59 d2.utils.events]:  eta: 0:00:06  iter: 5919  total_loss: 0.3719  loss_cls: 0.06943  loss_box_reg: 0.02495  loss_rpn_cls: 0.2098  loss_rpn_loc: 0.05043  validation_loss: 0.445    time: 0.0791  last_time: 0.0789  data_time: 0.0027  last_data_time: 0.0024   lr: 2.5e-08  max_mem: 2126M\n",
      "[03/22 13:56:01 d2.utils.events]:  eta: 0:00:04  iter: 5939  total_loss: 0.3824  loss_cls: 0.07932  loss_box_reg: 0.03152  loss_rpn_cls: 0.2235  loss_rpn_loc: 0.06135  validation_loss: 0.445    time: 0.0791  last_time: 0.0787  data_time: 0.0031  last_data_time: 0.0042   lr: 2.5e-08  max_mem: 2126M\n",
      "[03/22 13:56:02 d2.utils.events]:  eta: 0:00:03  iter: 5959  total_loss: 0.4798  loss_cls: 0.0818  loss_box_reg: 0.03519  loss_rpn_cls: 0.2133  loss_rpn_loc: 0.06277  validation_loss: 0.445    time: 0.0791  last_time: 0.0777  data_time: 0.0032  last_data_time: 0.0027   lr: 2.5e-08  max_mem: 2126M\n",
      "[03/22 13:56:04 d2.utils.events]:  eta: 0:00:01  iter: 5979  total_loss: 0.4343  loss_cls: 0.08647  loss_box_reg: 0.03744  loss_rpn_cls: 0.2054  loss_rpn_loc: 0.05748  validation_loss: 0.445    time: 0.0791  last_time: 0.0848  data_time: 0.0027  last_data_time: 0.0028   lr: 2.5e-08  max_mem: 2126M\n",
      "[03/22 13:57:07 d2.utils.events]:  eta: 0:00:00  iter: 5999  total_loss: 0.4535  loss_cls: 0.08135  loss_box_reg: 0.03712  loss_rpn_cls: 0.216  loss_rpn_loc: 0.06803  validation_loss: 0.4474    time: 0.0791  last_time: 0.0836  data_time: 0.0027  last_data_time: 0.0034   lr: 2.5e-08  max_mem: 2126M\n",
      "[03/22 13:57:07 d2.engine.hooks]: Overall training speed: 5998 iterations in 0:07:54 (0.0791 s / it)\n",
      "[03/22 13:57:07 d2.engine.hooks]: Total training time: 0:12:43 (0:04:49 on hooks)\n",
      "WARNING [03/22 13:57:07 d2.data.datasets.coco]: \n",
      "Category ids in annotations are not in [1, #categories]! We'll apply a mapping for you.\n",
      "\n",
      "[03/22 13:57:07 d2.data.datasets.coco]: Loaded 1801 images in COCO format from /workspace/data/labels_val.json\n",
      "[03/22 13:57:07 d2.data.dataset_mapper]: [DatasetMapper] Augmentations used in inference: [ResizeShortestEdge(short_edge_length=(800, 800), max_size=1333, sample_style='choice')]\n",
      "[03/22 13:57:07 d2.data.common]: Serializing the dataset using: <class 'detectron2.data.common._TorchSerializedList'>\n",
      "[03/22 13:57:07 d2.data.common]: Serializing 1801 elements to byte tensors and concatenating them all ...\n",
      "[03/22 13:57:07 d2.data.common]: Serialized dataset takes 0.92 MiB\n",
      "[03/22 13:57:07 d2.evaluation.coco_evaluation]: Fast COCO eval is not built. Falling back to official COCO eval.\n",
      "WARNING [03/22 13:57:07 d2.evaluation.coco_evaluation]: COCO Evaluator instantiated using config, this is deprecated behavior. Please pass in explicit arguments instead.\n",
      "[03/22 13:57:07 d2.evaluation.evaluator]: Start inference on 1801 batches\n",
      "[03/22 13:57:08 d2.evaluation.evaluator]: Inference done 11/1801. Dataloading: 0.0007 s/iter. Inference: 0.0261 s/iter. Eval: 0.0001 s/iter. Total: 0.0269 s/iter. ETA=0:00:48\n",
      "[03/22 13:57:13 d2.evaluation.evaluator]: Inference done 196/1801. Dataloading: 0.0009 s/iter. Inference: 0.0260 s/iter. Eval: 0.0002 s/iter. Total: 0.0271 s/iter. ETA=0:00:43\n",
      "[03/22 13:57:18 d2.evaluation.evaluator]: Inference done 384/1801. Dataloading: 0.0009 s/iter. Inference: 0.0258 s/iter. Eval: 0.0001 s/iter. Total: 0.0269 s/iter. ETA=0:00:38\n",
      "[03/22 13:57:23 d2.evaluation.evaluator]: Inference done 572/1801. Dataloading: 0.0009 s/iter. Inference: 0.0258 s/iter. Eval: 0.0001 s/iter. Total: 0.0268 s/iter. ETA=0:00:32\n",
      "[03/22 13:57:28 d2.evaluation.evaluator]: Inference done 759/1801. Dataloading: 0.0009 s/iter. Inference: 0.0258 s/iter. Eval: 0.0001 s/iter. Total: 0.0268 s/iter. ETA=0:00:27\n",
      "[03/22 13:57:33 d2.evaluation.evaluator]: Inference done 947/1801. Dataloading: 0.0009 s/iter. Inference: 0.0257 s/iter. Eval: 0.0001 s/iter. Total: 0.0268 s/iter. ETA=0:00:22\n",
      "[03/22 13:57:38 d2.evaluation.evaluator]: Inference done 1136/1801. Dataloading: 0.0009 s/iter. Inference: 0.0257 s/iter. Eval: 0.0001 s/iter. Total: 0.0267 s/iter. ETA=0:00:17\n",
      "[03/22 13:57:43 d2.evaluation.evaluator]: Inference done 1328/1801. Dataloading: 0.0009 s/iter. Inference: 0.0256 s/iter. Eval: 0.0001 s/iter. Total: 0.0267 s/iter. ETA=0:00:12\n"
     ]
    },
    {
     "name": "stdout",
     "output_type": "stream",
     "text": [
      "[03/22 13:57:48 d2.evaluation.evaluator]: Inference done 1517/1801. Dataloading: 0.0009 s/iter. Inference: 0.0256 s/iter. Eval: 0.0001 s/iter. Total: 0.0266 s/iter. ETA=0:00:07\n",
      "[03/22 13:57:53 d2.evaluation.evaluator]: Inference done 1707/1801. Dataloading: 0.0009 s/iter. Inference: 0.0256 s/iter. Eval: 0.0001 s/iter. Total: 0.0266 s/iter. ETA=0:00:02\n",
      "[03/22 13:57:56 d2.evaluation.evaluator]: Total inference time: 0:00:47.827062 (0.026630 s / iter per device, on 1 devices)\n",
      "[03/22 13:57:56 d2.evaluation.evaluator]: Total inference pure compute time: 0:00:45 (0.025544 s / iter per device, on 1 devices)\n",
      "[03/22 13:57:56 d2.evaluation.coco_evaluation]: Preparing results for COCO format ...\n",
      "[03/22 13:57:56 d2.evaluation.coco_evaluation]: Saving results to /workspace/output/output_res030_bs2_03.22.13.44/inference/coco_instances_results.json\n",
      "[03/22 13:57:56 d2.evaluation.coco_evaluation]: Evaluating predictions with official COCO API...\n",
      "Loading and preparing results...\n",
      "DONE (t=0.20s)\n",
      "creating index...\n",
      "index created!\n",
      "Running per image evaluation...\n",
      "Evaluate annotation type *bbox*\n",
      "DONE (t=3.15s).\n",
      "Accumulating evaluation results...\n",
      "DONE (t=0.32s).\n",
      " Average Precision  (AP) @[ IoU=0.50:0.95 | area=   all | maxDets=100 ] = 0.000\n",
      " Average Precision  (AP) @[ IoU=0.50      | area=   all | maxDets=100 ] = 0.002\n",
      " Average Precision  (AP) @[ IoU=0.75      | area=   all | maxDets=100 ] = 0.000\n",
      " Average Precision  (AP) @[ IoU=0.50:0.95 | area= small | maxDets=100 ] = 0.001\n",
      " Average Precision  (AP) @[ IoU=0.50:0.95 | area=medium | maxDets=100 ] = 0.000\n",
      " Average Precision  (AP) @[ IoU=0.50:0.95 | area= large | maxDets=100 ] = 0.000\n",
      " Average Recall     (AR) @[ IoU=0.50:0.95 | area=   all | maxDets=  1 ] = 0.001\n",
      " Average Recall     (AR) @[ IoU=0.50:0.95 | area=   all | maxDets= 10 ] = 0.010\n",
      " Average Recall     (AR) @[ IoU=0.50:0.95 | area=   all | maxDets=100 ] = 0.016\n",
      " Average Recall     (AR) @[ IoU=0.50:0.95 | area= small | maxDets=100 ] = 0.017\n",
      " Average Recall     (AR) @[ IoU=0.50:0.95 | area=medium | maxDets=100 ] = 0.007\n",
      " Average Recall     (AR) @[ IoU=0.50:0.95 | area= large | maxDets=100 ] = 0.000\n",
      "[03/22 13:58:00 d2.evaluation.coco_evaluation]: Evaluation results for bbox: \n",
      "|  AP   |  AP50  |  AP75  |  APs  |  APm  |  APl  |\n",
      "|:-----:|:------:|:------:|:-----:|:-----:|:-----:|\n",
      "| 0.046 | 0.198  | 0.005  | 0.054 | 0.002 | 0.000 |\n",
      "[03/22 13:58:00 d2.evaluation.coco_evaluation]: Per-category bbox AP: \n",
      "| category   | AP    | category   | AP    |\n",
      "|:-----------|:------|:-----------|:------|\n",
      "| DT         | 0.092 | TT         | 0.000 |\n",
      "[03/22 13:58:00 d2.engine.defaults]: Evaluation results for tower_val_03012 in csv format:\n",
      "[03/22 13:58:00 d2.evaluation.testing]: copypaste: Task: bbox\n",
      "[03/22 13:58:00 d2.evaluation.testing]: copypaste: AP,AP50,AP75,APs,APm,APl\n",
      "[03/22 13:58:00 d2.evaluation.testing]: copypaste: 0.0462,0.1984,0.0049,0.0536,0.0021,0.0000\n",
      "[03/22 13:58:00 d2.checkpoint.detection_checkpoint]: [DetectionCheckpointer] Loading from /workspace/output/output_res030_bs2_03.22.13.44/model_final.pth ...\n",
      "[03/22 13:58:00 d2.evaluation.coco_evaluation]: Fast COCO eval is not built. Falling back to official COCO eval.\n",
      "WARNING [03/22 13:58:00 d2.data.datasets.coco]: \n",
      "Category ids in annotations are not in [1, #categories]! We'll apply a mapping for you.\n",
      "\n",
      "[03/22 13:58:00 d2.data.datasets.coco]: Loaded 1801 images in COCO format from /workspace/data/labels_val.json\n",
      "[03/22 13:58:00 d2.data.dataset_mapper]: [DatasetMapper] Augmentations used in inference: [ResizeShortestEdge(short_edge_length=(800, 800), max_size=1333, sample_style='choice')]\n",
      "[03/22 13:58:00 d2.data.common]: Serializing the dataset using: <class 'detectron2.data.common._TorchSerializedList'>\n",
      "[03/22 13:58:00 d2.data.common]: Serializing 1801 elements to byte tensors and concatenating them all ...\n",
      "[03/22 13:58:00 d2.data.common]: Serialized dataset takes 0.92 MiB\n",
      "[03/22 13:58:00 d2.evaluation.evaluator]: Start inference on 1801 batches\n",
      "[03/22 13:58:01 d2.evaluation.evaluator]: Inference done 11/1801. Dataloading: 0.0007 s/iter. Inference: 0.0273 s/iter. Eval: 0.0000 s/iter. Total: 0.0281 s/iter. ETA=0:00:50\n",
      "[03/22 13:58:06 d2.evaluation.evaluator]: Inference done 200/1801. Dataloading: 0.0008 s/iter. Inference: 0.0256 s/iter. Eval: 0.0000 s/iter. Total: 0.0265 s/iter. ETA=0:00:42\n",
      "[03/22 13:58:11 d2.evaluation.evaluator]: Inference done 395/1801. Dataloading: 0.0008 s/iter. Inference: 0.0252 s/iter. Eval: 0.0000 s/iter. Total: 0.0261 s/iter. ETA=0:00:36\n",
      "[03/22 13:58:16 d2.evaluation.evaluator]: Inference done 589/1801. Dataloading: 0.0008 s/iter. Inference: 0.0251 s/iter. Eval: 0.0000 s/iter. Total: 0.0260 s/iter. ETA=0:00:31\n",
      "[03/22 13:58:21 d2.evaluation.evaluator]: Inference done 785/1801. Dataloading: 0.0008 s/iter. Inference: 0.0250 s/iter. Eval: 0.0000 s/iter. Total: 0.0259 s/iter. ETA=0:00:26\n",
      "[03/22 13:58:26 d2.evaluation.evaluator]: Inference done 980/1801. Dataloading: 0.0008 s/iter. Inference: 0.0249 s/iter. Eval: 0.0000 s/iter. Total: 0.0259 s/iter. ETA=0:00:21\n",
      "[03/22 13:58:31 d2.evaluation.evaluator]: Inference done 1174/1801. Dataloading: 0.0009 s/iter. Inference: 0.0249 s/iter. Eval: 0.0000 s/iter. Total: 0.0259 s/iter. ETA=0:00:16\n",
      "[03/22 13:58:36 d2.evaluation.evaluator]: Inference done 1371/1801. Dataloading: 0.0009 s/iter. Inference: 0.0249 s/iter. Eval: 0.0000 s/iter. Total: 0.0258 s/iter. ETA=0:00:11\n",
      "[03/22 13:58:41 d2.evaluation.evaluator]: Inference done 1568/1801. Dataloading: 0.0008 s/iter. Inference: 0.0248 s/iter. Eval: 0.0000 s/iter. Total: 0.0258 s/iter. ETA=0:00:06\n",
      "[03/22 13:58:46 d2.evaluation.evaluator]: Inference done 1765/1801. Dataloading: 0.0008 s/iter. Inference: 0.0248 s/iter. Eval: 0.0000 s/iter. Total: 0.0257 s/iter. ETA=0:00:00\n",
      "[03/22 13:58:47 d2.evaluation.evaluator]: Total inference time: 0:00:46.248777 (0.025751 s / iter per device, on 1 devices)\n",
      "[03/22 13:58:47 d2.evaluation.evaluator]: Total inference pure compute time: 0:00:44 (0.024792 s / iter per device, on 1 devices)\n",
      "[03/22 13:58:47 d2.evaluation.coco_evaluation]: Preparing results for COCO format ...\n",
      "[03/22 13:58:47 d2.evaluation.coco_evaluation]: Saving results to /workspace/output/output030/coco_instances_results.json\n",
      "[03/22 13:58:47 d2.evaluation.coco_evaluation]: Evaluating predictions with official COCO API...\n",
      "Loading and preparing results...\n",
      "DONE (t=0.00s)\n",
      "creating index...\n",
      "index created!\n",
      "Running per image evaluation...\n",
      "Evaluate annotation type *bbox*\n",
      "DONE (t=0.42s).\n",
      "Accumulating evaluation results...\n",
      "DONE (t=0.06s).\n",
      " Average Precision  (AP) @[ IoU=0.50:0.95 | area=   all | maxDets= 30 ] = 0.000\n",
      " Average Precision  (AP) @[ IoU=0.50      | area=   all | maxDets= 30 ] = 0.000\n",
      " Average Precision  (AP) @[ IoU=0.75      | area=   all | maxDets= 30 ] = 0.000\n",
      " Average Precision  (AP) @[ IoU=0.50:0.95 | area= small | maxDets= 30 ] = 0.000\n",
      " Average Precision  (AP) @[ IoU=0.50:0.95 | area=medium | maxDets= 30 ] = 0.000\n",
      " Average Precision  (AP) @[ IoU=0.50:0.95 | area= large | maxDets= 30 ] = 0.000\n",
      " Average Recall     (AR) @[ IoU=0.50:0.95 | area=   all | maxDets=  1 ] = 0.000\n",
      " Average Recall     (AR) @[ IoU=0.50:0.95 | area=   all | maxDets= 10 ] = 0.000\n",
      " Average Recall     (AR) @[ IoU=0.50:0.95 | area=   all | maxDets= 30 ] = 0.000\n",
      " Average Recall     (AR) @[ IoU=0.50:0.95 | area= small | maxDets= 30 ] = 0.000\n",
      " Average Recall     (AR) @[ IoU=0.50:0.95 | area=medium | maxDets= 30 ] = 0.000\n",
      " Average Recall     (AR) @[ IoU=0.50:0.95 | area= large | maxDets= 30 ] = 0.000\n",
      "[03/22 13:58:47 d2.evaluation.coco_evaluation]: Evaluation results for bbox: \n",
      "|  AP   |  AP50  |  AP75  |  APs  |  APm  |  APl  |\n",
      "|:-----:|:------:|:------:|:-----:|:-----:|:-----:|\n",
      "| 0.000 | 0.000  | 0.000  | 0.000 | 0.000 | 0.000 |\n",
      "[03/22 13:58:47 d2.evaluation.coco_evaluation]: Per-category bbox AP: \n",
      "| category   | AP    | category   | AP    |\n",
      "|:-----------|:------|:-----------|:------|\n",
      "| DT         | 0.000 | TT         | 0.000 |\n"
     ]
    }
   ],
   "source": [
    "resolution_set = ['030']#, '035','040','045','050','070','100']\n",
    "batch_size = [2]\n",
    "\n",
    "eval_objs = []\n",
    "for bs in batch_size:\n",
    "\n",
    "    res = '030'\n",
    "    #define the names \n",
    "    dataset_name_train = \"tower_train_\" + str(res) + \"1\"\n",
    "    dataset_name_val = \"tower_val_\" + str(res) + \"1\"\n",
    "\n",
    "    try: \n",
    "        # if it throws an error that name is already registered, just change the name... \n",
    "        register_coco_instances(dataset_name_train, {}, base_path+\"labels_train.json\", base_path+\"data_\"+str(res)+\"/train/data\")\n",
    "        register_coco_instances(dataset_name_val, {}, base_path+\"labels_val.json\", base_path+\"data_\"+str(res)+\"/val/data\")\n",
    "\n",
    "        #MetadataCatalog.get(dataset_name_train).set(thing_classes=[\"distribution\", \"transmission\"])\n",
    "        #MetadataCatalog.get(dataset_name_val).set(thing_classes=[\"distribution\", \"transmission\"])\n",
    "    \n",
    "    except: \n",
    "        regis_num += 1\n",
    "        dataset_name_train += str(regis_num)\n",
    "        dataset_name_val += str(regis_num)\n",
    "\n",
    "        # if it throws an error that name is already registered, just change the name... \n",
    "        register_coco_instances(dataset_name_train, {}, base_path+\"labels_train.json\", base_path+\"data_\"+str(res)+\"/train/data\")\n",
    "        register_coco_instances(dataset_name_val, {}, base_path+\"labels_val.json\", base_path+\"data_\"+str(res)+\"/val/data\")\n",
    "        #MetadataCatalog.get(dataset_name_train).set(thing_classes=[\"distribution\", \"transmission\"])\n",
    "        #MetadataCatalog.get(dataset_name_val).set(thing_classes=[\"distribution\", \"transmission\"])\n",
    "\n",
    "    configuration, train_obj, predictor_obj = train_detectron_standard(dataset_name_train, dataset_name_val, res, batch_size = bs)\n",
    "\n",
    "    eval_objs.append(evaluate_detectron(configuration, predictor_obj, res, dataset_name_val))\n",
    "\n",
    "with open('../eval.txt', 'w') as f:\n",
    "    f.write(str(eval_objs))"
   ]
  },
  {
   "cell_type": "code",
   "execution_count": null,
   "metadata": {},
   "outputs": [],
   "source": [
    "# warning message at the beginning of training \"Skip loading parameter ....\" can be ignored, \n",
    "#it is due to the fact that pretrained model had a different number of categories than our dataset\n",
    "#https://github.com/facebookresearch/detectron2/issues/196"
   ]
  },
  {
   "cell_type": "code",
   "execution_count": null,
   "metadata": {},
   "outputs": [],
   "source": [
    "evaluate_detectron(configuration, predictor_obj, res, dataset_name_val)"
   ]
  },
  {
   "cell_type": "code",
   "execution_count": null,
   "metadata": {},
   "outputs": [],
   "source": [
    "import numpy as np\n",
    "import os\n",
    "import json\n",
    "import cv2\n",
    "import random"
   ]
  },
  {
   "cell_type": "code",
   "execution_count": null,
   "metadata": {},
   "outputs": [],
   "source": [
    "import time\n",
    "from plyer import notification\n",
    "notification.notify(\n",
    "    title = \"DETECTRON2\",\n",
    "    message = \"YOU'R MODEL FINISHED TRAINING. LOOK AT THE OUTPUT NOW\",\n",
    "    timeout = 15\n",
    "    )"
   ]
  },
  {
   "cell_type": "code",
   "execution_count": 24,
   "metadata": {},
   "outputs": [
    {
     "data": {
      "text/plain": [
       "'/workspace/scripts'"
      ]
     },
     "execution_count": 24,
     "metadata": {},
     "output_type": "execute_result"
    }
   ],
   "source": [
    "os.getcwd()"
   ]
  },
  {
   "cell_type": "code",
   "execution_count": 25,
   "metadata": {
    "scrolled": true
   },
   "outputs": [
    {
     "name": "stdout",
     "output_type": "stream",
     "text": [
      "/workspace/output/output_res030_bs2_03.22.13.44\n"
     ]
    }
   ],
   "source": [
    "import glob\n",
    "list_of_files = glob.glob('/workspace/output/*') # * means all if need specific format then *.csv\n",
    "latest_file = max(list_of_files, key=os.path.getctime)\n",
    "print(latest_file)"
   ]
  },
  {
   "cell_type": "code",
   "execution_count": 28,
   "metadata": {},
   "outputs": [],
   "source": [
    "latest_file = '/workspace/ue_setup/outputs_small_thesis_trainsmall_thesis_val'"
   ]
  },
  {
   "cell_type": "code",
   "execution_count": 29,
   "metadata": {},
   "outputs": [
    {
     "data": {
      "image/png": "[encoded data removed]",
      "text/plain": [
       "<Figure size 640x480 with 1 Axes>"
      ]
     },
     "metadata": {},
     "output_type": "display_data"
    }
   ],
   "source": [
    "# Taken from https://eidos-ai.medium.com/training-on-detectron2-with-a-validation-set-and-plot-loss-on-it-to-avoid-overfitting-6449418fbf4e\n",
    "# https://gist.github.com/ortegatron/c0dad15e49c2b74de8bb09a5615d9f6b\n",
    "import matplotlib.pyplot as plt \n",
    "\n",
    "resolution = \"030\"\n",
    "\n",
    "for b in [5]:\n",
    "    \n",
    "    experiment_folder = latest_file\n",
    "    def load_json_arr(json_path):\n",
    "        lines = []\n",
    "        with open(json_path, 'r') as f:\n",
    "            for line in f:\n",
    "                lines.append(json.loads(line))\n",
    "        return lines\n",
    "\n",
    "    experiment_metrics = load_json_arr(experiment_folder + '/metrics.json')\n",
    "\n",
    "    plt.plot(\n",
    "        [x['iteration'] for x in experiment_metrics if 'loss_box_reg' in x], \n",
    "        [x['loss_box_reg'] for x in experiment_metrics if 'loss_box_reg' in x])\n",
    "    plt.plot(\n",
    "        [x['iteration'] for x in experiment_metrics if 'validation_loss' in x], \n",
    "        [x['validation_loss'] for x in experiment_metrics if 'validation_loss' in x])\n",
    "    plt.plot(\n",
    "        [x['iteration'] for x in experiment_metrics if 'loss_cls' in x], \n",
    "        [x['loss_cls'] for x in experiment_metrics if 'loss_cls' in x])\n",
    "    plt.plot(\n",
    "        [x['iteration'] for x in experiment_metrics if 'total_loss' in x], \n",
    "        [x['total_loss'] for x in experiment_metrics if 'total_loss' in x])\n",
    "    plt.legend(['loss_box_reg', 'validation_loss', 'loss_cls', 'total_loss'], loc='upper left')\n",
    "\n",
    "    \n",
    "plt.grid()\n",
    "plt.show()"
   ]
  },
  {
   "cell_type": "code",
   "execution_count": null,
   "metadata": {},
   "outputs": [],
   "source": [
    "# visualise how the boxes look at the best model performance "
   ]
  },
  {
   "cell_type": "code",
   "execution_count": null,
   "metadata": {},
   "outputs": [],
   "source": [
    "%load_ext tensorboard\n",
    "%tensorboard --logdir output"
   ]
  },
  {
   "cell_type": "code",
   "execution_count": null,
   "metadata": {},
   "outputs": [],
   "source": [
    "import matplotlib.pyplot as plt \n",
    "\n",
    "APs = [list(i.items())[0][1][\"AP\"] for i in eval_objs]\n",
    "RES = [int(r) for r in resolution_set]\n",
    "\n",
    "plt.scatter(RES, APs)\n",
    "plt.plot(RES, APs)\n",
    "plt.grid()\n",
    "plt.title(\"Average Precision (AP) scores against Image Resolution in cm\")\n",
    "plt.xlabel(\"Image Resolution in cm/pixel\")\n",
    "plt.ylabel(\"Average Precision (0-100)\")\n",
    "plt.show()\n",
    "\n",
    "plt.savefig('../figures/mastergraph.png')"
   ]
  },
  {
   "cell_type": "markdown",
   "metadata": {
    "id": "s-7MAVA5BeEA"
   },
   "source": [
    "## Visualise"
   ]
  },
  {
   "cell_type": "code",
   "execution_count": null,
   "metadata": {},
   "outputs": [],
   "source": [
    "# function to check whether detectron loads dataset correctly\n",
    "## TODO JOHANNES: KANNST DU BITTE MAL CHECKEN, OB DER UNSER DATASET CATALOG RICHTIG LÄD?"
   ]
  },
  {
   "cell_type": "code",
   "execution_count": null,
   "metadata": {},
   "outputs": [],
   "source": [
    "def my_dataset_function():\n",
    "  ...\n",
    "  return list[dict] in the following format\n",
    "\n",
    "from detectron2.data import DatasetCatalog\n",
    "DatasetCatalog.register(\"my_dataset\", my_dataset_function)\n",
    "# later, to access the data:\n",
    "data: List[Dict] = DatasetCatalog.get(\"my_dataset\")"
   ]
  },
  {
   "cell_type": "code",
   "execution_count": null,
   "metadata": {},
   "outputs": [],
   "source": [
    "from detectron2.utils.visualizer import ColorMode\n",
    "\n",
    "import random\n",
    "import cv2\n",
    "import matplotlib.pyplot as plt\n",
    "\n",
    "def plot_sample(dataset_name, n=1):\n",
    "    dataset_custom = DatasetCatalog.get(dataset_name)\n",
    "    dataset_custom_metadata = MetadataCatalog.get(dataset_name)\n",
    "    \n",
    "    for s in random.sample(dataset_custom, n):\n",
    "        img = cv2.imread(s[\"file_name\"])\n",
    "        v = Visualizer(img[:, :, ::-1], metadata=dataset_custom_metadata, scale=0.5)\n",
    "        v = v.draw_dataset_dict(s)\n",
    "        plt.figure(figsize=(15,20))\n",
    "        plt.imshow(v.get_image())\n",
    "        plt.imshow()"
   ]
  },
  {
   "cell_type": "code",
   "execution_count": null,
   "metadata": {},
   "outputs": [],
   "source": [
    "print(base_path)"
   ]
  },
  {
   "cell_type": "code",
   "execution_count": null,
   "metadata": {
    "colab": {
     "base_uri": "https://localhost:8080/",
     "height": 785
    },
    "executionInfo": {
     "elapsed": 2294,
     "status": "ok",
     "timestamp": 1675598581911,
     "user": {
      "displayName": "Johannes Halkenhäußer",
      "userId": "10212423884318197669"
     },
     "user_tz": -60
    },
    "id": "LvjGgcmttyok",
    "outputId": "1494f733-b837-4276-9820-f7b50402574d"
   },
   "outputs": [],
   "source": [
    "from detectron2.utils.visualizer import ColorMode\n",
    "\n",
    "val_or_train = \"train\" # write a string here (either \"val\" or \"train\")\n",
    "location = \"\"\n",
    "dataset_dicts = json.load(open(f'{base_path}/labels_{val_or_train}.json'))\n",
    "\n",
    "for d in random.sample(dataset_dicts['images'], 3):  \n",
    "    im = cv2.imread(f'{base_path}/data_030/{val_or_train}/data/{d[\"file_name\"]}')\n",
    "\n",
    "    outputs = predictor_obj(im)  # format is documented at https://detectron2.readthedocs.io/tutorials/models.html#model-output-format\n",
    "    v = Visualizer(im[:, :, ::-1],\n",
    "                   metadata= MetadataCatalog.get(\"tower_val1\"), \n",
    "                   scale=0.5 \n",
    "                   #,instance_mode=ColorMode.IMAGE_BW   # remove the colors of unsegmented pixels. This option is only available for segmentation models\n",
    "    )\n",
    "    out = v.draw_instance_predictions(outputs[\"instances\"].to(\"cpu\"))\n",
    "    cv2.imshow(out.get_image()[:, :, ::-1])"
   ]
  },
  {
   "cell_type": "code",
   "execution_count": null,
   "metadata": {
    "colab": {
     "base_uri": "https://localhost:8080/"
    },
    "executionInfo": {
     "elapsed": 3,
     "status": "ok",
     "timestamp": 1675598420454,
     "user": {
      "displayName": "Johannes Halkenhäußer",
      "userId": "10212423884318197669"
     },
     "user_tz": -60
    },
    "id": "l8b2tdrNCdNd",
    "outputId": "84cb3de8-417b-44e4-b446-4b4f8f1433dc"
   },
   "outputs": [],
   "source": [
    "eval_objs"
   ]
  },
  {
   "cell_type": "code",
   "execution_count": null,
   "metadata": {
    "id": "r4adq9_Bctfj"
   },
   "outputs": [],
   "source": [
    "import matplotlib.pyplot as plt\n",
    "\n",
    "plt.plot(eval_obs[])"
   ]
  }
 ],
 "metadata": {
  "accelerator": "GPU",
  "colab": {
   "authorship_tag": "ABX9TyPBfVVlldJ7aWYNaGGPTTGN",
   "mount_file_id": "1C9LTrJRVpxxodMuaNcbt8uuqvk4obW12",
   "provenance": []
  },
  "gpuClass": "standard",
  "kernelspec": {
   "display_name": "Python 3",
   "language": "python",
   "name": "python3"
  },
  "language_info": {
   "codemirror_mode": {
    "name": "ipython",
    "version": 3
   },
   "file_extension": ".py",
   "mimetype": "text/x-python",
   "name": "python",
   "nbconvert_exporter": "python",
   "pygments_lexer": "ipython3",
   "version": "3.8.10"
  }
 },
 "nbformat": 4,
 "nbformat_minor": 1
}
