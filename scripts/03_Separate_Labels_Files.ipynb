{
 "cells": [
  {
   "cell_type": "markdown",
   "metadata": {},
   "source": [
    "# 03_Separate_Labels_Files\n",
    "\n",
    "Script to separate the labels files into subsets for each tower type.\n"
   ]
  },
  {
   "cell_type": "code",
   "execution_count": 2,
   "metadata": {
    "scrolled": true
   },
   "outputs": [
    {
     "name": "stdout",
     "output_type": "stream",
     "text": [
      "Collecting geopandas\n",
      "  Downloading geopandas-0.12.2-py3-none-any.whl (1.1 MB)\n",
      "\u001b[K     |████████████████████████████████| 1.1 MB 3.4 MB/s eta 0:00:01\n",
      "\u001b[?25hRequirement already satisfied: packaging in /usr/local/lib/python3.8/dist-packages (from geopandas) (21.3)\n",
      "Collecting pyproj>=2.6.1.post1\n",
      "  Downloading pyproj-3.5.0-cp38-cp38-manylinux_2_17_x86_64.manylinux2014_x86_64.whl (7.8 MB)\n",
      "\u001b[K     |████████████████████████████████| 7.8 MB 129.5 MB/s eta 0:00:01\n",
      "\u001b[?25hCollecting fiona>=1.8\n",
      "  Downloading Fiona-1.9.2-cp38-cp38-manylinux_2_17_x86_64.manylinux2014_x86_64.whl (16.1 MB)\n",
      "\u001b[K     |████████████████████████████████| 16.1 MB 63.2 MB/s eta 0:00:01\n",
      "\u001b[?25hCollecting shapely>=1.7\n",
      "  Downloading shapely-2.0.1-cp38-cp38-manylinux_2_17_x86_64.manylinux2014_x86_64.whl (2.3 MB)\n",
      "\u001b[K     |████████████████████████████████| 2.3 MB 57.3 MB/s eta 0:00:01\n",
      "\u001b[?25hCollecting pandas>=1.0.0\n",
      "  Downloading pandas-1.5.3-cp38-cp38-manylinux_2_17_x86_64.manylinux2014_x86_64.whl (12.2 MB)\n",
      "\u001b[K     |████████████████████████████████| 12.2 MB 65.0 MB/s eta 0:00:01\n",
      "\u001b[?25hRequirement already satisfied: pyparsing!=3.0.5,>=2.0.2 in /usr/local/lib/python3.8/dist-packages (from packaging->geopandas) (3.0.9)\n",
      "Requirement already satisfied: certifi in /usr/lib/python3/dist-packages (from pyproj>=2.6.1.post1->geopandas) (2019.11.28)\n",
      "Requirement already satisfied: click~=8.0 in /usr/local/lib/python3.8/dist-packages (from fiona>=1.8->geopandas) (8.1.3)\n",
      "Collecting cligj>=0.5\n",
      "  Downloading cligj-0.7.2-py3-none-any.whl (7.1 kB)\n",
      "Requirement already satisfied: importlib-metadata; python_version < \"3.10\" in /usr/local/lib/python3.8/dist-packages (from fiona>=1.8->geopandas) (5.0.0)\n",
      "Collecting click-plugins>=1.0\n",
      "  Downloading click_plugins-1.1.1-py2.py3-none-any.whl (7.5 kB)\n",
      "Collecting munch>=2.3.2\n",
      "  Downloading munch-2.5.0-py2.py3-none-any.whl (10 kB)\n",
      "Requirement already satisfied: attrs>=19.2.0 in /usr/local/lib/python3.8/dist-packages (from fiona>=1.8->geopandas) (22.1.0)\n",
      "Requirement already satisfied: numpy>=1.14 in /usr/local/lib/python3.8/dist-packages (from shapely>=1.7->geopandas) (1.23.4)\n",
      "Requirement already satisfied: python-dateutil>=2.8.1 in /usr/local/lib/python3.8/dist-packages (from pandas>=1.0.0->geopandas) (2.8.2)\n",
      "Requirement already satisfied: pytz>=2020.1 in /usr/local/lib/python3.8/dist-packages (from pandas>=1.0.0->geopandas) (2023.3)\n",
      "Requirement already satisfied: zipp>=0.5 in /usr/local/lib/python3.8/dist-packages (from importlib-metadata; python_version < \"3.10\"->fiona>=1.8->geopandas) (3.10.0)\n",
      "Requirement already satisfied: six in /usr/lib/python3/dist-packages (from munch>=2.3.2->fiona>=1.8->geopandas) (1.14.0)\n",
      "Installing collected packages: pyproj, cligj, click-plugins, munch, fiona, shapely, pandas, geopandas\n",
      "Successfully installed click-plugins-1.1.1 cligj-0.7.2 fiona-1.9.2 geopandas-0.12.2 munch-2.5.0 pandas-1.5.3 pyproj-3.5.0 shapely-2.0.1\n",
      "\u001b[33mWARNING: You are using pip version 20.2.4; however, version 23.0.1 is available.\n",
      "You should consider upgrading via the '/usr/bin/python3 -m pip install --upgrade pip' command.\u001b[0m\n"
     ]
    }
   ],
   "source": [
    "!pip install geopandas"
   ]
  },
  {
   "cell_type": "code",
   "execution_count": 2,
   "metadata": {},
   "outputs": [],
   "source": [
    "import os\n",
    "import sys\n",
    "import json\n",
    "import pandas as pd\n",
    "import matplotlib.pyplot as plt\n",
    "import geopandas as gpd\n",
    "import numpy as np"
   ]
  },
  {
   "cell_type": "code",
   "execution_count": 3,
   "metadata": {},
   "outputs": [],
   "source": [
    "base_path = \"/workspace/data/\"\n",
    "\n",
    "os.chdir(base_path)"
   ]
  },
  {
   "cell_type": "code",
   "execution_count": 4,
   "metadata": {},
   "outputs": [
    {
     "data": {
      "text/plain": [
       "'/workspace/data/'"
      ]
     },
     "execution_count": 4,
     "metadata": {},
     "output_type": "execute_result"
    }
   ],
   "source": [
    "base_path"
   ]
  },
  {
   "cell_type": "markdown",
   "metadata": {},
   "source": [
    "## change all category label for the gridtracer sample data to 'tower'"
   ]
  },
  {
   "cell_type": "markdown",
   "metadata": {},
   "source": [
    "### for train"
   ]
  },
  {
   "cell_type": "code",
   "execution_count": 4,
   "metadata": {},
   "outputs": [],
   "source": [
    "jf = open(\"labels_train.json\")\n",
    "labels_train = json.load(jf)"
   ]
  },
  {
   "cell_type": "code",
   "execution_count": 5,
   "metadata": {},
   "outputs": [],
   "source": [
    "# set all annotations to one category\n",
    "for annotation in labels_train[\"annotations\"]:\n",
    "    annotation[\"category_id\"] = 0"
   ]
  },
  {
   "cell_type": "code",
   "execution_count": 6,
   "metadata": {},
   "outputs": [],
   "source": [
    "# Remove all categories except one from the category dictionary\n",
    "labels_train[\"categories\"] = [cat for cat in labels_train[\"categories\"] if cat[\"name\"] == \"DT\"]\n",
    "\n",
    "# Rename the remaining category to \"tower\"\n",
    "labels_train[\"categories\"][0][\"name\"] = \"tower\""
   ]
  },
  {
   "cell_type": "code",
   "execution_count": 7,
   "metadata": {},
   "outputs": [],
   "source": [
    "with open(\"labels_tower_train.json\", \"w\") as f:\n",
    "    json.dump(labels_train, f)"
   ]
  },
  {
   "cell_type": "markdown",
   "metadata": {},
   "source": [
    "### for val"
   ]
  },
  {
   "cell_type": "code",
   "execution_count": 8,
   "metadata": {},
   "outputs": [],
   "source": [
    "jf = open(\"labels_val.json\")\n",
    "labels_val = json.load(jf)"
   ]
  },
  {
   "cell_type": "code",
   "execution_count": 9,
   "metadata": {},
   "outputs": [],
   "source": [
    "for annotation in labels_val[\"annotations\"]:\n",
    "    annotation[\"category_id\"] = 0"
   ]
  },
  {
   "cell_type": "code",
   "execution_count": 10,
   "metadata": {},
   "outputs": [],
   "source": [
    "# Remove all categories except one\n",
    "labels_val[\"categories\"] = [cat for cat in labels_val[\"categories\"] if cat[\"name\"] == \"DT\"]\n",
    "\n",
    "# Rename the remaining category to \"tower\"\n",
    "labels_val[\"categories\"][0][\"name\"] = \"tower\""
   ]
  },
  {
   "cell_type": "code",
   "execution_count": 11,
   "metadata": {},
   "outputs": [],
   "source": [
    "with open(\"labels_tower_val.json\", \"w\") as f:\n",
    "    json.dump(labels_val, f)"
   ]
  },
  {
   "cell_type": "markdown",
   "metadata": {},
   "source": [
    "### for test"
   ]
  },
  {
   "cell_type": "code",
   "execution_count": 5,
   "metadata": {},
   "outputs": [],
   "source": [
    "jf = open(\"labels_test.json\")\n",
    "labels_test = json.load(jf)"
   ]
  },
  {
   "cell_type": "code",
   "execution_count": 6,
   "metadata": {},
   "outputs": [],
   "source": [
    "for annotation in labels_test[\"annotations\"]:\n",
    "    annotation[\"category_id\"] = 0"
   ]
  },
  {
   "cell_type": "code",
   "execution_count": 7,
   "metadata": {},
   "outputs": [],
   "source": [
    "# Remove all categories except one\n",
    "labels_test[\"categories\"] = [cat for cat in labels_test[\"categories\"] if cat[\"name\"] == \"DT\"]\n",
    "\n",
    "# Rename the remaining category to \"tower\"\n",
    "labels_test[\"categories\"][0][\"name\"] = \"tower\""
   ]
  },
  {
   "cell_type": "code",
   "execution_count": 9,
   "metadata": {},
   "outputs": [],
   "source": [
    "with open(\"labels_tower_test.json\", \"w\") as f:\n",
    "    json.dump(labels_test, f)"
   ]
  },
  {
   "cell_type": "markdown",
   "metadata": {},
   "source": [
    "## Clean train labels file from Other Towers (this category only exists in the training data)"
   ]
  },
  {
   "cell_type": "code",
   "execution_count": 11,
   "metadata": {},
   "outputs": [],
   "source": [
    "# Iterate over the annotations list, removing any dictionaries that have category_id equal to 1\n",
    "labels_train['annotations'] = [ann for ann in labels_train['annotations'] if ann['category_id'] != 1]\n",
    "\n",
    "# Save the modified dictionary back to a JSON file\n",
    "with open('labels_train_new.json', 'w') as f:\n",
    "    json.dump(labels_train, f)"
   ]
  },
  {
   "cell_type": "code",
   "execution_count": 12,
   "metadata": {},
   "outputs": [
    {
     "name": "stdout",
     "output_type": "stream",
     "text": [
      "{'id': 0, 'name': 'DT', 'supercategory': None}\n",
      "{'id': 1, 'name': 'OT', 'supercategory': None}\n",
      "{'id': 2, 'name': 'TT', 'supercategory': None}\n"
     ]
    }
   ],
   "source": [
    "for i in labels_train['categories']:\n",
    "    print(i)"
   ]
  },
  {
   "cell_type": "code",
   "execution_count": 13,
   "metadata": {},
   "outputs": [],
   "source": [
    "labels_train['categories'] = [cat for cat in labels_train['categories'] if cat['id'] != 1]\n",
    "\n",
    "# Save the modified dictionary back to a JSON file\n",
    "with open('labels_train_new.json', 'w') as f:\n",
    "    json.dump(labels_train, f)"
   ]
  },
  {
   "cell_type": "code",
   "execution_count": null,
   "metadata": {},
   "outputs": [],
   "source": []
  },
  {
   "cell_type": "markdown",
   "metadata": {},
   "source": [
    "## create label json file for train, val, test for only transmission towers"
   ]
  },
  {
   "cell_type": "markdown",
   "metadata": {},
   "source": [
    "### for test"
   ]
  },
  {
   "cell_type": "code",
   "execution_count": 14,
   "metadata": {},
   "outputs": [],
   "source": [
    "jf = open(\"labels_train_new.json\")\n",
    "labels_train = json.load(jf)"
   ]
  },
  {
   "cell_type": "code",
   "execution_count": 15,
   "metadata": {},
   "outputs": [
    {
     "name": "stdout",
     "output_type": "stream",
     "text": [
      "{'id': 0, 'name': 'DT', 'supercategory': None}\n",
      "{'id': 2, 'name': 'TT', 'supercategory': None}\n"
     ]
    }
   ],
   "source": [
    "for i in labels_train['categories']:\n",
    "    print(i)"
   ]
  },
  {
   "cell_type": "code",
   "execution_count": 16,
   "metadata": {},
   "outputs": [],
   "source": [
    "# Iterate over the annotations list, removing any dictionaries that have category_id equal to 1\n",
    "labels_train['annotations'] = [ann for ann in labels_train['annotations'] if ann['category_id'] != 0]\n",
    "\n",
    "labels_train['categories'] = [cat for cat in labels_train['categories'] if cat['id'] != 0]\n"
   ]
  },
  {
   "cell_type": "code",
   "execution_count": 17,
   "metadata": {},
   "outputs": [
    {
     "name": "stdout",
     "output_type": "stream",
     "text": [
      "{'id': 2, 'name': 'TT', 'supercategory': None}\n"
     ]
    }
   ],
   "source": [
    "for i in labels_train['categories']:\n",
    "    print(i)"
   ]
  },
  {
   "cell_type": "code",
   "execution_count": 18,
   "metadata": {},
   "outputs": [],
   "source": [
    "# Save dictionary back to a JSON file\n",
    "with open('labels_train_TT.json', 'w') as f:\n",
    "    json.dump(labels_train, f)"
   ]
  },
  {
   "cell_type": "markdown",
   "metadata": {},
   "source": [
    "### for val"
   ]
  },
  {
   "cell_type": "code",
   "execution_count": 19,
   "metadata": {},
   "outputs": [],
   "source": [
    "jf = open(\"labels_val.json\")\n",
    "labels_val = json.load(jf)"
   ]
  },
  {
   "cell_type": "code",
   "execution_count": 20,
   "metadata": {},
   "outputs": [],
   "source": [
    "# Iterate over the annotations list, removing any dictionaries that have category_id equal to 1\n",
    "labels_val['annotations'] = [ann for ann in labels_val['annotations'] if ann['category_id'] != 0]\n",
    "\n",
    "labels_val['categories'] = [cat for cat in labels_val['categories'] if cat['id'] != 0]\n"
   ]
  },
  {
   "cell_type": "code",
   "execution_count": 21,
   "metadata": {},
   "outputs": [
    {
     "name": "stdout",
     "output_type": "stream",
     "text": [
      "{'id': 1, 'name': 'TT', 'supercategory': None}\n"
     ]
    }
   ],
   "source": [
    "for i in labels_val['categories']:\n",
    "    print(i)"
   ]
  },
  {
   "cell_type": "code",
   "execution_count": 22,
   "metadata": {},
   "outputs": [],
   "source": [
    "# Save dictionary back to a JSON file\n",
    "with open('labels_val_TT.json', 'w') as f:\n",
    "    json.dump(labels_val, f)"
   ]
  },
  {
   "cell_type": "markdown",
   "metadata": {},
   "source": [
    "### for test"
   ]
  },
  {
   "cell_type": "code",
   "execution_count": 24,
   "metadata": {},
   "outputs": [],
   "source": [
    "jf = open(\"labels_test.json\")\n",
    "labels_test = json.load(jf)"
   ]
  },
  {
   "cell_type": "code",
   "execution_count": 25,
   "metadata": {},
   "outputs": [],
   "source": [
    "# Iterate over the annotations list, removing any dictionaries that have category_id equal to 1\n",
    "labels_test['annotations'] = [ann for ann in labels_test['annotations'] if ann['category_id'] != 0]\n",
    "\n",
    "labels_test['categories'] = [cat for cat in labels_test['categories'] if cat['id'] != 0]"
   ]
  },
  {
   "cell_type": "code",
   "execution_count": 26,
   "metadata": {},
   "outputs": [
    {
     "name": "stdout",
     "output_type": "stream",
     "text": [
      "{'id': 1, 'name': 'TT', 'supercategory': None}\n"
     ]
    }
   ],
   "source": [
    "for i in labels_test['categories']:\n",
    "    print(i)"
   ]
  },
  {
   "cell_type": "code",
   "execution_count": 27,
   "metadata": {},
   "outputs": [],
   "source": [
    "# Save dictionary back to a JSON file\n",
    "with open('labels_test_TT.json', 'w') as f:\n",
    "    json.dump(labels_test, f)"
   ]
  },
  {
   "cell_type": "code",
   "execution_count": null,
   "metadata": {},
   "outputs": [],
   "source": []
  },
  {
   "cell_type": "markdown",
   "metadata": {},
   "source": [
    "# lets do the same for only the distribution towers"
   ]
  },
  {
   "cell_type": "markdown",
   "metadata": {},
   "source": [
    "### for train"
   ]
  },
  {
   "cell_type": "code",
   "execution_count": 30,
   "metadata": {},
   "outputs": [],
   "source": [
    "jf = open(\"labels_train_new.json\")\n",
    "labels_train = json.load(jf)"
   ]
  },
  {
   "cell_type": "code",
   "execution_count": 31,
   "metadata": {},
   "outputs": [],
   "source": [
    "# Iterate over the annotations list, removing any dictionaries that have category_id equal to 1\n",
    "labels_train['annotations'] = [ann for ann in labels_train['annotations'] if ann['category_id'] != 2]\n",
    "\n",
    "labels_train['categories'] = [cat for cat in labels_train['categories'] if cat['id'] != 2]"
   ]
  },
  {
   "cell_type": "code",
   "execution_count": 32,
   "metadata": {},
   "outputs": [
    {
     "name": "stdout",
     "output_type": "stream",
     "text": [
      "{'id': 0, 'name': 'DT', 'supercategory': None}\n"
     ]
    }
   ],
   "source": [
    "for i in labels_train['categories']:\n",
    "    print(i)"
   ]
  },
  {
   "cell_type": "code",
   "execution_count": 33,
   "metadata": {},
   "outputs": [],
   "source": [
    "# Save the modified dictionary back to a JSON file\n",
    "with open('labels_train_DT.json', 'w') as f:\n",
    "    json.dump(labels_train, f)"
   ]
  },
  {
   "cell_type": "markdown",
   "metadata": {},
   "source": [
    "### for val"
   ]
  },
  {
   "cell_type": "code",
   "execution_count": 3,
   "metadata": {},
   "outputs": [],
   "source": [
    "jf = open(\"labels_val.json\")\n",
    "labels_val = json.load(jf)"
   ]
  },
  {
   "cell_type": "code",
   "execution_count": 4,
   "metadata": {},
   "outputs": [],
   "source": [
    "# Iterate over the annotations list, removing any dictionaries that have category_id equal to 1 ## DT = 0, TT = 1\n",
    "labels_val['annotations'] = [ann for ann in labels_val['annotations'] if ann['category_id'] != 1]\n",
    "\n",
    "labels_val['categories'] = [cat for cat in labels_val['categories'] if cat['id'] != 1]\n"
   ]
  },
  {
   "cell_type": "code",
   "execution_count": 5,
   "metadata": {},
   "outputs": [],
   "source": [
    "# Save the modified dictionary back to a JSON file\n",
    "with open('labels_val_DT.json', 'w') as f:\n",
    "    json.dump(labels_val, f)"
   ]
  },
  {
   "cell_type": "markdown",
   "metadata": {},
   "source": [
    "### for test"
   ]
  },
  {
   "cell_type": "code",
   "execution_count": 3,
   "metadata": {},
   "outputs": [],
   "source": [
    "jf = open(\"labels_test_DT.json\")\n",
    "labels_test = json.load(jf)"
   ]
  },
  {
   "cell_type": "code",
   "execution_count": 4,
   "metadata": {},
   "outputs": [],
   "source": [
    "# Iterate over the annotations list, removing any dictionaries that have category_id equal to 1\n",
    "labels_test['annotations'] = [ann for ann in labels_test['annotations'] if ann['category_id'] != 1]\n",
    "\n",
    "labels_test['categories'] = [cat for cat in labels_test['categories'] if cat['id'] != 1]"
   ]
  },
  {
   "cell_type": "code",
   "execution_count": 5,
   "metadata": {},
   "outputs": [],
   "source": [
    "# Save the modified dictionary back to a JSON file\n",
    "with open('labels_test_DT.json', 'w') as f:\n",
    "    json.dump(labels_test, f)"
   ]
  },
  {
   "cell_type": "markdown",
   "metadata": {},
   "source": [
    "## Remap category IDs for clean labels file new"
   ]
  },
  {
   "cell_type": "code",
   "execution_count": 5,
   "metadata": {},
   "outputs": [],
   "source": [
    "def remap_category(json_file_path, old_id, new_id):\n",
    "    # Load the JSON file\n",
    "    with open(json_file_path, 'r') as f:\n",
    "        data = json.load(f)\n",
    "        \n",
    "    for cat in data['categories']:\n",
    "        if cat['id'] == old_id:\n",
    "            cat['id'] = new_id\n",
    "\n",
    "    # Loop through the annotations and update the category ID\n",
    "    for annotation in data['annotations']:\n",
    "        if annotation['category_id'] == old_id:\n",
    "            annotation['category_id'] = new_id\n",
    "\n",
    "    # Write the updated data to the same file\n",
    "    with open(json_file_path, 'w') as f:\n",
    "        json.dump(data, f)\n",
    "\n",
    "remap_category('labels_train_new.json', 2, 1)"
   ]
  },
  {
   "cell_type": "code",
   "execution_count": null,
   "metadata": {},
   "outputs": [],
   "source": []
  }
 ],
 "metadata": {
  "kernelspec": {
   "display_name": "Python 3",
   "language": "python",
   "name": "python3"
  },
  "language_info": {
   "codemirror_mode": {
    "name": "ipython",
    "version": 3
   },
   "file_extension": ".py",
   "mimetype": "text/x-python",
   "name": "python",
   "nbconvert_exporter": "python",
   "pygments_lexer": "ipython3",
   "version": "3.8.10"
  }
 },
 "nbformat": 4,
 "nbformat_minor": 2
}
